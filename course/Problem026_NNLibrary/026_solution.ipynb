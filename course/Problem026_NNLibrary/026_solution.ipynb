{
  "nbformat": 4,
  "nbformat_minor": 0,
  "metadata": {
    "kernelspec": {
      "name": "python3",
      "language": "python",
      "display_name": "Python 3"
    },
    "language_info": {
      "codemirror_mode": {
        "name": "ipython",
        "version": 3
      },
      "file_extension": ".py",
      "mimetype": "text/x-python",
      "name": "python",
      "nbconvert_exporter": "python",
      "pygments_lexer": "ipython3",
      "version": "3.8.2-final"
    },
    "colab": {
      "name": "Copy of 026_solution.ipynb",
      "provenance": [],
      "include_colab_link": true
    }
  },
  "cells": [
    {
      "cell_type": "markdown",
      "metadata": {
        "id": "view-in-github",
        "colab_type": "text"
      },
      "source": [
        "<a href=\"https://colab.research.google.com/github/anna985/pml-1/blob/master/course/Problem026_NNLibrary/026_solution.ipynb\" target=\"_parent\"><img src=\"https://colab.research.google.com/assets/colab-badge.svg\" alt=\"Open In Colab\"/></a>"
      ]
    },
    {
      "cell_type": "code",
      "metadata": {
        "id": "DdI2BAoHr6BX"
      },
      "source": [
        "# Imports\n",
        "import numpy as np\n",
        "from sklearn import datasets\n",
        "from sklearn import preprocessing\n",
        "from sklearn.model_selection import train_test_split\n",
        "from keras.datasets import mnist\n",
        "from keras.models import Sequential\n",
        "from keras.layers.core import Dense, Activation\n",
        "from keras.optimizers import SGD\n",
        "from keras.utils import np_utils\n",
        "from numpy.random import seed\n",
        "seed(101)\n",
        "\n"
      ],
      "execution_count": null,
      "outputs": []
    },
    {
      "cell_type": "markdown",
      "metadata": {
        "id": "lwzdP-xCr6Bd"
      },
      "source": [
        "## sklearn MNIST(8X8) dataset with dense NN using keras (Same as problem 25)"
      ]
    },
    {
      "cell_type": "code",
      "metadata": {
        "tags": [
          "outputPrepend"
        ],
        "id": "FvQjiPq-r6Bd"
      },
      "source": [
        "# Preparing the digits dataset\n",
        "digits = datasets.load_digits()\n",
        "\n",
        "X = digits.data\n",
        "\n",
        "# One hot encoding of target (Y)\n",
        "Y = np_utils.to_categorical(digits.target, 10)\n",
        "\n",
        "# Train test split\n",
        "X_train, X_test, Y_train, Y_test = train_test_split(X, Y, test_size=0.25, random_state=42)\n",
        "\n",
        "\n",
        "# Model Architecture [(64, None), (40, relu), (20, relu), (10, sigmoid)]\n",
        "model = Sequential()\n",
        "model.add(Dense(40, activation='relu', input_shape=(64,)))\n",
        "model.add(Dense(20, activation='relu'))\n",
        "model.add(Dense(10, activation='sigmoid'))\n",
        "model.summary()\n",
        "\n",
        "#Model hyperparams. (though architecture also is a hyperparam)\n",
        "model.compile(loss='categorical_crossentropy',\n",
        "                optimizer=SGD(lr=0.01, momentum=0.9),\n",
        "                metrics=['accuracy'])\n",
        "\n",
        "#Training the model\n",
        "model.fit(X_train, Y_train,\n",
        "            batch_size=len(X_train), epochs=100,\n",
        "            verbose=1, validation_split=0.2)\n",
        "\n",
        "# Testing the model\n",
        "score = model.evaluate(X_test, Y_test, verbose=1)\n",
        "\n",
        "print(\"Test loss:\", score[0])\n",
        "print('Test accuracy:', score[1])"
      ],
      "execution_count": null,
      "outputs": []
    },
    {
      "cell_type": "markdown",
      "metadata": {
        "id": "juEc4e4tr6Be"
      },
      "source": [
        "## TBD: Use same Neural Network as above on standard MNIST dataset (28X28 = 784 pixels) "
      ]
    },
    {
      "cell_type": "code",
      "metadata": {
        "id": "HlIfgNHKr6Be"
      },
      "source": [
        "\n",
        "from keras.datasets import mnist\n",
        "#Data: shuffled and split between train and test sets\n",
        "(X_train, Y_train), (X_test, Y_test) = mnist.load_data()\n",
        "\n",
        "# Normalized features\n",
        "X_train = X_train.reshape(60000, 28*28)/255.0\n",
        "X_test = X_test.reshape(10000, 28*28)/255.0\n",
        "\n",
        "print(X_train.shape[0], 'train samples')\n",
        "print(X_test.shape[0], 'test samples')\n",
        "\n",
        "# Encode Y as binary class vector\n",
        "Y_train = np_utils.to_categorical(Y_train, 10)\n",
        "Y_test = np_utils.to_categorical(Y_test, 10)\n",
        "\n",
        "# TBD: Build a 3 layer [(784, None), (40, relu), (20, relu), (10, sigmoid)] Neural Network\n",
        "# using Keras, train it on X_train dataset, and compute accuracy and loss on test dataset.\n",
        "# Exactly same code as above (sklearn MNIST(8X8) Dataset) just change input_shape=(64,) to input_shape=(784,)\n",
        "# You should see 90%+ accuracy on test set\n",
        "\n"
      ],
      "execution_count": null,
      "outputs": []
    },
    {
      "cell_type": "markdown",
      "metadata": {
        "id": "DdHmJT_Dr6Be"
      },
      "source": [
        "## NN Fashion\n",
        "## TBD: Use above Neural Network on Fashion MNIST  dataset (28X28 = 784 pixels) "
      ]
    },
    {
      "cell_type": "code",
      "metadata": {
        "pycharm": {
          "name": "#%%\n"
        },
        "id": "Y6cvxTx5r6Bf"
      },
      "source": [
        "from keras.datasets import fashion_mnist\n",
        "import matplotlib.pyplot as plt\n",
        "\n",
        "(X_train, Y_train), (X_test, Y_test) = fashion_mnist.load_data()\n",
        "\n",
        "#TBD Explore data (input shape, output shape) Fashion MNIST is a drop in replacement \n",
        "# for MNIST so shapes should be same. \n",
        "\n",
        "#TBD View the images (clothing types) and their labels \n",
        "\n",
        "# Show first K images\n",
        "K = 6\n",
        "plt.figure(figsize=(8,K))\n",
        "for i in range(K):\n",
        "    image, label = X_train[i], Y_train[i]\n",
        "    plt.subplot(1, K, i + 1)\n",
        "    plt.imshow(image)\n",
        "    plt.title('Label: %i' % label)\n",
        "\n",
        "\n",
        "#TBD: Build a 3 layer [(784, None), (40, relu), (20, relu), (10, sigmoid)] Neural Network\n",
        "# using Keras, train it on X_train dataset, and compute accuracy and loss on test dataset.\n",
        "# Exactly same code as above (sklearn MNIST(8X8) Dataset) just change input_shape=(64,) to input_shape=(784,)\n",
        "# You should see 80%+ accuracy on test set, we will better this by using CNN"
      ],
      "execution_count": null,
      "outputs": []
    }
  ]
}