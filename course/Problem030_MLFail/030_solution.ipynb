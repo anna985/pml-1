{
  "nbformat": 4,
  "nbformat_minor": 0,
  "metadata": {
    "kernelspec": {
      "display_name": "Python 3",
      "language": "python",
      "name": "python3"
    },
    "language_info": {
      "codemirror_mode": {
        "name": "ipython",
        "version": 3
      },
      "file_extension": ".py",
      "mimetype": "text/x-python",
      "name": "python",
      "nbconvert_exporter": "python",
      "pygments_lexer": "ipython3",
      "version": "3.8.2-final"
    },
    "colab": {
      "name": "Copy of 030_solution.ipynb",
      "provenance": [],
      "include_colab_link": true
    }
  },
  "cells": [
    {
      "cell_type": "markdown",
      "metadata": {
        "id": "view-in-github",
        "colab_type": "text"
      },
      "source": [
        "<a href=\"https://colab.research.google.com/github/anna985/pml-1/blob/master/course/Problem030_MLFail/030_solution.ipynb\" target=\"_parent\"><img src=\"https://colab.research.google.com/assets/colab-badge.svg\" alt=\"Open In Colab\"/></a>"
      ]
    },
    {
      "cell_type": "markdown",
      "metadata": {
        "id": "mX6ipTODqoh1"
      },
      "source": [
        "## Objective of ML Models: To work well on unseen data (i.e. to Generalize Well)"
      ]
    },
    {
      "cell_type": "markdown",
      "metadata": {
        "id": "OEjF9Mo4qoh6"
      },
      "source": [
        "## When do models dont generalize well?\n",
        "### Underfitting (High Bias)\n",
        "### Overfitting (High Variance)"
      ]
    },
    {
      "cell_type": "markdown",
      "metadata": {
        "id": "5cP8De03qoh7"
      },
      "source": [
        "## Bias (overloaded term)\n",
        "### Bias as in bias and fairness e.g. ML algorithm is biased against minorities\n",
        "### Bias as in bias term (intercept) e.g. Bias terms can be initialized to 0\n",
        "### Bias as in high bias (underfitting) e.g. Linear regression is prone to high bias"
      ]
    },
    {
      "cell_type": "markdown",
      "metadata": {
        "id": "_J69Dx-2qoh7"
      },
      "source": [
        "## Variance\n",
        "> \"If you torture data long enough, it will confess\"\n",
        "\n",
        "Tackling High variance (Overfitting)\n",
        "\n",
        "Regularization (penalizing complexity)\n",
        "* L1\n",
        "* L2\n"
      ]
    },
    {
      "cell_type": "markdown",
      "metadata": {
        "pycharm": {
          "name": "#%% md\n"
        },
        "id": "yM-FqHuqqoh8"
      },
      "source": [
        "## TBD Given the following train and test metrics, label their bias and variance e.g High/Low Bias, High/Low Variance\n",
        "Optimal Error: Unavoidable error, i.e error achieved in state of the art best case, when not specified assume optimal error rate = 0%\n",
        "\n",
        "* Training Error 20%, Validation error 21%  (High Bias, Low variance)\n",
        "* Training Error 1%, Validation error 10%   (Low Bias, High variance)\n",
        "* Training Error 1%, Validation error 2%    (Low Bias, Low variance)\n",
        "* Optimal Error 12%, Training Error 13%, Validation error 14%  (Low Bias, Low variance)\n",
        "* Optimal Error 12%, Training Error 24%, Validation error 35%  (High Bias, High variance)\n",
        "* Optimal Error 12%, Training Error 24%, Validation error 25%  (High Bias, Low variance)"
      ]
    },
    {
      "cell_type": "code",
      "metadata": {
        "id": "rkJAh1zNqoh8"
      },
      "source": [
        ""
      ],
      "execution_count": null,
      "outputs": []
    }
  ]
}