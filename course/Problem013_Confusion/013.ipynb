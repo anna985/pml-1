{
  "nbformat": 4,
  "nbformat_minor": 0,
  "metadata": {
    "kernelspec": {
      "name": "Python 3.8.2 64-bit ('pml')",
      "display_name": "Python 3.8.2 64-bit ('pml')",
      "metadata": {
        "interpreter": {
          "hash": "a4c9474aacc61cf72d0f1c29f4a339e5d6b2171c287541cfd684cf058783219b"
        }
      }
    },
    "language_info": {
      "codemirror_mode": {
        "name": "ipython",
        "version": 3
      },
      "file_extension": ".py",
      "mimetype": "text/x-python",
      "name": "python",
      "nbconvert_exporter": "python",
      "pygments_lexer": "ipython3",
      "version": "3.8.2-final"
    },
    "colab": {
      "name": "Copy of 013.ipynb",
      "provenance": [],
      "include_colab_link": true
    }
  },
  "cells": [
    {
      "cell_type": "markdown",
      "metadata": {
        "id": "view-in-github",
        "colab_type": "text"
      },
      "source": [
        "<a href=\"https://colab.research.google.com/github/anna985/pml-1/blob/master/course/Problem013_Confusion/013.ipynb\" target=\"_parent\"><img src=\"https://colab.research.google.com/assets/colab-badge.svg\" alt=\"Open In Colab\"/></a>"
      ]
    },
    {
      "cell_type": "markdown",
      "metadata": {
        "scrolled": true,
        "id": "jC31t7FuiZG9"
      },
      "source": [
        "# How to evaluate following systems?\n",
        "\n",
        "## Credit Approval (Yes/No)\n",
        "## Covid detection (Positive/Negative)\n",
        "## Court guilty judgement (Guilty/Not Guilty)\n",
        "## Spam detection (Spam/Ham)\n",
        "## Anomaly detection (Anomaly/Normal)\n"
      ]
    },
    {
      "cell_type": "code",
      "metadata": {
        "id": "YzT7x3rfiZG-"
      },
      "source": [
        "# Some classification process under study generated following labels \n",
        "Y =  [1, 0, 0, 0, 0, 0, 0, 0, 0, 0]\n",
        "\n",
        "# 2 classification models trying to approximate above process produced following end predictions\n",
        "Y_hat1 = [0, 0, 0, 0, 0, 0, 0, 0, 0, 0]\n",
        "Y_hat2 = [1, 0, 0, 1, 1, 0, 0, 0, 0, 0]\n",
        "\n",
        "#TBD Which is the better model"
      ],
      "execution_count": null,
      "outputs": []
    },
    {
      "cell_type": "code",
      "metadata": {
        "id": "-ON5DE6viZHC"
      },
      "source": [
        "# TBD: Compute accuracy of the models"
      ],
      "execution_count": null,
      "outputs": []
    },
    {
      "cell_type": "code",
      "metadata": {
        "id": "nyfaFaWRiZHF"
      },
      "source": [
        "# TBD: Compute confusion matrix for the models"
      ],
      "execution_count": null,
      "outputs": []
    },
    {
      "cell_type": "code",
      "metadata": {
        "id": "jvFKlGx3iZHI"
      },
      "source": [
        "# TBD: Compute precision, recall and f1 score for the models"
      ],
      "execution_count": null,
      "outputs": []
    },
    {
      "cell_type": "code",
      "metadata": {
        "id": "ep9fpJSmiZHK"
      },
      "source": [
        ""
      ],
      "execution_count": null,
      "outputs": []
    }
  ]
}