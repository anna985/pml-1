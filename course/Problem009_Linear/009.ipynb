{
  "nbformat": 4,
  "nbformat_minor": 0,
  "metadata": {
    "kernelspec": {
      "display_name": "Python 3",
      "language": "python",
      "name": "python3"
    },
    "language_info": {
      "codemirror_mode": {
        "name": "ipython",
        "version": 3
      },
      "file_extension": ".py",
      "mimetype": "text/x-python",
      "name": "python",
      "nbconvert_exporter": "python",
      "pygments_lexer": "ipython3",
      "version": "3.8.2-final"
    },
    "colab": {
      "name": "Copy of 009.ipynb",
      "provenance": [],
      "include_colab_link": true
    }
  },
  "cells": [
    {
      "cell_type": "markdown",
      "metadata": {
        "id": "view-in-github",
        "colab_type": "text"
      },
      "source": [
        "<a href=\"https://colab.research.google.com/github/anna985/pml-1/blob/master/course/Problem009_Linear/009.ipynb\" target=\"_parent\"><img src=\"https://colab.research.google.com/assets/colab-badge.svg\" alt=\"Open In Colab\"/></a>"
      ]
    },
    {
      "cell_type": "markdown",
      "metadata": {
        "id": "O0Ugp2IfhFJ2"
      },
      "source": [
        "## What does linear model do\n"
      ]
    },
    {
      "cell_type": "markdown",
      "metadata": {
        "id": "ulUJBXwihFJ3"
      },
      "source": [
        "## 1-dimensional input (feature)"
      ]
    },
    {
      "cell_type": "code",
      "metadata": {
        "scrolled": true,
        "id": "DqMgJNfchFJ3"
      },
      "source": [
        "import numpy as np\n",
        "from sklearn import linear_model\n",
        "X_train = np.array([[1],[2],[3],[4]])\n",
        "Y_train = np.array([1,2,3,4])\n",
        "\n",
        "#TBD fit linear model and predict for x=7\n"
      ],
      "execution_count": null,
      "outputs": []
    },
    {
      "cell_type": "code",
      "metadata": {
        "id": "vmRY0uPAhFJ7"
      },
      "source": [
        "X_train = np.array([[1],[2],[3],[4]])\n",
        "Y_train = np.array([3,4,5,6])\n",
        "\n",
        "#TBD fit linear model and predict for x=7"
      ],
      "execution_count": null,
      "outputs": []
    },
    {
      "cell_type": "code",
      "metadata": {
        "id": "Dg5erwsshFJ_"
      },
      "source": [
        "X_train = np.array([[0],[0.1],[2],[2.1],[4],[4.1]])\n",
        "Y_train = np.array([0,2,1,3,2,4])\n",
        "\n",
        "#TBD fit linear model and predict for x=4\n"
      ],
      "execution_count": null,
      "outputs": []
    },
    {
      "cell_type": "code",
      "metadata": {
        "id": "6AKnVkkyhFKC"
      },
      "source": [
        "#TBD Plot above 3 models"
      ],
      "execution_count": null,
      "outputs": []
    },
    {
      "cell_type": "markdown",
      "metadata": {
        "id": "wFhch-YKhFKF"
      },
      "source": [
        "## 2 dimensional input (features)"
      ]
    },
    {
      "cell_type": "code",
      "metadata": {
        "id": "uU1jWBijhFKF"
      },
      "source": [
        "from random import random, seed\n",
        "\n",
        "n = 50\n",
        "seed(1)                                     \n",
        "X_train = [[random(), random()] for i in range(n)]              \n",
        "Y_train = [random() for i in range(n)]\n",
        "\n",
        "#TBD fit linear model and predict for x=(7,8)"
      ],
      "execution_count": null,
      "outputs": []
    },
    {
      "cell_type": "code",
      "metadata": {
        "id": "4sgAePw3hFKI"
      },
      "source": [
        "#Plot above model"
      ],
      "execution_count": null,
      "outputs": []
    },
    {
      "cell_type": "markdown",
      "metadata": {
        "id": "tS89ntRBhFKM"
      },
      "source": [
        "## 13 dimensional input (features)"
      ]
    },
    {
      "cell_type": "code",
      "metadata": {
        "id": "NCkR_MCEhFKN"
      },
      "source": [
        "#TBD Load boston dataset\n",
        "from sklearn.datasets import load_boston\n",
        "X, Y = load_boston(return_X_y=True)\n",
        "\n",
        "#house_data = load_boston()\n",
        "#X = house_data.data\n",
        "#Y = house_data.target"
      ],
      "execution_count": 34,
      "outputs": []
    },
    {
      "cell_type": "code",
      "metadata": {
        "id": "3j4-KFb0hFKQ",
        "outputId": "c690a30a-8c5a-4e34-ee86-e92119242603",
        "colab": {
          "base_uri": "https://localhost:8080/"
        }
      },
      "source": [
        "#TBD Split into Train and Test dataset. random 90% 10%\n",
        "from sklearn.model_selection import train_test_split\n",
        "\n",
        "X_train, X_test, Y_train, Y_test = train_test_split(X, Y, test_size=0.1, random_state=100)\n",
        "\n",
        "X_train"
      ],
      "execution_count": 35,
      "outputs": [
        {
          "output_type": "execute_result",
          "data": {
            "text/plain": [
              "array([[2.1161e-01, 0.0000e+00, 8.5600e+00, ..., 2.0900e+01, 3.9447e+02,\n",
              "        1.3440e+01],\n",
              "       [4.3370e-02, 2.1000e+01, 5.6400e+00, ..., 1.6800e+01, 3.9397e+02,\n",
              "        9.4300e+00],\n",
              "       [1.9073e-01, 2.2000e+01, 5.8600e+00, ..., 1.9100e+01, 3.9374e+02,\n",
              "        6.5600e+00],\n",
              "       ...,\n",
              "       [2.8392e-01, 0.0000e+00, 7.3800e+00, ..., 1.9600e+01, 3.9113e+02,\n",
              "        1.1740e+01],\n",
              "       [3.5780e-02, 2.0000e+01, 3.3300e+00, ..., 1.4900e+01, 3.8731e+02,\n",
              "        3.7600e+00],\n",
              "       [2.1124e-01, 1.2500e+01, 7.8700e+00, ..., 1.5200e+01, 3.8663e+02,\n",
              "        2.9930e+01]])"
            ]
          },
          "metadata": {
            "tags": []
          },
          "execution_count": 35
        }
      ]
    },
    {
      "cell_type": "code",
      "metadata": {
        "id": "dyfQx2KmhFKS",
        "outputId": "7e3e90c4-3a97-403c-f291-ae0b363d33e7",
        "colab": {
          "base_uri": "https://localhost:8080/"
        }
      },
      "source": [
        "#TBD Fit linear model on Training data\n",
        "from sklearn import linear_model\n",
        "import numpy as np\n",
        "model = linear_model.LinearRegression()\n",
        "reg = model.fit(X_train, Y_train)\n",
        "print(reg.coef_)"
      ],
      "execution_count": 36,
      "outputs": [
        {
          "output_type": "stream",
          "text": [
            "[-7.64685877e-02  4.63638242e-02  1.26236827e-02  2.60153086e+00\n",
            " -1.74904202e+01  3.45204426e+00  8.89604293e-04 -1.48390689e+00\n",
            "  2.92047842e-01 -1.19135769e-02 -9.84850118e-01  9.74883682e-03\n",
            " -5.50233196e-01]\n"
          ],
          "name": "stdout"
        }
      ]
    },
    {
      "cell_type": "code",
      "metadata": {
        "id": "6yi97KechFKV",
        "outputId": "aad49e38-7cfe-4ad3-e706-8975293043d7",
        "colab": {
          "base_uri": "https://localhost:8080/"
        }
      },
      "source": [
        "#TBD Predict for Test data\n",
        "Y_predict = model.predict(X_test)\n",
        "\n",
        "Y_predict"
      ],
      "execution_count": 37,
      "outputs": [
        {
          "output_type": "execute_result",
          "data": {
            "text/plain": [
              "array([34.73854891, 31.38386081, 22.50095164, 18.11482062, 20.80652485,\n",
              "       26.82066337, 26.51729548, 23.69329108, 22.57632825, 19.65231589,\n",
              "       27.2165001 , 17.35789228, 20.73098895, 15.44063062, 41.80129521,\n",
              "       20.64574941, 29.39718966, 19.10202898, 32.69551102, 41.42350361,\n",
              "       34.83261633, 16.64724327, 20.47215905, 18.17542226, 13.17207931,\n",
              "       12.44654353, 27.62379834, 20.2718287 , 18.93920937, 20.27751001,\n",
              "       15.80159619, 24.64643662, 39.18423553, 24.93954833, 31.18670571,\n",
              "       28.60550358, 16.72979952, 14.90711431, 16.73702475, 23.3503098 ,\n",
              "       23.2160066 , 23.46960111, 14.14781287, 21.52025297, 32.962711  ,\n",
              "       27.41213449, 19.62228311, 15.09940082, 17.24149876, 12.80786476,\n",
              "       22.01038489])"
            ]
          },
          "metadata": {
            "tags": []
          },
          "execution_count": 37
        }
      ]
    },
    {
      "cell_type": "code",
      "metadata": {
        "id": "sJyk-rZzhFKX",
        "outputId": "61da9ead-f71a-4e86-c243-239a81151f86",
        "colab": {
          "base_uri": "https://localhost:8080/"
        }
      },
      "source": [
        "#TBD Mean squared error for your predictions\n",
        "from sklearn.metrics import mean_absolute_error, mean_squared_error\n",
        "mean_squared_error(Y_test, Y_predict)"
      ],
      "execution_count": 38,
      "outputs": [
        {
          "output_type": "execute_result",
          "data": {
            "text/plain": [
              "12.971797020773563"
            ]
          },
          "metadata": {
            "tags": []
          },
          "execution_count": 38
        }
      ]
    },
    {
      "cell_type": "markdown",
      "metadata": {
        "id": "pmbhFTZDhFKZ"
      },
      "source": [
        "## Problems with linear model\n",
        "![title](https://github.com/rawata/pml/blob/master/img/anscombe_quartet.png?raw=1)\n",
        "\n",
        "### Ansombe Quartet \n",
        "### y = x/2 + 3"
      ]
    }
  ]
}