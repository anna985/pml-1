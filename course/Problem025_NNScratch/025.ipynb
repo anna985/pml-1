{
  "nbformat": 4,
  "nbformat_minor": 0,
  "metadata": {
    "kernelspec": {
      "name": "python3",
      "display_name": "Python 3.8.2 64-bit ('pml': venv)",
      "metadata": {
        "interpreter": {
          "hash": "a4c9474aacc61cf72d0f1c29f4a339e5d6b2171c287541cfd684cf058783219b"
        }
      }
    },
    "language_info": {
      "codemirror_mode": {
        "name": "ipython",
        "version": 3
      },
      "file_extension": ".py",
      "mimetype": "text/x-python",
      "name": "python",
      "nbconvert_exporter": "python",
      "pygments_lexer": "ipython3",
      "version": "3.8.2-final"
    },
    "colab": {
      "name": "Copy of 025.ipynb",
      "provenance": [],
      "include_colab_link": true
    }
  },
  "cells": [
    {
      "cell_type": "markdown",
      "metadata": {
        "id": "view-in-github",
        "colab_type": "text"
      },
      "source": [
        "<a href=\"https://colab.research.google.com/github/anna985/pml-1/blob/master/course/Problem025_NNScratch/025.ipynb\" target=\"_parent\"><img src=\"https://colab.research.google.com/assets/colab-badge.svg\" alt=\"Open In Colab\"/></a>"
      ]
    },
    {
      "cell_type": "markdown",
      "metadata": {
        "id": "LBsvW5vLi4LQ"
      },
      "source": [
        "## TBD Code reading, Below is a from-scratch  3 layer neural network. Main training code is in the *fit* method "
      ]
    },
    {
      "cell_type": "code",
      "metadata": {
        "id": "voX-n12Wi4LR"
      },
      "source": [
        "import numpy as np\n",
        "import matplotlib.pyplot as plt\n",
        "from sklearn import datasets\n",
        "from sklearn import preprocessing\n",
        "from sklearn.model_selection import train_test_split\n",
        "from keras.datasets import mnist\n",
        "from keras.utils import np_utils\n",
        "%matplotlib inline\n",
        "\n",
        "plt.rcParams['figure.figsize'] = (5.0, 4.0)\n",
        "plt.rcParams['image.interpolation'] = 'nearest'\n",
        "plt.rcParams['image.cmap'] = 'gray'"
      ],
      "execution_count": 1,
      "outputs": []
    },
    {
      "cell_type": "code",
      "metadata": {
        "id": "uKItxQ3Ui4LR"
      },
      "source": [
        "def relu(Z):\n",
        "    \"\"\"\n",
        "    Rectified Linear Unit (relu Function) x if x > 0 else x\n",
        "\n",
        "    :param Z: input tensor\n",
        "    :return:  Relu output\n",
        "    \"\"\"\n",
        "    A = np.maximum(0, Z)\n",
        "    return A\n",
        "\n",
        "def sigmoid(Z):\n",
        "    \"\"\"\n",
        "    Sigmoid Function\n",
        "    :param Z: input tensor\n",
        "    :return: Sigmoid output\n",
        "    \"\"\"\n",
        "    A = 1 / (1 + np.exp(-Z))\n",
        "    return A\n",
        "\n",
        "\n",
        "def relu_backward(dA, Z):\n",
        "    \"\"\"\n",
        "    Derivative of relu function\n",
        "\n",
        "    :param dA:  How cost changes with activation ( dJ_by_dA )\n",
        "    :param Z:\n",
        " \n",
        "    :return:  How cost changes with weighted sum (Z) ( dJ_by_dZ )\n",
        "    \"\"\"\n",
        "\n",
        "    dZ = np.array(dA, copy=True) \n",
        "\n",
        "    dZ[Z <= 0] = 0\n",
        "\n",
        "    return dZ\n",
        "\n",
        "\n",
        "def sigmoid_backward(dA, Z):\n",
        "    \"\"\"\n",
        "    Derivative of sigmoid function\n",
        "\n",
        "    :param dA: How cost changes with activation ( dJ_by_dA )\n",
        "    :param Z:\n",
        "    \n",
        "    :return: How cost changes with weighted sum (Z) ( dJ_by_dZ )\n",
        "    \"\"\"\n",
        "\n",
        "    s = 1 / (1 + np.exp(-Z))\n",
        "    dZ = dA * s * (1 - s)\n",
        "\n",
        "    return dZ\n",
        "\n"
      ],
      "execution_count": 2,
      "outputs": []
    },
    {
      "cell_type": "code",
      "metadata": {
        "id": "Nzds3WhKi4LR"
      },
      "source": [
        "def init_weights(n_x, n_h1, n_h2, n_y):\n",
        "    \"\"\"\n",
        "\n",
        "    Initialize weights tensor\n",
        "\n",
        "    :param n_x: size of the input layer\n",
        "    :param n_h1: size of the hidden layer 1\n",
        "    :param n_h2: size of the hidden layer 2\n",
        "    :param n_y: size of the output layer\n",
        "\n",
        "    :return:     weights -- python dictionary containing initialized weights:\n",
        "                    W1 -- weight matrix of shape (n_h1, n_x)\n",
        "                    b1 -- bias vector of shape (n_h1, 1)\n",
        "                    W2 -- weight matrix of shape (n_h2, n_h1)\n",
        "                    b2 -- bias vector of shape (n_h2, 1)\n",
        "                    W3 -- weight matrix of shape (n_y, n_h2)\n",
        "                    b3 -- bias vector of shape (n_y, 1)\n",
        "    \"\"\"\n",
        "\n",
        "    np.random.seed(1)\n",
        "\n",
        "    W1 = np.random.randn(n_h1, n_x) * 0.01\n",
        "    b1 = np.zeros((n_h1, 1))\n",
        "    W2 = np.random.randn(n_h2, n_h1) * 0.01\n",
        "    b2 = np.zeros((n_h2, 1))\n",
        "    W3 = np.random.randn(n_y, n_h2) * 0.01\n",
        "    b3 = np.zeros((n_y, 1))\n",
        "\n",
        "    weights = { \"W1\": W1, \"b1\": b1, \"W2\": W2, \"b2\": b2, \"W3\": W3, \"b3\": b3 }\n",
        "\n",
        "    return weights\n"
      ],
      "execution_count": 3,
      "outputs": []
    },
    {
      "cell_type": "code",
      "metadata": {
        "id": "4kVsSRTsi4LR"
      },
      "source": [
        "def step_forward(A, W, b, activation_function):\n",
        "    \"\"\"\n",
        "    Step forward one layer in a deep neural network\n",
        "\n",
        "    :param A: Input tensor for the layer\n",
        "    :param W: Weight tensor for the layer\n",
        "    :param b: Bias tensor for the layer\n",
        "    :param activation_function: Activation function to be applied to the layer\n",
        "\n",
        "    :return: Output Activation tensor and Weighted sum\n",
        "    \"\"\"\n",
        "\n",
        "    Z = np.matmul(W, A) + b\n",
        "    A_next = activation_function(Z)\n",
        "\n",
        "    return A_next, Z\n",
        "\n",
        "\n",
        "def compute_cost(AL, Y):\n",
        "    \"\"\"\n",
        "\n",
        "    Cross Entropy Error (Cost) between Y-Hat and Y  (Y-Hat is activation of Lth Layer hence AL)\n",
        "\n",
        "    :param AL: Activation of Lth Layer i.e Y-Hat\n",
        "    :param Y: Actual Labels (Ground Truth)\n",
        "\n",
        "    :return: Cost (How close are we?)\n",
        "\n",
        "    \"\"\"\n",
        "    \n",
        "    m = Y.shape[1]\n",
        "    cost = -(np.sum(Y * np.log(AL) + (1 - Y) * np.log(1 - AL))) / m\n",
        "    cost = np.squeeze(cost)\n",
        "\n",
        "    return cost\n",
        "\n",
        "\n",
        "def step_backward(dA, Z, A_prev, W, b, activation_function_backward):\n",
        "    \"\"\"\n",
        "    Step back one layer in deep neural network,\n",
        "    i.e Find out how much adjustment is needed in weights in this layer\n",
        "\n",
        "    :param dA: How Final cost changes with Activation of this layer ( dJ_by_dA )\n",
        "    :param Z: Weighted Sum from this layer\n",
        "    :param A_prev: Incoming activations to this layer\n",
        "    :param W: Weights of this layer\n",
        "    :param b: Bias of this layer\n",
        "    :param activation_function_backward:\n",
        "    \n",
        "    :return:\n",
        "        dA_prev : How cost changes with activation from prev layer ( dJ_by_dA_prev), need this for further back propagation of cost to previous layer\n",
        "        dW: How cost changes with weights of this layer (our prize). (dJ_by_dW)\n",
        "        db: How cost changes with weights of this layer (dJ_by_db)\n",
        "    \"\"\"\n",
        "\n",
        "    dZ = activation_function_backward(dA, Z)\n",
        "\n",
        "    N = A_prev.shape[1]\n",
        "\n",
        "    dW = np.matmul(dZ, A_prev.transpose()) / N\n",
        "    db = np.sum(dZ, axis=1, keepdims=True) / N\n",
        "    dA_prev = np.matmul(W.transpose(), dZ)\n",
        "\n",
        "    return dA_prev, dW, db\n",
        "\n",
        "\n",
        "def update_weights(weights, grads, learning_rate):\n",
        "    \"\"\"\n",
        "    Update weights across all layers\n",
        "    After our back-propogation we know how much weight & bias adjustment is needed\n",
        "    in each layer, This function performs that update.\n",
        "\n",
        "    :param weights: Original weights\n",
        "    :param grads: Changes that needs to be made to weights (dW and db s)\n",
        "    :param learning_rate: learning rate of algorithm. (a step length in gradient descent)\n",
        "\n",
        "    :return: updated weights\n",
        "    \"\"\"\n",
        "    L = len(weights)//2    # number of layers in the neural network\n",
        "\n",
        "    for l in range(L):\n",
        "        weights[\"W\" + str(l + 1)] = weights[\"W\" + str(l + 1)] - learning_rate * grads[\"dW\" + str(l + 1)]\n",
        "        weights[\"b\" + str(l + 1)] = weights[\"b\" + str(l + 1)] - learning_rate * grads[\"db\" + str(l + 1)]\n",
        "\n",
        "    return weights\n"
      ],
      "execution_count": 4,
      "outputs": []
    },
    {
      "cell_type": "markdown",
      "metadata": {
        "id": "zmC3xrOpi4LR"
      },
      "source": [
        "## Fit (Training of Neural network using back propagation and gradient descent )\n",
        "<img src=\"https://github.com/rawata/pml/blob/master/img/nn_training_loop.png?raw=1\" alt=\"drawing\" width=\"400\"/>\n",
        "\n",
        "\n"
      ]
    },
    {
      "cell_type": "code",
      "metadata": {
        "id": "xDJP7Bvgi4LR"
      },
      "source": [
        "\n",
        "\n",
        "def fit(X, Y, layers_dims, learning_rate=0.0075, num_iterations=10000, print_cost=False):\n",
        "    \"\"\"\n",
        "    Trains a 3 layer neural network\n",
        "\n",
        "    :param X: input features\n",
        "    :param Y: output labels\n",
        "    :param layers_dims: number of nodes in each layer ( inputs, number of neurons in each hidden layer, output)\n",
        "    :param learning_rate: \n",
        "    :param num_iterations:\n",
        "    :param print_cost: \n",
        "\n",
        "    :return: Weights and Bias of the trained network. \n",
        "\n",
        "    \"\"\"\n",
        "    np.random.seed(1)\n",
        "    grads = {}\n",
        "    costs = []  # to keep track of the cost\n",
        "    m = X.shape[1]  # number of examples\n",
        "    \n",
        "    (n_x, n_h1, n_h2, n_y) = layers_dims\n",
        "\n",
        "    weights = init_weights(n_x, n_h1, n_h2, n_y)\n",
        "\n",
        "    for i in range(0, num_iterations):\n",
        "\n",
        "        # Forward propagation: (LINEAR -> RELU) * 2 -> LINEAR -> SIGMOID.\n",
        "\n",
        "        # Retrieve W1, b1, W2, b2 from weights\n",
        "        W1 = weights[\"W1\"]\n",
        "        b1 = weights[\"b1\"]\n",
        "        W2 = weights[\"W2\"]\n",
        "        b2 = weights[\"b2\"]\n",
        "        W3 = weights[\"W3\"]\n",
        "        b3 = weights[\"b3\"]\n",
        "\n",
        "\n",
        "        A1, Z1  = step_forward(X, W1, b1, relu)\n",
        "        A2, Z2  = step_forward(A1, W2, b2, relu)\n",
        "        A3, Z3  = step_forward(A2, W3, b3, sigmoid)\n",
        "\n",
        "        cost = compute_cost(A3, Y)\n",
        "\n",
        "        # Initializing backward propagation\n",
        "        dA3 = - (np.divide(Y, A3) - np.divide(1 - Y, 1 - A3))\n",
        "\n",
        "        # gradient descent through back propagation\n",
        "        dA2, dW3, db3 = step_backward(dA3, Z3, A2, W3, b3, sigmoid_backward)\n",
        "        dA1, dW2, db2 = step_backward(dA2, Z2, A1, W2, b2, relu_backward)\n",
        "        dA0, dW1, db1 = step_backward(dA1, Z1, X, W1, b1,  relu_backward)\n",
        "\n",
        "        grads['dW1'] = dW1\n",
        "        grads['db1'] = db1\n",
        "        grads['dW2'] = dW2\n",
        "        grads['db2'] = db2\n",
        "        grads['dW3'] = dW3\n",
        "        grads['db3'] = db3\n",
        "\n",
        "        # Update weights.\n",
        "        weights = update_weights(weights, grads, learning_rate)\n",
        "\n",
        "        # Print the cost every 100 training example\n",
        "        if print_cost and i % 100 == 0:\n",
        "            print(\"Cost after iteration {}: {}\".format(i, np.squeeze(cost)))\n",
        "        if print_cost and i % 100 == 0:\n",
        "            costs.append(cost)\n",
        "\n",
        "    # plot the cost\n",
        "\n",
        "    plt.plot(np.squeeze(costs))\n",
        "    plt.ylabel('cost')\n",
        "    plt.xlabel('iterations (per tens)')\n",
        "    plt.title(\"Learning rate =\" + str(learning_rate))\n",
        "    plt.show()\n",
        "\n",
        "    return weights\n"
      ],
      "execution_count": 5,
      "outputs": []
    },
    {
      "cell_type": "markdown",
      "metadata": {
        "id": "irvHQVBwi4LR"
      },
      "source": [
        "## Predict and Accuracy"
      ]
    },
    {
      "cell_type": "code",
      "metadata": {
        "id": "7pCgyth_i4LR"
      },
      "source": [
        "def predict(X, weights):\n",
        "    \"\"\"\n",
        "    Given weights of deep neural network, predict the output for X\n",
        "\n",
        "    :param X: input tensor\n",
        "    :param weights: Weights and Bias of the network\n",
        "    :return:\n",
        "    \"\"\"\n",
        "    W1 = weights[\"W1\"]\n",
        "    b1 = weights[\"b1\"]\n",
        "    W2 = weights[\"W2\"]\n",
        "    b2 = weights[\"b2\"]\n",
        "    W3 = weights[\"W3\"]\n",
        "    b3 = weights[\"b3\"]\n",
        "\n",
        "    A1, Z1 = step_forward(X, W1, b1, relu)\n",
        "    A2, Z2 = step_forward(A1, W2, b2, relu)\n",
        "    A3, Z3 = step_forward(A2, W3, b3, sigmoid)\n",
        "    A3 = np.around(A3)\n",
        "    return A3\n",
        "\n",
        "\n",
        "def compute_accuracy(X, Y, weights):\n",
        "    \"\"\"\n",
        "    Compute predictions for X given the weights and then find out how accurate are the predictions\n",
        "    by comparing with y\n",
        "\n",
        "    :param X: Input Tensors to be predicted\n",
        "    :param Y: Ground Truth Labels\n",
        "    :param weights: Weight (Model)\n",
        "    :return:\n",
        "    \"\"\"\n",
        "\n",
        "    N = X.shape[1]\n",
        "    A3 = predict(X, weights)\n",
        "    res = A3 == Y\n",
        "    accuracy = np.sum(res.all(axis=0)) / N\n",
        "    print(\"Accuracy: \" + str(accuracy))\n",
        "    return accuracy\n"
      ],
      "execution_count": 6,
      "outputs": []
    },
    {
      "cell_type": "markdown",
      "metadata": {
        "id": "iDi1pb_ti4LR"
      },
      "source": [
        "## Train on sklearn MNIST data \n",
        "input = 8X8 pixels\n"
      ]
    },
    {
      "cell_type": "code",
      "metadata": {
        "id": "fwo7pK_ti4LR",
        "outputId": "93427443-7387-44e0-fc16-6cfe11cb641b",
        "colab": {
          "base_uri": "https://localhost:8080/",
          "height": 1000
        }
      },
      "source": [
        "# Preparing the digits dataset\n",
        "digits = datasets.load_digits()\n",
        "\n",
        "\n",
        "X = digits.data\n",
        "\n",
        "# One hot encoding of target (Y)\n",
        "Y = np_utils.to_categorical(digits.target, 10)\n",
        "\n",
        "# Train test split\n",
        "X_train, X_test, Y_train, Y_test = train_test_split(X, Y, test_size=0.25, random_state=42)\n",
        "\n",
        "# Transposing the input/output data as implementation expects them to be\n",
        "# In Library implementations its usually the weights which are transposed\n",
        "\n",
        "X_train = np.transpose(X_train)\n",
        "X_test = np.transpose(X_test)\n",
        "Y_train = np.transpose(Y_train)\n",
        "Y_test = np.transpose(Y_test)\n",
        "\n",
        "\n",
        "n_x = 64\n",
        "n_h1 = 40\n",
        "n_h2 = 20\n",
        "n_y = 10\n",
        "layers_dims = (n_x, n_h1, n_h2, n_y)\n",
        "\n",
        "weights = fit(X_train, Y_train, layers_dims = (n_x, n_h1, n_h2, n_y), num_iterations = 10000, print_cost=True)\n",
        "\n"
      ],
      "execution_count": 7,
      "outputs": [
        {
          "output_type": "stream",
          "text": [
            "Cost after iteration 0: 6.927758213084503\n",
            "Cost after iteration 100: 3.2734321092361194\n",
            "Cost after iteration 200: 3.272013882242851\n",
            "Cost after iteration 300: 3.27077045635114\n",
            "Cost after iteration 400: 3.2694525244001924\n",
            "Cost after iteration 500: 3.267752714442069\n",
            "Cost after iteration 600: 3.2650325127930517\n",
            "Cost after iteration 700: 3.25941325638326\n",
            "Cost after iteration 800: 3.2429323993325827\n",
            "Cost after iteration 900: 3.162153346617937\n",
            "Cost after iteration 1000: 2.7514846262985024\n",
            "Cost after iteration 1100: 2.2730131266448064\n",
            "Cost after iteration 1200: 1.9297770181872405\n",
            "Cost after iteration 1300: 1.5725724533918406\n",
            "Cost after iteration 1400: 1.3669183679538262\n",
            "Cost after iteration 1500: 1.2266482390271327\n",
            "Cost after iteration 1600: 1.1015916303678444\n",
            "Cost after iteration 1700: 0.9847125396257518\n",
            "Cost after iteration 1800: 0.8746599979896628\n",
            "Cost after iteration 1900: 0.7741030663294607\n",
            "Cost after iteration 2000: 0.6834265317759509\n",
            "Cost after iteration 2100: 0.6021422148264031\n",
            "Cost after iteration 2200: 0.5316391102076774\n",
            "Cost after iteration 2300: 0.47335496240994646\n",
            "Cost after iteration 2400: 0.4254223312792669\n",
            "Cost after iteration 2500: 0.38370427030917637\n",
            "Cost after iteration 2600: 0.35067634484249594\n",
            "Cost after iteration 2700: 0.32350769569384324\n",
            "Cost after iteration 2800: 0.3007812834861828\n",
            "Cost after iteration 2900: 0.28112302104531833\n",
            "Cost after iteration 3000: 0.2639074653565234\n",
            "Cost after iteration 3100: 0.2487729849056613\n",
            "Cost after iteration 3200: 0.23524486113931412\n",
            "Cost after iteration 3300: 0.22277045315154528\n",
            "Cost after iteration 3400: 0.2112800222956805\n",
            "Cost after iteration 3500: 0.20065768894395997\n",
            "Cost after iteration 3600: 0.19075788924194859\n",
            "Cost after iteration 3700: 0.18143451173844777\n",
            "Cost after iteration 3800: 0.17259179080353712\n",
            "Cost after iteration 3900: 0.16425595095751866\n",
            "Cost after iteration 4000: 0.15631189637352125\n",
            "Cost after iteration 4100: 0.14876585256988137\n",
            "Cost after iteration 4200: 0.14153035937165445\n",
            "Cost after iteration 4300: 0.13455591772846315\n",
            "Cost after iteration 4400: 0.12799319444877802\n",
            "Cost after iteration 4500: 0.12187146498460397\n",
            "Cost after iteration 4600: 0.11608502300056275\n",
            "Cost after iteration 4700: 0.11044128621228391\n",
            "Cost after iteration 4800: 0.10513897818309477\n",
            "Cost after iteration 4900: 0.10017739538523841\n",
            "Cost after iteration 5000: 0.0955752503600815\n",
            "Cost after iteration 5100: 0.09128228743903277\n",
            "Cost after iteration 5200: 0.08726065276376693\n",
            "Cost after iteration 5300: 0.0834069425086436\n",
            "Cost after iteration 5400: 0.07980851764486874\n",
            "Cost after iteration 5500: 0.07642963666232234\n",
            "Cost after iteration 5600: 0.07324870681580398\n",
            "Cost after iteration 5700: 0.07026942348255472\n",
            "Cost after iteration 5800: 0.06746033154546999\n",
            "Cost after iteration 5900: 0.06484614003400593\n",
            "Cost after iteration 6000: 0.06238632975905933\n",
            "Cost after iteration 6100: 0.060073615382754665\n",
            "Cost after iteration 6200: 0.05788874578958239\n",
            "Cost after iteration 6300: 0.05581590024684355\n",
            "Cost after iteration 6400: 0.0538456697197061\n",
            "Cost after iteration 6500: 0.05198022910241192\n",
            "Cost after iteration 6600: 0.05021024928772913\n",
            "Cost after iteration 6700: 0.048528122120043926\n",
            "Cost after iteration 6800: 0.046931367522447566\n",
            "Cost after iteration 6900: 0.04542053344644546\n",
            "Cost after iteration 7000: 0.04397141166629081\n",
            "Cost after iteration 7100: 0.04260277461327019\n",
            "Cost after iteration 7200: 0.041293789542649624\n",
            "Cost after iteration 7300: 0.0400351053132484\n",
            "Cost after iteration 7400: 0.03883946965052854\n",
            "Cost after iteration 7500: 0.03769930923838002\n",
            "Cost after iteration 7600: 0.03660276747666619\n",
            "Cost after iteration 7700: 0.03555868272440337\n",
            "Cost after iteration 7800: 0.03455336673008045\n",
            "Cost after iteration 7900: 0.03359526654198402\n",
            "Cost after iteration 8000: 0.03268178767191665\n",
            "Cost after iteration 8100: 0.031791658226935846\n",
            "Cost after iteration 8200: 0.030945912876168435\n",
            "Cost after iteration 8300: 0.030140901599732723\n",
            "Cost after iteration 8400: 0.029360166680560726\n",
            "Cost after iteration 8500: 0.028614941936819505\n",
            "Cost after iteration 8600: 0.027901049262292338\n",
            "Cost after iteration 8700: 0.027210709936194954\n",
            "Cost after iteration 8800: 0.026544202636827115\n",
            "Cost after iteration 8900: 0.025905886646726776\n",
            "Cost after iteration 9000: 0.02529087771283756\n",
            "Cost after iteration 9100: 0.02469280804245961\n",
            "Cost after iteration 9200: 0.024117909879994574\n",
            "Cost after iteration 9300: 0.023562034167862955\n",
            "Cost after iteration 9400: 0.023026208310163294\n",
            "Cost after iteration 9500: 0.02250456686147803\n",
            "Cost after iteration 9600: 0.022005306331608066\n",
            "Cost after iteration 9700: 0.021511518715627873\n",
            "Cost after iteration 9800: 0.021036803264899446\n",
            "Cost after iteration 9900: 0.020579615702406392\n"
          ],
          "name": "stdout"
        },
        {
          "output_type": "display_data",
          "data": {
            "image/png": "[encoded data removed]",
            "text/plain": [
              "<Figure size 432x288 with 1 Axes>"
            ]
          },
          "metadata": {
            "tags": [],
            "needs_background": "light"
          }
        }
      ]
    },
    {
      "cell_type": "markdown",
      "metadata": {
        "id": "Q9LsOx5ui4LR"
      },
      "source": [
        "## Predict and compute accuracy"
      ]
    },
    {
      "cell_type": "code",
      "metadata": {
        "id": "xg8R82AUi4LR",
        "outputId": "b0f19d47-d99c-44d0-8090-47579d5810f5",
        "colab": {
          "base_uri": "https://localhost:8080/"
        }
      },
      "source": [
        "accuracy_train = compute_accuracy(X_train, Y_train, weights)\n",
        "accuracy_test = compute_accuracy(X_test, Y_test, weights)\n"
      ],
      "execution_count": 9,
      "outputs": [
        {
          "output_type": "stream",
          "text": [
            "Accuracy: 0.9992576095025983\n",
            "Accuracy: 0.9511111111111111\n"
          ],
          "name": "stdout"
        }
      ]
    },
    {
      "cell_type": "markdown",
      "metadata": {
        "id": "zQJHBuohi4LR"
      },
      "source": [
        "## TBD: Show some images for which the model makes errors\n"
      ]
    },
    {
      "cell_type": "code",
      "metadata": {
        "id": "89wbZnhpnykK",
        "outputId": "233e904c-7148-484b-eb3d-d9ee5481f08c",
        "colab": {
          "base_uri": "https://localhost:8080/",
          "height": 162
        }
      },
      "source": [
        "images_and_labels = list(zip(digits.images, digits.target))\n",
        "print(f'len of data = {len(digits.data)}')\n",
        "print(len(images_and_labels))\n",
        "plt.figure(figsize=(8,6))\n",
        "for index, (image, label) in enumerate(images_and_labels[1:6]):\n",
        "    plt.subplot(1, 6, index + 1)\n",
        "    plt.axis('off')\n",
        "    plt.imshow(image, cmap=plt.cm.gray_r, interpolation='nearest')\n",
        "    plt.title('Training: %i' % label)\n",
        "\n",
        "print(digits.keys())"
      ],
      "execution_count": 10,
      "outputs": [
        {
          "output_type": "stream",
          "text": [
            "len of data = 1797\n",
            "1797\n",
            "dict_keys(['data', 'target', 'target_names', 'images', 'DESCR'])\n"
          ],
          "name": "stdout"
        },
        {
          "output_type": "display_data",
          "data": {
            "image/png": "[encoded data removed]",
            "text/plain": [
              "<Figure size 576x432 with 5 Axes>"
            ]
          },
          "metadata": {
            "tags": [],
            "needs_background": "light"
          }
        }
      ]
    },
    {
      "cell_type": "code",
      "metadata": {
        "id": "ytTN3_Hno9tY",
        "outputId": "7e65856b-d54d-499e-f3ec-58eb897c4214",
        "colab": {
          "base_uri": "https://localhost:8080/"
        }
      },
      "source": [
        "# print(digits['DESCR'])\n",
        "print(len(digits['data'][0]))\n",
        "# 64\n",
        "print(len(digits['data']))\n",
        "# 1797\n",
        "print(digits['data'][0])"
      ],
      "execution_count": 15,
      "outputs": [
        {
          "output_type": "stream",
          "text": [
            "64\n",
            "1797\n",
            "[ 0.  0.  5. 13.  9.  1.  0.  0.  0.  0. 13. 15. 10. 15.  5.  0.  0.  3.\n",
            " 15.  2.  0. 11.  8.  0.  0.  4. 12.  0.  0.  8.  8.  0.  0.  5.  8.  0.\n",
            "  0.  9.  8.  0.  0.  4. 11.  0.  1. 12.  7.  0.  0.  2. 14.  5. 10. 12.\n",
            "  0.  0.  0.  0.  6. 13. 10.  0.  0.  0.]\n"
          ],
          "name": "stdout"
        }
      ]
    },
    {
      "cell_type": "code",
      "metadata": {
        "id": "77zhd2Cmpkwr",
        "outputId": "4c2750e9-6a92-4d86-c7ec-4bfbda32bfe2",
        "colab": {
          "base_uri": "https://localhost:8080/"
        }
      },
      "source": [
        "# X_test[:,[1]]\n",
        "ax_test = X_test[:, [19, 55, 300]]\n",
        "ay_test = Y_test[:, [19, 55, 300]]\n",
        "print(ay_test)\n",
        "\n",
        "predict(ax_test, weights)"
      ],
      "execution_count": 16,
      "outputs": [
        {
          "output_type": "stream",
          "text": [
            "[[0. 1. 0.]\n",
            " [0. 0. 0.]\n",
            " [0. 0. 1.]\n",
            " [0. 0. 0.]\n",
            " [0. 0. 0.]\n",
            " [0. 0. 0.]\n",
            " [0. 0. 0.]\n",
            " [0. 0. 0.]\n",
            " [1. 0. 0.]\n",
            " [0. 0. 0.]]\n"
          ],
          "name": "stdout"
        },
        {
          "output_type": "execute_result",
          "data": {
            "text/plain": [
              "array([[0., 1., 0.],\n",
              "       [0., 0., 0.],\n",
              "       [0., 0., 1.],\n",
              "       [0., 0., 0.],\n",
              "       [0., 0., 0.],\n",
              "       [0., 0., 0.],\n",
              "       [0., 0., 0.],\n",
              "       [0., 0., 0.],\n",
              "       [1., 0., 0.],\n",
              "       [0., 0., 0.]])"
            ]
          },
          "metadata": {
            "tags": []
          },
          "execution_count": 16
        }
      ]
    },
    {
      "cell_type": "markdown",
      "metadata": {
        "id": "kUKXUdaYi4LR"
      },
      "source": [
        "## TBD: Generalize the Fit function to accept any number of layers.\n",
        "Currently fit is hardcoded for a 3 Layer neural network, with Relu Activation for L1 and L2 and Sigmoid activation for L3. Generalize the fit  to accept any layer and activation functions. You can use following sequence of steps to achieve this.\n",
        "\n",
        "### TBD 1.  Change layer_dims to layer_confs, previously it was just a list of numbers but now it will be a list of tuples (number_of_nodes, activation_function). E.g layer_confs for existing NN will be. \\[ (64, None), (40, relu), (20, relu), (10, sigmoid) \\] \n",
        "\n",
        "### TBD 2.  Modify init_weights function to initilaize a general weights setting using layer_confs\n",
        "\n",
        "### TBD 3.  Modify fit function to use layer_confs to loop to go forward and backward.\n",
        "\n",
        "### TBD 4.  Use this general function to test the existing 3 layer configuration and see if you get same accuracy results\n"
      ]
    },
    {
      "cell_type": "code",
      "metadata": {
        "id": "zx-cBsEYsaL5"
      },
      "source": [
        "layer_confs = [ (64, None), (40, relu), (20, relu), (10, sigmoid) ]"
      ],
      "execution_count": 22,
      "outputs": []
    },
    {
      "cell_type": "code",
      "metadata": {
        "id": "TYocmthii4LR"
      },
      "source": [
        "def init_weights2(layer_confs):\n",
        "    \"\"\"\n",
        "\n",
        "    Initialize weights tensor\n",
        "\n",
        "    :param n_x: size of the input layer\n",
        "    :param n_h1: size of the hidden layer 1\n",
        "    :param n_h2: size of the hidden layer 2\n",
        "    :param n_y: size of the output layer\n",
        "\n",
        "    :return:     weights -- python dictionary containing initialized weights:\n",
        "                    W1 -- weight matrix of shape (n_h1, n_x)\n",
        "                    b1 -- bias vector of shape (n_h1, 1)\n",
        "                    W2 -- weight matrix of shape (n_h2, n_h1)\n",
        "                    b2 -- bias vector of shape (n_h2, 1)\n",
        "                    W3 -- weight matrix of shape (n_y, n_h2)\n",
        "                    b3 -- bias vector of shape (n_y, 1)\n",
        "    \"\"\"\n",
        "\n",
        "    np.random.seed(1)\n",
        "\n",
        "    W1 = np.random.randn(n_h1, n_x) * 0.01\n",
        "    b1 = np.zeros((n_h1, 1))\n",
        "    W2 = np.random.randn(n_h2, n_h1) * 0.01\n",
        "    b2 = np.zeros((n_h2, 1))\n",
        "    W3 = np.random.randn(n_y, n_h2) * 0.01\n",
        "    b3 = np.zeros((n_y, 1))\n",
        "\n",
        "    weights = { \"W1\": W1, \"b1\": b1, \"W2\": W2, \"b2\": b2, \"W3\": W3, \"b3\": b3 }\n",
        "\n",
        "    return weights\n",
        "\n",
        "    print(weights)"
      ],
      "execution_count": 25,
      "outputs": []
    },
    {
      "cell_type": "code",
      "metadata": {
        "id": "kIAQ1qLXso8t"
      },
      "source": [
        "def fit(X, Y, layers_conf, learning_rate=0.0075, num_iterations=10000, print_cost=False):\n",
        "    \"\"\"\n",
        "    Trains a 3 layer neural network\n",
        "\n",
        "    :param X: input features\n",
        "    :param Y: output labels\n",
        "    :param layers_dims: number of nodes in each layer ( inputs, number of neurons in each hidden layer, output)\n",
        "    :param learning_rate: \n",
        "    :param num_iterations:\n",
        "    :param print_cost: \n",
        "\n",
        "    :return: Weights and Bias of the trained network. \n",
        "\n",
        "    \"\"\"\n",
        "    np.random.seed(1)\n",
        "    grads = {}\n",
        "    costs = []  # to keep track of the cost\n",
        "    m = X.shape[1]  # number of examples\n",
        "    \n",
        "    (n_x, n_h1, n_h2, n_y) = layers_conf\n",
        "\n",
        "    weights = init_weights(n_x, n_h1, n_h2, n_y)\n",
        "\n",
        "    for i in range(0, num_iterations):\n",
        "\n",
        "        # Forward propagation: (LINEAR -> RELU) * 2 -> LINEAR -> SIGMOID.\n",
        "\n",
        "        # Retrieve W1, b1, W2, b2 from weights\n",
        "        W1 = weights[\"W1\"]\n",
        "        b1 = weights[\"b1\"]\n",
        "        W2 = weights[\"W2\"]\n",
        "        b2 = weights[\"b2\"]\n",
        "        W3 = weights[\"W3\"]\n",
        "        b3 = weights[\"b3\"]\n",
        "\n",
        "\n",
        "        A1, Z1  = step_forward(X, W1, b1, relu)\n",
        "        A2, Z2  = step_forward(A1, W2, b2, relu)\n",
        "        A3, Z3  = step_forward(A2, W3, b3, sigmoid)\n",
        "\n",
        "        cost = compute_cost(A3, Y)\n",
        "\n",
        "        # Initializing backward propagation\n",
        "        dA3 = - (np.divide(Y, A3) - np.divide(1 - Y, 1 - A3))\n",
        "\n",
        "        # gradient descent through back propagation\n",
        "        dA2, dW3, db3 = step_backward(dA3, Z3, A2, W3, b3, sigmoid_backward)\n",
        "        dA1, dW2, db2 = step_backward(dA2, Z2, A1, W2, b2, relu_backward)\n",
        "        dA0, dW1, db1 = step_backward(dA1, Z1, X, W1, b1,  relu_backward)\n",
        "\n",
        "        grads['dW1'] = dW1\n",
        "        grads['db1'] = db1\n",
        "        grads['dW2'] = dW2\n",
        "        grads['db2'] = db2\n",
        "        grads['dW3'] = dW3\n",
        "        grads['db3'] = db3\n",
        "\n",
        "        # Update weights.\n",
        "        weights = update_weights(weights, grads, learning_rate)\n",
        "\n",
        "        # Print the cost every 100 training example\n",
        "        if print_cost and i % 100 == 0:\n",
        "            print(\"Cost after iteration {}: {}\".format(i, np.squeeze(cost)))\n",
        "        if print_cost and i % 100 == 0:\n",
        "            costs.append(cost)\n",
        "\n",
        "    # plot the cost\n",
        "\n",
        "    plt.plot(np.squeeze(costs))\n",
        "    plt.ylabel('cost')\n",
        "    plt.xlabel('iterations (per tens)')\n",
        "    plt.title(\"Learning rate =\" + str(learning_rate))\n",
        "    plt.show()\n",
        "\n",
        "    return weights"
      ],
      "execution_count": null,
      "outputs": []
    },
    {
      "cell_type": "code",
      "metadata": {
        "id": "HITy4_ELt_BO",
        "outputId": "34c71038-35be-4120-8b50-3b4872cde352",
        "colab": {
          "base_uri": "https://localhost:8080/"
        }
      },
      "source": [
        "# Preparing the digits dataset\n",
        "digits = datasets.load_digits()\n",
        "\n",
        "\n",
        "X = digits.data\n",
        "\n",
        "# One hot encoding of target (Y)\n",
        "Y = np_utils.to_categorical(digits.target, 10)\n",
        "\n",
        "# Train test split\n",
        "X_train, X_test, Y_train, Y_test = train_test_split(X, Y, test_size=0.25, random_state=42)\n",
        "\n",
        "# Transposing the input/output data as implementation expects them to be\n",
        "# In Library implementations its usually the weights which are transposed\n",
        "\n",
        "X_train = np.transpose(X_train)\n",
        "X_test = np.transpose(X_test)\n",
        "Y_train = np.transpose(Y_train)\n",
        "Y_test = np.transpose(Y_test)\n",
        "\n",
        "\n",
        "n_x = (64, None)\n",
        "n_h1 = (40, relu)\n",
        "n_h2 = (20, relu)\n",
        "n_y = (10, sigmoid)\n",
        "#layers_conf = [n_x, n_h1, n_h2, n_y]\n",
        "layers_conf = [ (64, None), (40, relu), (20, relu), (10, sigmoid) ]\n",
        "\n",
        "print (layers_conf)\n",
        "\n",
        "#weights = fit(X_train, Y_train, layers_dims = (n_x, n_h1, n_h2, n_y), num_iterations = 10000, print_cost=True)"
      ],
      "execution_count": 21,
      "outputs": [
        {
          "output_type": "stream",
          "text": [
            "[(64, None), (40, <function relu at 0x7f35fb45a840>), (20, <function relu at 0x7f35fb45a840>), (10, <function sigmoid at 0x7f35fb45a8c8>)]\n"
          ],
          "name": "stdout"
        }
      ]
    }
  ]
}