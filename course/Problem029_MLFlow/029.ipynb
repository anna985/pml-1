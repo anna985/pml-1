{
  "nbformat": 4,
  "nbformat_minor": 0,
  "metadata": {
    "kernelspec": {
      "name": "python3",
      "language": "python",
      "display_name": "Python 3"
    },
    "language_info": {
      "codemirror_mode": {
        "name": "ipython",
        "version": 3
      },
      "file_extension": ".py",
      "mimetype": "text/x-python",
      "name": "python",
      "nbconvert_exporter": "python",
      "pygments_lexer": "ipython3",
      "version": "3.8.2-final"
    },
    "colab": {
      "name": "Copy of 029.ipynb",
      "provenance": [],
      "include_colab_link": true
    }
  },
  "cells": [
    {
      "cell_type": "markdown",
      "metadata": {
        "id": "view-in-github",
        "colab_type": "text"
      },
      "source": [
        "<a href=\"https://colab.research.google.com/github/anna985/pml-1/blob/master/course/Problem029_MLFlow/029.ipynb\" target=\"_parent\"><img src=\"https://colab.research.google.com/assets/colab-badge.svg\" alt=\"Open In Colab\"/></a>"
      ]
    },
    {
      "cell_type": "markdown",
      "metadata": {
        "id": "PSUJmCPuZV4r"
      },
      "source": [
        "<img src=\"https://github.com/rawata/pml/blob/master/img/mldlc2.png?raw=1\" width=\"900\">"
      ]
    },
    {
      "cell_type": "markdown",
      "metadata": {
        "id": "dm02pCkEZV4x"
      },
      "source": [
        "## KFold and StratifiedKFold train test split"
      ]
    },
    {
      "cell_type": "code",
      "metadata": {
        "id": "8l6eVOytZV4x"
      },
      "source": [
        "from sklearn.model_selection import KFold\n",
        "import numpy as np\n",
        "\n",
        "X = np.array([[1, 2], [3, 4], [4, 5], [4, 4], [5, 6], [6, 7], [8, 9], [9, 10], [11, 12]])\n",
        "Y = np.array([0, 0, 0, 1, 1, 1, 2, 2, 2])\n",
        "\n",
        "# 3 Fold split\n",
        "kf = KFold(n_splits=3, shuffle=True, random_state=101)\n",
        "for train_indices, test_indices in kf.split(X, Y):\n",
        "   print(\"train indices:\", train_indices, \"test indices:\", test_indices)\n",
        "   X_train, X_test = X[train_indices], X[test_indices]\n",
        "   Y_train, Y_test = Y[train_indices], Y[test_indices]\n",
        "\n",
        "\n",
        "#StratifiedKFold distributes the target labels within fold in same ratio in which they appear in main dataset\n",
        "\n",
        "# TBD: Use StratifiedKFold to split X and Y into 3 fold train test set and verify that all the three target labels (0, 1, 2) are present in each fold"
      ],
      "execution_count": null,
      "outputs": []
    },
    {
      "cell_type": "markdown",
      "metadata": {
        "id": "Kfqe1x7DZV4y"
      },
      "source": [
        "## GridSearch CV (Search for a best set of hyperparams for a given model)"
      ]
    },
    {
      "cell_type": "code",
      "metadata": {
        "pycharm": {
          "name": "#%%\n"
        },
        "id": "6QkVwpv_ZV4y",
        "outputId": "8628bf91-0074-4d78-9e3a-0593546943da"
      },
      "source": [
        "##Load Boston housing dataset\n",
        "\n",
        "from sklearn.datasets import load_boston\n",
        "from sklearn.model_selection import train_test_split\n",
        "from sklearn.linear_model import LinearRegression\n",
        "from sklearn.neighbors import KNeighborsRegressor\n",
        "from sklearn.metrics import mean_squared_error\n",
        "\n",
        "X, Y = load_boston(return_X_y=True)\n",
        "\n",
        "X_train, X_test, Y_train, Y_test = train_test_split(X, Y, test_size=0.25, random_state=101)\n",
        "\n",
        "model = KNeighborsRegressor(n_neighbors=3)\n",
        "model.fit(X_train, Y_train)\n",
        "Y_hat = model.predict(X_test)\n",
        "print(mean_squared_error(Y_test, Y_hat))"
      ],
      "execution_count": null,
      "outputs": [
        {
          "output_type": "stream",
          "text": [
            "51.9764391951006\n"
          ],
          "name": "stdout"
        }
      ]
    },
    {
      "cell_type": "code",
      "metadata": {
        "pycharm": {
          "name": "#%%\n"
        },
        "id": "uEXqpbAdZV40"
      },
      "source": [
        "import numpy as np\n",
        "from sklearn.model_selection import GridSearchCV\n",
        "\n",
        "def grid_summary(grid_result):\n",
        "    print(f\"Best: {grid_result.best_score_} using {grid_result.best_params_}\")\n",
        "    means = grid_result.cv_results_['mean_test_score']\n",
        "    stds = grid_result.cv_results_['std_test_score']\n",
        "    params = grid_result.cv_results_['params']\n",
        "    for mean, stdev, param in zip(means, stds, params):\n",
        "        print(f\"{mean},{stdev} with: {param}\")\n",
        "\n",
        "## TBD Using GridSearchCV check which value of param n_neighbors [2,3,4,5,6,7,8] gives the best results\n",
        "\n",
        "\n",
        "## TBD Using GridSearchCV check which value of param combination n_neighbors [2,3,4,5,6,7,8], p [1, 2] gives the best result\n"
      ],
      "execution_count": null,
      "outputs": []
    },
    {
      "cell_type": "markdown",
      "metadata": {
        "collapsed": false,
        "id": "tVBgnzvNZV40"
      },
      "source": [
        "## Gridsearch across different algorithms\n",
        "\n",
        "## TBD Create a ML pipeline that selects the best model-param combination among given set of madels and params\n",
        "* LinearRegression, No params\n",
        "* KNeighborsRegressor, params: {n_neighbors : [4,5,6], p: [1,2]}\n",
        "* XGBoost, params : {}\n"
      ]
    }
  ]
}