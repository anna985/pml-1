{
  "nbformat": 4,
  "nbformat_minor": 0,
  "metadata": {
    "kernelspec": {
      "display_name": "Python 3",
      "language": "python",
      "name": "python3"
    },
    "language_info": {
      "codemirror_mode": {
        "name": "ipython",
        "version": 3
      },
      "file_extension": ".py",
      "mimetype": "text/x-python",
      "name": "python",
      "nbconvert_exporter": "python",
      "pygments_lexer": "ipython3",
      "version": "3.6.5"
    },
    "colab": {
      "name": "005.ipynb",
      "provenance": [],
      "toc_visible": true
    }
  },
  "cells": [
    {
      "cell_type": "markdown",
      "metadata": {
        "id": "ySNrETthb3jj"
      },
      "source": [
        "## Supervised Learning - Regression\n",
        "\n",
        "*y* is a real number"
      ]
    },
    {
      "cell_type": "code",
      "metadata": {
        "scrolled": true,
        "id": "sRQeR3u5b3jl"
      },
      "source": [
        "from sklearn import linear_model\n",
        "'''\n",
        "+--------------+\n",
        "| frev         |\n",
        "+--------------+\n",
        "| x1 | x2 | y  |\n",
        "+----+----+----+\n",
        "| 2  | 3  | 4  |\n",
        "+----+----+----+\n",
        "| 8  | 5  | 9  |\n",
        "+----+----+----+\n",
        "| 6  | 4  | 7  |\n",
        "+----+----+----+\n",
        "| 10 | 2  | 7  |\n",
        "+----+----+----+\n",
        "| 4  | 2  | 4  |\n",
        "+----+----+----+\n",
        "| 16 | 7  | 15 |\n",
        "+----+----+----+\n",
        "'''\n",
        "model = linear_model.LinearRegression()\n",
        "\n",
        "#TBD: Fit/Train the model from observed data\n",
        "\n",
        "\n",
        "#TBD: Use fitted/trained model to predict for any given x1, x2\n",
        "\n",
        "\n"
      ],
      "execution_count": null,
      "outputs": []
    },
    {
      "cell_type": "markdown",
      "metadata": {
        "id": "Th2ay_htb3jp"
      },
      "source": [
        "## Supervised Learning - Classification\n",
        "*y* is a class/category"
      ]
    },
    {
      "cell_type": "code",
      "metadata": {
        "id": "wKZCmtCeb3jp",
        "outputId": "a04a269d-6c21-460b-e5af-e066959ec918",
        "colab": {
          "base_uri": "https://localhost:8080/",
          "height": 697
        }
      },
      "source": [
        "from sklearn.feature_extraction.text import CountVectorizer\n",
        "from sklearn.linear_model.logistic import LogisticRegression\n",
        "import numpy as np\n",
        "\n",
        "'''\n",
        "Building a labelled dataset of documents\n",
        "'''\n",
        "doc0 = \"hello world\"\n",
        "doc1 = \"foo bar\"\n",
        "doc2 = \"lottery prize winner\"\n",
        "docs_train = [doc0] * 100 + [doc1] * 100 + [doc2] * 4 \n",
        "\n",
        "docs_test = [\n",
        "             \"lottery winner\",\n",
        "             \"hello foo\", \n",
        "             \"hello bar\", \n",
        "             \"lottery prize\", \n",
        "             \"world foo\",\n",
        "             \"prize winner\",\n",
        "            ]\n",
        "\n",
        "'''\n",
        "    Converting documents to feature vectors\n",
        "'''\n",
        "vectorizer = CountVectorizer()\n",
        "X_train = vectorizer.fit_transform(docs_train).toarray()\n",
        "features = vectorizer.get_feature_names()\n",
        "print(f'Features: {features}')\n",
        "\n",
        "print(f'X_train:\\n====\\n{X_train}\\n====\\n')\n",
        "Y_train = np.array([[0] * 100 + [0] * 100 + [1.0] * 4]).reshape(204,)\n",
        "print(f'Y_train:\\n====\\n{Y_train}\\n====\\n')\n",
        "\n",
        "X_test = vectorizer.transform(docs_test).toarray('F')\n",
        "print(f'X_test:\\n====\\n{X_test}\\n====\\n')\n",
        "\n",
        "'''\n",
        "Choosing the model\n",
        "'''\n",
        "classifier = LogisticRegression()\n",
        "\n",
        "\n",
        "'''\n",
        "    Train the model\n",
        "'''\n",
        "#TBD Fit the model to training data\n",
        "classifier.fit(X_train, Y_train)\n",
        "\n",
        "'''\n",
        "    Test the model\n",
        "'''\n",
        "#TBD Use fitted model to predict if the documents in test data are spam or not\n",
        "#predictions = []\n",
        "predictions = classifier.predict(X_test)\n",
        "\n",
        "print(f'Spam classification (1 means document is spam):\\n====\\n{predictions}\\n====\\n')"
      ],
      "execution_count": 5,
      "outputs": [
        {
          "output_type": "stream",
          "text": [
            "Features: ['bar', 'foo', 'hello', 'lottery', 'prize', 'winner', 'world']\n",
            "X_train:\n",
            "====\n",
            "[[0 0 1 ... 0 0 1]\n",
            " [0 0 1 ... 0 0 1]\n",
            " [0 0 1 ... 0 0 1]\n",
            " ...\n",
            " [0 0 0 ... 1 1 0]\n",
            " [0 0 0 ... 1 1 0]\n",
            " [0 0 0 ... 1 1 0]]\n",
            "====\n",
            "\n",
            "Y_train:\n",
            "====\n",
            "[0. 0. 0. 0. 0. 0. 0. 0. 0. 0. 0. 0. 0. 0. 0. 0. 0. 0. 0. 0. 0. 0. 0. 0.\n",
            " 0. 0. 0. 0. 0. 0. 0. 0. 0. 0. 0. 0. 0. 0. 0. 0. 0. 0. 0. 0. 0. 0. 0. 0.\n",
            " 0. 0. 0. 0. 0. 0. 0. 0. 0. 0. 0. 0. 0. 0. 0. 0. 0. 0. 0. 0. 0. 0. 0. 0.\n",
            " 0. 0. 0. 0. 0. 0. 0. 0. 0. 0. 0. 0. 0. 0. 0. 0. 0. 0. 0. 0. 0. 0. 0. 0.\n",
            " 0. 0. 0. 0. 0. 0. 0. 0. 0. 0. 0. 0. 0. 0. 0. 0. 0. 0. 0. 0. 0. 0. 0. 0.\n",
            " 0. 0. 0. 0. 0. 0. 0. 0. 0. 0. 0. 0. 0. 0. 0. 0. 0. 0. 0. 0. 0. 0. 0. 0.\n",
            " 0. 0. 0. 0. 0. 0. 0. 0. 0. 0. 0. 0. 0. 0. 0. 0. 0. 0. 0. 0. 0. 0. 0. 0.\n",
            " 0. 0. 0. 0. 0. 0. 0. 0. 0. 0. 0. 0. 0. 0. 0. 0. 0. 0. 0. 0. 0. 0. 0. 0.\n",
            " 0. 0. 0. 0. 0. 0. 0. 0. 1. 1. 1. 1.]\n",
            "====\n",
            "\n",
            "X_test:\n",
            "====\n",
            "[[0 0 0 1 0 1 0]\n",
            " [0 1 1 0 0 0 0]\n",
            " [1 0 1 0 0 0 0]\n",
            " [0 0 0 1 1 0 0]\n",
            " [0 1 0 0 0 0 1]\n",
            " [0 0 0 0 1 1 0]]\n",
            "====\n",
            "\n",
            "Spam classification (1 means document is spam):\n",
            "====\n",
            "[0. 0. 0. 0. 0. 0.]\n",
            "====\n",
            "\n"
          ],
          "name": "stdout"
        }
      ]
    }
  ]
}