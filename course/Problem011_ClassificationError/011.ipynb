{
  "nbformat": 4,
  "nbformat_minor": 0,
  "metadata": {
    "kernelspec": {
      "display_name": "Python 3",
      "language": "python",
      "name": "python3"
    },
    "language_info": {
      "codemirror_mode": {
        "name": "ipython",
        "version": 3
      },
      "file_extension": ".py",
      "mimetype": "text/x-python",
      "name": "python",
      "nbconvert_exporter": "python",
      "pygments_lexer": "ipython3",
      "version": "3.8.2-final"
    },
    "colab": {
      "name": "Copy of 011.ipynb",
      "provenance": [],
      "include_colab_link": true
    }
  },
  "cells": [
    {
      "cell_type": "markdown",
      "metadata": {
        "id": "view-in-github",
        "colab_type": "text"
      },
      "source": [
        "<a href=\"https://colab.research.google.com/github/anna985/pml-1/blob/master/course/Problem011_ClassificationError/011.ipynb\" target=\"_parent\"><img src=\"https://colab.research.google.com/assets/colab-badge.svg\" alt=\"Open In Colab\"/></a>"
      ]
    },
    {
      "cell_type": "markdown",
      "metadata": {
        "scrolled": true,
        "id": "F6nZ8jbmhzlf"
      },
      "source": [
        "## Categorical cross entropy error\n",
        "\n",
        "$\n",
        "J = - \\frac{1}{N} \\sum\\limits_{i = 0}^{N} \\large{(} \\small y^{(i)}\\log\\left(\\hat{y}^{(i)}\\right) + (1-y^{(i)})\\log\\left(1- \\hat{y}^{(i)}\\right) \\large{)}\n",
        "$"
      ]
    },
    {
      "cell_type": "code",
      "metadata": {
        "id": "RNlRCXF2hzlg",
        "outputId": "77fc6e23-fe66-4034-99b5-44a63a0dff7a",
        "colab": {
          "base_uri": "https://localhost:8080/"
        }
      },
      "source": [
        "import numpy as np\n",
        "Y = np.array([1, 0, 0, 0, 1, 1, 0])\n",
        "\n",
        "# Follwing are the corrosponding Y_hat values from 3 classification models\n",
        "# TBD: Arrange the models from best to worst.\n",
        "Y_hat1 = np.array([0.99, 0.01, 0.01, 0.01, 0.99, 0.99, 0.01])\n",
        "Y_hat2 = np.array([0.01, 0.99, 0.99, 0.99, 0.01, 0.01, 0.99])\n",
        "Y_hat3 = np.array([0.99, 0.01, 0.01, 0.99, 0.99, 0.01, 0.01])\n",
        "Y_hat4 = np.array([0.99, 0.01, 0.01, 0.99, 0.99, 0.01, 0.99])\n",
        "\n",
        "total_error1 = sum([z[0] - z[1] for z in zip(Y, Y_hat1)])\n",
        "print(\"total_error1:\", total_error1)\n",
        "mean_squared_error1 = sum([(z[0] - z[1])**2 for z in zip(Y, Y_hat1)])/len(Y)\n",
        "print(\"mean_squared_error1:\", mean_squared_error1)\n",
        "\n",
        "total_error2 = sum([z[0] - z[1] for z in zip(Y, Y_hat2)])\n",
        "print(\"total_error2:\", total_error2)\n",
        "mean_squared_error2 = sum([(z[0] - z[1])**2 for z in zip(Y, Y_hat2)])/len(Y)\n",
        "print(\"mean_squared_error2:\", mean_squared_error2)\n",
        "\n",
        "total_error3 = sum([z[0] - z[1] for z in zip(Y, Y_hat3)])\n",
        "print(\"total_error3:\", total_error3)\n",
        "mean_squared_error3 = sum([(z[0] - z[1])**2 for z in zip(Y, Y_hat3)])/len(Y)\n",
        "print(\"mean_squared_error3:\", mean_squared_error3)\n",
        "\n",
        "total_error4 = sum([z[0] - z[1] for z in zip(Y, Y_hat4)])\n",
        "print(\"total_error4:\", total_error4)\n",
        "mean_squared_error4 = sum([(z[0] - z[1])**2 for z in zip(Y, Y_hat4)])/len(Y)\n",
        "print(\"mean_squared_error4:\", mean_squared_error1)"
      ],
      "execution_count": 10,
      "outputs": [
        {
          "output_type": "stream",
          "text": [
            "total_error1: -0.009999999999999972\n",
            "mean_squared_error1: 0.00010000000000000007\n",
            "total_error2: -0.99\n",
            "mean_squared_error2: 0.9801000000000001\n",
            "total_error3: -0.01\n",
            "mean_squared_error3: 0.28009999999999996\n",
            "total_error4: -0.99\n",
            "mean_squared_error4: 0.00010000000000000007\n"
          ],
          "name": "stdout"
        }
      ]
    },
    {
      "cell_type": "code",
      "metadata": {
        "id": "zkt7jmkGhzlk",
        "outputId": "d5f354f9-252e-4e1b-a14f-d9d3da2375b9",
        "colab": {
          "base_uri": "https://localhost:8080/"
        }
      },
      "source": [
        "#TBD For above Y and Y_hat values compute categorical cross entropy error using sklearn library function\n",
        "from sklearn.metrics import log_loss\n",
        "\n",
        "Logloss1 = log_loss(Y, Y_hat1)\n",
        "print(Logloss1)\n",
        "\n",
        "Logloss2 = log_loss(Y, Y_hat2)\n",
        "print(Logloss2)\n",
        "\n",
        "Logloss3 = log_loss(Y, Y_hat3)\n",
        "print(Logloss3)\n",
        "\n",
        "Logloss4 = log_loss(Y, Y_hat4)\n",
        "print(Logloss4)"
      ],
      "execution_count": 11,
      "outputs": [
        {
          "output_type": "stream",
          "text": [
            "0.010050335853501449\n",
            "4.605170185988091\n",
            "1.3229417216062413\n",
            "1.9793874144826111\n"
          ],
          "name": "stdout"
        }
      ]
    }
  ]
}