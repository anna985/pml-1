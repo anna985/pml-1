{
  "nbformat": 4,
  "nbformat_minor": 0,
  "metadata": {
    "kernelspec": {
      "display_name": "Python 3",
      "language": "python",
      "name": "python3"
    },
    "language_info": {
      "codemirror_mode": {
        "name": "ipython",
        "version": 3
      },
      "file_extension": ".py",
      "mimetype": "text/x-python",
      "name": "python",
      "nbconvert_exporter": "python",
      "pygments_lexer": "ipython3",
      "version": "3.8.2-final"
    },
    "colab": {
      "name": "Copy of 031.ipynb",
      "provenance": [],
      "include_colab_link": true
    }
  },
  "cells": [
    {
      "cell_type": "markdown",
      "metadata": {
        "id": "view-in-github",
        "colab_type": "text"
      },
      "source": [
        "<a href=\"https://colab.research.google.com/github/anna985/pml-1/blob/master/course/Problem031_MLAuto/031.ipynb\" target=\"_parent\"><img src=\"https://colab.research.google.com/assets/colab-badge.svg\" alt=\"Open In Colab\"/></a>"
      ]
    },
    {
      "cell_type": "markdown",
      "metadata": {
        "id": "MnsG-6q1aljc"
      },
      "source": [
        "## Auto ML (Automating finding the best model)\n",
        "### In the classification problem of predicting the credit risk use AutoKeras to arrive at best Neural Network architecture.\n"
      ]
    },
    {
      "cell_type": "code",
      "metadata": {
        "id": "YCHZvwUwaljj"
      },
      "source": [
        "!pip install autokeras"
      ],
      "execution_count": null,
      "outputs": []
    },
    {
      "cell_type": "code",
      "metadata": {
        "id": "6-xL6yp9aljj"
      },
      "source": [
        "from sklearn.datasets import fetch_openml\n",
        "import autokeras as ak\n",
        "\n",
        "d = fetch_openml(\"credit-g\")\n",
        "X = d[\"data\"]\n",
        "Y_raw = d[\"target\"]\n",
        "\n",
        "#TBD Split into train and test set\n",
        "\n",
        "classifier = ak.StructuredDataClassifier(overwrite=True, max_trials=5)\n",
        "#TBD Fit on train set\n",
        "\n",
        "#TBD Evaluate on test set \n"
      ],
      "execution_count": null,
      "outputs": []
    },
    {
      "cell_type": "markdown",
      "metadata": {
        "id": "hmDuPVNualjk"
      },
      "source": [
        "## TBD: Show the best architecture found by autokeras"
      ]
    },
    {
      "cell_type": "markdown",
      "metadata": {
        "id": "1etH4Ju0aljk"
      },
      "source": [
        "## TBD: Could you beat the evaluation score of above architecture by any other manually selected model (including non neural net classifiers)"
      ]
    },
    {
      "cell_type": "markdown",
      "metadata": {
        "id": "xmReCH5daljk"
      },
      "source": [
        "## Auto Data Understanding\n",
        "## [Tensorflow Data Validation](https://www.tensorflow.org/tfx/guide/tfdv)"
      ]
    },
    {
      "cell_type": "markdown",
      "metadata": {
        "id": "dI1aM2qPaljl"
      },
      "source": [
        "## Auto Data Exploration\n",
        "[pandas-profiling](https://github.com/pandas-profiling/pandas-profiling)"
      ]
    },
    {
      "cell_type": "code",
      "metadata": {
        "id": "wcRPrcq5aljl"
      },
      "source": [
        ""
      ],
      "execution_count": null,
      "outputs": []
    }
  ]
}