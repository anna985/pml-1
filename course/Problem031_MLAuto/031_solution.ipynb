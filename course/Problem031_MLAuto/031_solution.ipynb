{
  "nbformat": 4,
  "nbformat_minor": 0,
  "metadata": {
    "kernelspec": {
      "display_name": "Python 3",
      "language": "python",
      "name": "python3"
    },
    "language_info": {
      "codemirror_mode": {
        "name": "ipython",
        "version": 3
      },
      "file_extension": ".py",
      "mimetype": "text/x-python",
      "name": "python",
      "nbconvert_exporter": "python",
      "pygments_lexer": "ipython3",
      "version": "3.8.2-final"
    },
    "colab": {
      "name": "Copy of 031_solution.ipynb",
      "provenance": [],
      "include_colab_link": true
    }
  },
  "cells": [
    {
      "cell_type": "markdown",
      "metadata": {
        "id": "view-in-github",
        "colab_type": "text"
      },
      "source": [
        "<a href=\"https://colab.research.google.com/github/anna985/pml-1/blob/master/course/Problem031_MLAuto/031_solution.ipynb\" target=\"_parent\"><img src=\"https://colab.research.google.com/assets/colab-badge.svg\" alt=\"Open In Colab\"/></a>"
      ]
    },
    {
      "cell_type": "markdown",
      "metadata": {
        "id": "EjwEA4kPp812"
      },
      "source": [
        "## Auto ML (Automating finding the best model)\n",
        "### In the classification problem of predicting the credit risk use AutoKeras to arrive at best Neural Network architecture.\n"
      ]
    },
    {
      "cell_type": "code",
      "metadata": {
        "id": "Qi8XOaNLp818"
      },
      "source": [
        "!pip install autokeras"
      ],
      "execution_count": null,
      "outputs": []
    },
    {
      "cell_type": "code",
      "metadata": {
        "id": "QlDUsjodp819"
      },
      "source": [
        "from sklearn.datasets import fetch_openml\n",
        "import autokeras as ak\n",
        "\n",
        "d = fetch_openml(\"credit-g\")\n",
        "X = d[\"data\"]\n",
        "Y_raw = d[\"target\"]\n",
        "\n",
        "\"\"\"\n",
        " AutoKeras accepts string labels, hence we dont encode the target labels\n",
        "\"\"\"\n",
        "\n",
        "\n",
        "#TBD Split into train and test set\n",
        "from sklearn.model_selection import train_test_split\n",
        "from sklearn.preprocessing import  Normalizer\n",
        "\n",
        "X_train, X_test, Y_train, Y_test = train_test_split(X, Y_raw, test_size=0.25, random_state=101)\n",
        "\n",
        "# Normalize the input features\n",
        "scaler = Normalizer()\n",
        "scaler.fit(X_train)\n",
        "X_train = scaler.transform(X_train)\n",
        "X_test = scaler.transform(X_test)\n",
        "\n",
        "classifier = ak.StructuredDataClassifier(overwrite=True, max_trials=3)\n",
        "\n",
        "#TBD Fit on train set\n",
        "classifier.fit(X_train, Y_train, epochs=100)"
      ],
      "execution_count": null,
      "outputs": []
    },
    {
      "cell_type": "code",
      "metadata": {
        "pycharm": {
          "name": "#%%\n"
        },
        "id": "kKAxAmHZp819"
      },
      "source": [
        "#TBD Evaluate on test set\n",
        "classifier.evaluate(X_test, Y_test)"
      ],
      "execution_count": null,
      "outputs": []
    },
    {
      "cell_type": "code",
      "metadata": {
        "pycharm": {
          "name": "#%%\n"
        },
        "id": "o_Le2isdp81-"
      },
      "source": [
        "## TBD: Show the best architecture found by autokeras\n",
        "model = classifier.export_model()\n",
        "model.summary()"
      ],
      "execution_count": null,
      "outputs": []
    },
    {
      "cell_type": "code",
      "metadata": {
        "pycharm": {
          "name": "#%%\n"
        },
        "id": "TuOVWyUxp81-"
      },
      "source": [
        "## TBD: Could you beat the evaluation score of above architecture by any other manually selected model (including non neural net classifiers)\n",
        "\n",
        "# Actually it should be easy to beat the classifier arrived at by autokeras, because one we have searched a small solution space\n",
        "# two its only limited to Neural networks, (ensemble algorithms like XGBoost perform better on Structured data tasks)\n",
        "# 75% is not a great accuracy score so it should be beatable and with further feature engineering and ML pipeline\n",
        "# We could do much better.\n",
        "\n",
        "from sklearn.ensemble import GradientBoostingClassifier\n",
        "from sklearn.metrics import accuracy_score\n",
        "from sklearn.preprocessing import LabelEncoder\n",
        "\n",
        "Y = LabelEncoder().fit_transform(Y_raw)\n",
        "X_train, X_test, Y_train, Y_test = train_test_split(X, Y, test_size=0.25, random_state=101)\n",
        "\n",
        "# Normalize the input features\n",
        "scaler = Normalizer()\n",
        "scaler.fit(X_train)\n",
        "X_train = scaler.transform(X_train)\n",
        "X_test = scaler.transform(X_test)\n",
        "\n",
        "model = GradientBoostingClassifier()\n",
        "model.fit(X_train, Y_train)\n",
        "\n",
        "Y_hat = model.predict(X_test)\n",
        "accuracy_score(Y_test, Y_hat)\n",
        "\n"
      ],
      "execution_count": null,
      "outputs": []
    },
    {
      "cell_type": "markdown",
      "metadata": {
        "id": "2kiIcw1hp81-"
      },
      "source": [
        "## Auto Data Understanding\n",
        "## [Tensorflow Data Validation](https://www.tensorflow.org/tfx/guide/tfdv)"
      ]
    },
    {
      "cell_type": "markdown",
      "metadata": {
        "id": "TVHYJ7Q_p81_"
      },
      "source": [
        "## Auto Data Exploration\n",
        "[pandas-profiling](https://github.com/pandas-profiling/pandas-profiling)"
      ]
    },
    {
      "cell_type": "code",
      "metadata": {
        "id": "xxerFINnp82A"
      },
      "source": [
        ""
      ],
      "execution_count": null,
      "outputs": []
    }
  ]
}