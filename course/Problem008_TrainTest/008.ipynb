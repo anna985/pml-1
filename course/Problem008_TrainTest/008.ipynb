{
  "nbformat": 4,
  "nbformat_minor": 0,
  "metadata": {
    "kernelspec": {
      "display_name": "Python 3",
      "language": "python",
      "name": "python3"
    },
    "language_info": {
      "codemirror_mode": {
        "name": "ipython",
        "version": 3
      },
      "file_extension": ".py",
      "mimetype": "text/x-python",
      "name": "python",
      "nbconvert_exporter": "python",
      "pygments_lexer": "ipython3",
      "version": "3.8.2-final"
    },
    "colab": {
      "name": "Copy of 008.ipynb",
      "provenance": [],
      "include_colab_link": true
    }
  },
  "cells": [
    {
      "cell_type": "markdown",
      "metadata": {
        "id": "view-in-github",
        "colab_type": "text"
      },
      "source": [
        "<a href=\"https://colab.research.google.com/github/anna985/pml-1/blob/master/course/Problem008_TrainTest/008.ipynb\" target=\"_parent\"><img src=\"https://colab.research.google.com/assets/colab-badge.svg\" alt=\"Open In Colab\"/></a>"
      ]
    },
    {
      "cell_type": "markdown",
      "metadata": {
        "id": "d0P0ugcIgqeC"
      },
      "source": [
        "## Train Test Split\n"
      ]
    },
    {
      "cell_type": "code",
      "metadata": {
        "scrolled": true,
        "id": "gA4iYF7vgqeD",
        "outputId": "0d20d5ad-7633-4cc6-c05c-1321de0cf7f6",
        "colab": {
          "base_uri": "https://localhost:8080/"
        }
      },
      "source": [
        "'''\n",
        "+--------------+\n",
        "| f            |\n",
        "+--------------+\n",
        "| x1 | x2 | y  |\n",
        "+----+----+----+\n",
        "| 2  | 3  | 4  |\n",
        "+----+----+----+\n",
        "| 8  | 5  | 10  |\n",
        "+----+----+----+\n",
        "| 6  | 4  | 6  |\n",
        "+----+----+----+\n",
        "| 10 | 2  | 8  |\n",
        "+----+----+----+\n",
        "| 4  | 2  | 3  |\n",
        "+----+----+----+\n",
        "| 16 | 7  | 1 |\n",
        "+----+----+----+\n",
        "'''\n",
        "\n",
        "X = [\n",
        "    [2, 3],\n",
        "    [8, 5],\n",
        "    [6, 4],\n",
        "    [10, 2],\n",
        "    [4, 2],\n",
        "    [16, 7]\n",
        "]\n",
        "\n",
        "Y = [4, 10, 6, 8, 3, 1]\n",
        "\n",
        "#TBD Split X, Y into two dataset pairs of 4 and 2 rows respectively,\n",
        "#(X_train, Y_train) and (X_test, Y_test)\n",
        "X_train = X[:4]\n",
        "\n",
        "X_train"
      ],
      "execution_count": null,
      "outputs": [
        {
          "output_type": "execute_result",
          "data": {
            "text/plain": [
              "[[2, 3], [8, 5], [6, 4], [10, 2]]"
            ]
          },
          "metadata": {
            "tags": []
          },
          "execution_count": 1
        }
      ]
    },
    {
      "cell_type": "code",
      "metadata": {
        "id": "O24j0bQhgqeH",
        "outputId": "126f37da-0bbe-40f4-d021-e5dec7ad1e3b",
        "colab": {
          "base_uri": "https://localhost:8080/"
        }
      },
      "source": [
        "from sklearn.model_selection import train_test_split\n",
        "#Use sklearn \n",
        "#TBD Randomly split X, Y into two dataset pairs in 2:1 ratio.\n",
        "X_train, X_test, Y_train, Y_test = train_test_split(X,Y)\n",
        "\n",
        "X_train"
      ],
      "execution_count": null,
      "outputs": [
        {
          "output_type": "execute_result",
          "data": {
            "text/plain": [
              "[[16, 7], [10, 2], [4, 2], [8, 5]]"
            ]
          },
          "metadata": {
            "tags": []
          },
          "execution_count": 2
        }
      ]
    },
    {
      "cell_type": "code",
      "metadata": {
        "id": "bAtcufMJnLe1",
        "outputId": "467539dc-9b26-4323-9fe4-d6d37b5d73bf",
        "colab": {
          "base_uri": "https://localhost:8080/"
        }
      },
      "source": [
        "from sklearn.model_selection import train_test_split\n",
        "#Use sklearn \n",
        "#TBD Randomly split X, Y into two dataset pairs in 2:1 ratio.\n",
        "X_train, X_test, Y_train, Y_test = train_test_split(X, Y, test_size=0.333)\n",
        "\n",
        "X_train"
      ],
      "execution_count": null,
      "outputs": [
        {
          "output_type": "execute_result",
          "data": {
            "text/plain": [
              "[[2, 3], [6, 4], [4, 2], [10, 2]]"
            ]
          },
          "metadata": {
            "tags": []
          },
          "execution_count": 3
        }
      ]
    },
    {
      "cell_type": "code",
      "metadata": {
        "id": "SMFOarGipPBm",
        "outputId": "9bfacdfb-7fd4-453b-d219-7973733e9b28",
        "colab": {
          "base_uri": "https://localhost:8080/"
        }
      },
      "source": [
        "from sklearn.model_selection import train_test_split\n",
        "#Use sklearn \n",
        "#TBD Randomly split X, Y into two dataset pairs in 2:1 ratio.\n",
        "X_train, X_test, Y_train, Y_test = train_test_split(X, Y, test_size=0.333, random_state=100)\n",
        "\n",
        "X_train"
      ],
      "execution_count": 4,
      "outputs": [
        {
          "output_type": "execute_result",
          "data": {
            "text/plain": [
              "[[4, 2], [10, 2], [16, 7], [2, 3]]"
            ]
          },
          "metadata": {
            "tags": []
          },
          "execution_count": 4
        }
      ]
    }
  ]
}