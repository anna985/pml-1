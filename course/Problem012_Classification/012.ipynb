{
  "nbformat": 4,
  "nbformat_minor": 0,
  "metadata": {
    "kernelspec": {
      "name": "Python 3.8.2 64-bit ('pml')",
      "display_name": "Python 3.8.2 64-bit ('pml')",
      "metadata": {
        "interpreter": {
          "hash": "a4c9474aacc61cf72d0f1c29f4a339e5d6b2171c287541cfd684cf058783219b"
        }
      }
    },
    "language_info": {
      "codemirror_mode": {
        "name": "ipython",
        "version": 3
      },
      "file_extension": ".py",
      "mimetype": "text/x-python",
      "name": "python",
      "nbconvert_exporter": "python",
      "pygments_lexer": "ipython3",
      "version": "3.8.2-final"
    },
    "colab": {
      "name": "Copy of 012.ipynb",
      "provenance": [],
      "include_colab_link": true
    }
  },
  "cells": [
    {
      "cell_type": "markdown",
      "metadata": {
        "id": "view-in-github",
        "colab_type": "text"
      },
      "source": [
        "<a href=\"https://colab.research.google.com/github/anna985/pml-1/blob/master/course/Problem012_Classification/012.ipynb\" target=\"_parent\"><img src=\"https://colab.research.google.com/assets/colab-badge.svg\" alt=\"Open In Colab\"/></a>"
      ]
    },
    {
      "cell_type": "markdown",
      "metadata": {
        "scrolled": true,
        "id": "5FmdCDAFiI7i"
      },
      "source": [
        "# Credit Approval Yes/No\n",
        "\n"
      ]
    },
    {
      "cell_type": "code",
      "metadata": {
        "id": "_jmnsMbkiI7j",
        "outputId": "3e7d7491-d6fd-4ae4-b85f-c18dcd02fd4a",
        "colab": {
          "base_uri": "https://localhost:8080/"
        }
      },
      "source": [
        " from sklearn.datasets import fetch_openml\n",
        " #Load credit dataset\n",
        " data = fetch_openml(\"credit-g\")\n",
        " X, Y = fetch_openml('credit-g', version=1, as_frame=True, return_X_y=True)\n",
        "\n",
        "#X = data.data\n",
        "#Y = data.target\n",
        "\n",
        "#data.DESCR\n",
        "print(X.dtypes)"
      ],
      "execution_count": 53,
      "outputs": [
        {
          "output_type": "stream",
          "text": [
            "checking_status           category\n",
            "duration                   float64\n",
            "credit_history            category\n",
            "purpose                   category\n",
            "credit_amount              float64\n",
            "savings_status            category\n",
            "employment                category\n",
            "installment_commitment     float64\n",
            "personal_status           category\n",
            "other_parties             category\n",
            "residence_since            float64\n",
            "property_magnitude        category\n",
            "age                        float64\n",
            "other_payment_plans       category\n",
            "housing                   category\n",
            "existing_credits           float64\n",
            "job                       category\n",
            "num_dependents             float64\n",
            "own_telephone             category\n",
            "foreign_worker            category\n",
            "dtype: object\n"
          ],
          "name": "stdout"
        }
      ]
    },
    {
      "cell_type": "code",
      "metadata": {
        "id": "tCZjfOCOsB9S",
        "outputId": "01691697-0a3e-4c13-fca8-fa4648e7e65f",
        "colab": {
          "base_uri": "https://localhost:8080/"
        }
      },
      "source": [
        "#data.feature_names\n",
        "#data[\"feature_names\"]\n",
        "print(f'features ==> {data[\"feature_names\"]}')"
      ],
      "execution_count": 43,
      "outputs": [
        {
          "output_type": "stream",
          "text": [
            "features ==> ['checking_status', 'duration', 'credit_history', 'purpose', 'credit_amount', 'savings_status', 'employment', 'installment_commitment', 'personal_status', 'other_parties', 'residence_since', 'property_magnitude', 'age', 'other_payment_plans', 'housing', 'existing_credits', 'job', 'num_dependents', 'own_telephone', 'foreign_worker']\n"
          ],
          "name": "stdout"
        }
      ]
    },
    {
      "cell_type": "code",
      "metadata": {
        "id": "WOi0laTjsSQf",
        "outputId": "a6252883-6997-4bd4-bc15-2ad783793ca8",
        "colab": {
          "base_uri": "https://localhost:8080/"
        }
      },
      "source": [
        "data.target"
      ],
      "execution_count": 34,
      "outputs": [
        {
          "output_type": "execute_result",
          "data": {
            "text/plain": [
              "array(['good', 'bad', 'good', 'good', 'bad', 'good', 'good', 'good',\n",
              "       'good', 'bad', 'bad', 'bad', 'good', 'bad', 'good', 'bad', 'good',\n",
              "       'good', 'bad', 'good', 'good', 'good', 'good', 'good', 'good',\n",
              "       'good', 'good', 'good', 'good', 'bad', 'good', 'good', 'good',\n",
              "       'good', 'good', 'bad', 'good', 'bad', 'good', 'good', 'good',\n",
              "       'good', 'good', 'good', 'bad', 'good', 'good', 'good', 'good',\n",
              "       'good', 'good', 'good', 'good', 'good', 'bad', 'good', 'bad',\n",
              "       'good', 'good', 'bad', 'good', 'good', 'bad', 'bad', 'good',\n",
              "       'good', 'good', 'good', 'bad', 'good', 'good', 'good', 'good',\n",
              "       'good', 'bad', 'good', 'bad', 'good', 'good', 'good', 'bad',\n",
              "       'good', 'good', 'good', 'good', 'good', 'good', 'bad', 'good',\n",
              "       'bad', 'good', 'good', 'bad', 'good', 'good', 'bad', 'good',\n",
              "       'good', 'good', 'good', 'good', 'good', 'good', 'good', 'good',\n",
              "       'bad', 'bad', 'good', 'good', 'good', 'good', 'good', 'good',\n",
              "       'bad', 'good', 'good', 'bad', 'good', 'bad', 'good', 'bad', 'good',\n",
              "       'good', 'good', 'bad', 'good', 'good', 'bad', 'good', 'bad',\n",
              "       'good', 'bad', 'good', 'good', 'good', 'good', 'good', 'bad',\n",
              "       'good', 'good', 'good', 'good', 'good', 'bad', 'good', 'good',\n",
              "       'good', 'good', 'good', 'good', 'good', 'good', 'good', 'good',\n",
              "       'good', 'bad', 'good', 'good', 'good', 'good', 'good', 'good',\n",
              "       'good', 'good', 'good', 'good', 'bad', 'good', 'good', 'bad',\n",
              "       'bad', 'good', 'bad', 'good', 'bad', 'bad', 'good', 'good', 'good',\n",
              "       'good', 'bad', 'bad', 'bad', 'good', 'bad', 'good', 'bad', 'good',\n",
              "       'bad', 'good', 'bad', 'bad', 'bad', 'good', 'bad', 'bad', 'good',\n",
              "       'bad', 'good', 'bad', 'good', 'good', 'good', 'bad', 'good',\n",
              "       'good', 'good', 'good', 'good', 'good', 'good', 'good', 'bad',\n",
              "       'bad', 'good', 'good', 'good', 'good', 'good', 'good', 'good',\n",
              "       'good', 'good', 'good', 'good', 'good', 'bad', 'bad', 'bad',\n",
              "       'good', 'bad', 'good', 'good', 'good', 'good', 'bad', 'bad', 'bad',\n",
              "       'good', 'good', 'bad', 'good', 'bad', 'good', 'good', 'good',\n",
              "       'good', 'good', 'good', 'bad', 'good', 'good', 'bad', 'good',\n",
              "       'good', 'good', 'good', 'bad', 'good', 'good', 'good', 'good',\n",
              "       'good', 'good', 'good', 'bad', 'good', 'good', 'bad', 'good',\n",
              "       'good', 'good', 'good', 'bad', 'bad', 'good', 'good', 'good',\n",
              "       'bad', 'good', 'good', 'good', 'good', 'good', 'good', 'good',\n",
              "       'good', 'good', 'good', 'bad', 'good', 'bad', 'good', 'good',\n",
              "       'good', 'bad', 'good', 'good', 'good', 'good', 'good', 'bad',\n",
              "       'bad', 'good', 'bad', 'good', 'good', 'bad', 'bad', 'good', 'good',\n",
              "       'good', 'good', 'bad', 'good', 'bad', 'good', 'good', 'good',\n",
              "       'good', 'bad', 'bad', 'good', 'good', 'good', 'good', 'good',\n",
              "       'good', 'good', 'good', 'good', 'bad', 'bad', 'bad', 'bad', 'bad',\n",
              "       'good', 'bad', 'good', 'good', 'good', 'good', 'good', 'good',\n",
              "       'good', 'good', 'good', 'good', 'good', 'bad', 'good', 'bad',\n",
              "       'good', 'bad', 'good', 'bad', 'good', 'bad', 'good', 'bad', 'good',\n",
              "       'good', 'good', 'good', 'bad', 'good', 'good', 'good', 'bad',\n",
              "       'good', 'good', 'good', 'good', 'good', 'bad', 'bad', 'good',\n",
              "       'good', 'bad', 'good', 'good', 'bad', 'good', 'good', 'good',\n",
              "       'good', 'good', 'good', 'good', 'good', 'good', 'good', 'good',\n",
              "       'good', 'good', 'good', 'good', 'good', 'bad', 'good', 'good',\n",
              "       'good', 'bad', 'good', 'good', 'bad', 'good', 'good', 'good',\n",
              "       'bad', 'good', 'good', 'bad', 'good', 'bad', 'good', 'bad', 'good',\n",
              "       'good', 'bad', 'good', 'good', 'good', 'good', 'bad', 'good',\n",
              "       'good', 'good', 'good', 'bad', 'good', 'bad', 'good', 'good',\n",
              "       'good', 'bad', 'good', 'good', 'good', 'bad', 'good', 'good',\n",
              "       'good', 'bad', 'bad', 'good', 'bad', 'good', 'good', 'bad', 'good',\n",
              "       'good', 'good', 'good', 'bad', 'good', 'good', 'bad', 'good',\n",
              "       'good', 'good', 'good', 'good', 'good', 'good', 'good', 'bad',\n",
              "       'good', 'good', 'good', 'bad', 'bad', 'bad', 'good', 'bad', 'bad',\n",
              "       'good', 'good', 'good', 'good', 'good', 'good', 'good', 'good',\n",
              "       'good', 'bad', 'good', 'good', 'good', 'good', 'good', 'bad',\n",
              "       'good', 'good', 'good', 'bad', 'bad', 'good', 'good', 'good',\n",
              "       'bad', 'good', 'good', 'bad', 'bad', 'bad', 'good', 'bad', 'good',\n",
              "       'good', 'bad', 'good', 'good', 'good', 'good', 'good', 'good',\n",
              "       'bad', 'good', 'good', 'good', 'bad', 'bad', 'good', 'good',\n",
              "       'good', 'good', 'good', 'bad', 'good', 'good', 'bad', 'good',\n",
              "       'good', 'good', 'bad', 'good', 'good', 'bad', 'good', 'bad',\n",
              "       'good', 'bad', 'bad', 'good', 'bad', 'good', 'good', 'bad', 'good',\n",
              "       'good', 'good', 'bad', 'good', 'good', 'bad', 'bad', 'bad', 'bad',\n",
              "       'bad', 'good', 'bad', 'good', 'bad', 'good', 'good', 'bad', 'good',\n",
              "       'good', 'bad', 'bad', 'good', 'good', 'good', 'good', 'good',\n",
              "       'good', 'good', 'bad', 'good', 'bad', 'good', 'good', 'bad',\n",
              "       'good', 'bad', 'good', 'good', 'bad', 'bad', 'good', 'good',\n",
              "       'good', 'bad', 'bad', 'bad', 'bad', 'bad', 'bad', 'good', 'good',\n",
              "       'bad', 'bad', 'bad', 'good', 'good', 'good', 'bad', 'good', 'good',\n",
              "       'bad', 'bad', 'good', 'good', 'bad', 'good', 'good', 'good', 'bad',\n",
              "       'good', 'good', 'bad', 'bad', 'good', 'bad', 'good', 'good', 'bad',\n",
              "       'good', 'good', 'good', 'bad', 'good', 'bad', 'bad', 'good',\n",
              "       'good', 'good', 'good', 'bad', 'bad', 'good', 'bad', 'good',\n",
              "       'good', 'bad', 'good', 'bad', 'bad', 'bad', 'good', 'bad', 'bad',\n",
              "       'bad', 'good', 'good', 'bad', 'good', 'good', 'good', 'good',\n",
              "       'bad', 'good', 'good', 'good', 'good', 'good', 'good', 'bad',\n",
              "       'good', 'good', 'good', 'good', 'good', 'bad', 'good', 'good',\n",
              "       'bad', 'good', 'good', 'good', 'good', 'good', 'good', 'good',\n",
              "       'good', 'good', 'good', 'good', 'good', 'good', 'good', 'good',\n",
              "       'good', 'good', 'good', 'good', 'good', 'good', 'good', 'bad',\n",
              "       'bad', 'good', 'good', 'good', 'good', 'bad', 'bad', 'good',\n",
              "       'good', 'good', 'bad', 'good', 'good', 'bad', 'good', 'good',\n",
              "       'good', 'good', 'good', 'bad', 'bad', 'bad', 'good', 'bad', 'good',\n",
              "       'good', 'bad', 'bad', 'good', 'good', 'bad', 'good', 'good',\n",
              "       'good', 'good', 'bad', 'good', 'good', 'bad', 'good', 'good',\n",
              "       'good', 'good', 'good', 'good', 'good', 'bad', 'good', 'good',\n",
              "       'good', 'bad', 'good', 'good', 'bad', 'bad', 'good', 'bad', 'good',\n",
              "       'bad', 'good', 'bad', 'good', 'bad', 'good', 'good', 'bad', 'good',\n",
              "       'good', 'good', 'good', 'bad', 'good', 'good', 'good', 'bad',\n",
              "       'good', 'good', 'good', 'good', 'bad', 'good', 'good', 'bad',\n",
              "       'good', 'good', 'good', 'good', 'bad', 'bad', 'bad', 'good',\n",
              "       'good', 'good', 'good', 'good', 'bad', 'good', 'good', 'good',\n",
              "       'good', 'good', 'good', 'good', 'good', 'bad', 'good', 'good',\n",
              "       'good', 'bad', 'good', 'good', 'bad', 'bad', 'bad', 'good', 'good',\n",
              "       'good', 'good', 'bad', 'good', 'good', 'bad', 'good', 'good',\n",
              "       'good', 'bad', 'bad', 'bad', 'good', 'good', 'bad', 'bad', 'good',\n",
              "       'bad', 'bad', 'good', 'good', 'good', 'good', 'bad', 'good', 'bad',\n",
              "       'good', 'good', 'good', 'bad', 'good', 'good', 'bad', 'bad',\n",
              "       'good', 'good', 'bad', 'good', 'good', 'good', 'good', 'bad',\n",
              "       'good', 'good', 'bad', 'bad', 'good', 'bad', 'good', 'good',\n",
              "       'good', 'good', 'good', 'good', 'good', 'good', 'good', 'good',\n",
              "       'good', 'good', 'good', 'bad', 'good', 'good', 'good', 'good',\n",
              "       'good', 'bad', 'bad', 'good', 'bad', 'good', 'good', 'good',\n",
              "       'good', 'good', 'good', 'good', 'good', 'good', 'good', 'good',\n",
              "       'bad', 'bad', 'good', 'good', 'good', 'good', 'good', 'good',\n",
              "       'good', 'good', 'good', 'good', 'bad', 'good', 'good', 'bad',\n",
              "       'bad', 'good', 'bad', 'bad', 'bad', 'good', 'good', 'bad', 'good',\n",
              "       'bad', 'bad', 'good', 'bad', 'good', 'good', 'good', 'bad', 'good',\n",
              "       'good', 'good', 'bad', 'bad', 'good', 'bad', 'good', 'good',\n",
              "       'good', 'good', 'good', 'good', 'good', 'bad', 'good', 'bad',\n",
              "       'bad', 'good', 'bad', 'bad', 'bad', 'good', 'good', 'good', 'good',\n",
              "       'bad', 'good', 'good', 'good', 'good', 'bad', 'good', 'good',\n",
              "       'bad', 'good', 'good', 'good', 'good', 'good', 'bad', 'bad',\n",
              "       'good', 'good', 'good', 'good', 'bad', 'bad', 'bad', 'bad', 'good',\n",
              "       'bad', 'good', 'good', 'good', 'good', 'good', 'good', 'good',\n",
              "       'good', 'good', 'good', 'good', 'good', 'good', 'good', 'bad',\n",
              "       'good'], dtype=object)"
            ]
          },
          "metadata": {
            "tags": []
          },
          "execution_count": 34
        }
      ]
    },
    {
      "cell_type": "code",
      "metadata": {
        "id": "51O9nubTzazj",
        "outputId": "17f2ec9f-915b-43e7-d342-71c0c90022f2",
        "colab": {
          "base_uri": "https://localhost:8080/"
        }
      },
      "source": [
        "missing = X.isnull().any().any()\n",
        "if missing:\n",
        "    X.dropna()\n",
        "else:\n",
        "    print(\"\\n\\nThe dataset has no missing value\")"
      ],
      "execution_count": 44,
      "outputs": [
        {
          "output_type": "stream",
          "text": [
            "\n",
            "\n",
            "The dataset has no missing value\n"
          ],
          "name": "stdout"
        }
      ]
    },
    {
      "cell_type": "code",
      "metadata": {
        "id": "X_oDNDiyz8Lm",
        "outputId": "31d84d43-fbff-485c-ea16-a213b0c1948e",
        "colab": {
          "base_uri": "https://localhost:8080/"
        }
      },
      "source": [
        "cat_data = X.select_dtypes(include='category')\n",
        "selected_cat_data = cat_data.iloc[:, 0:3]\n",
        "print(selected_cat_data.head(n=2))\n",
        "print(\"\\nencoded\\n\")\n",
        "\n",
        "num_data = X.select_dtypes(include='float64')\n",
        "selected_num_data = num_data.iloc[:, 0:4]\n",
        "print(selected_num_data.head(n=2))"
      ],
      "execution_count": 46,
      "outputs": [
        {
          "output_type": "stream",
          "text": [
            "  checking_status                  credit_history   purpose\n",
            "0              <0  critical/other existing credit  radio/tv\n",
            "1        0<=X<200                   existing paid  radio/tv\n",
            "\n",
            "encoded\n",
            "\n",
            "   duration  credit_amount  installment_commitment  residence_since\n",
            "0       6.0         1169.0                     4.0              4.0\n",
            "1      48.0         5951.0                     2.0              2.0\n"
          ],
          "name": "stdout"
        }
      ]
    },
    {
      "cell_type": "code",
      "metadata": {
        "id": "nVoo8U6yx8RY",
        "outputId": "b057200b-f1f7-4d1a-81bb-d4595931c37f",
        "colab": {
          "base_uri": "https://localhost:8080/",
          "height": 538
        }
      },
      "source": [
        "from sklearn.preprocessing import LabelEncoder\n",
        "encoded_cat_data = selected_cat_data.apply(LabelEncoder().fit_transform)\n",
        "print(encoded_cat_data.head())\n",
        "\n",
        "#Import library\n",
        "from sklearn.preprocessing import StandardScaler\n",
        "sc_X = StandardScaler()\n",
        "sc_X = sc_X.fit_transform(selected_num_data)\n",
        "print(type(sc_X))\n",
        "\n",
        "#Convert to table format - StandardScaler\n",
        "import pandas as pd\n",
        "scaled_num_data = pd.DataFrame(data=sc_X, columns=[\"duration\", \"credit_amount\", \"installment_commitment\", \"residence_since\"])\n",
        "scaled_num_data\n",
        "\n",
        "my_X = encoded_cat_data.join(scaled_num_data)\n",
        "my_X"
      ],
      "execution_count": 47,
      "outputs": [
        {
          "output_type": "stream",
          "text": [
            "   checking_status  credit_history  purpose\n",
            "0                1               1        6\n",
            "1                0               3        6\n",
            "2                3               1        2\n",
            "3                1               3        3\n",
            "4                1               2        4\n",
            "<class 'numpy.ndarray'>\n"
          ],
          "name": "stdout"
        },
        {
          "output_type": "execute_result",
          "data": {
            "text/html": [
              "<div>\n",
              "<style scoped>\n",
              "    .dataframe tbody tr th:only-of-type {\n",
              "        vertical-align: middle;\n",
              "    }\n",
              "\n",
              "    .dataframe tbody tr th {\n",
              "        vertical-align: top;\n",
              "    }\n",
              "\n",
              "    .dataframe thead th {\n",
              "        text-align: right;\n",
              "    }\n",
              "</style>\n",
              "<table border=\"1\" class=\"dataframe\">\n",
              "  <thead>\n",
              "    <tr style=\"text-align: right;\">\n",
              "      <th></th>\n",
              "      <th>checking_status</th>\n",
              "      <th>credit_history</th>\n",
              "      <th>purpose</th>\n",
              "      <th>duration</th>\n",
              "      <th>credit_amount</th>\n",
              "      <th>installment_commitment</th>\n",
              "      <th>residence_since</th>\n",
              "    </tr>\n",
              "  </thead>\n",
              "  <tbody>\n",
              "    <tr>\n",
              "      <th>0</th>\n",
              "      <td>1</td>\n",
              "      <td>1</td>\n",
              "      <td>6</td>\n",
              "      <td>-1.236478</td>\n",
              "      <td>-0.745131</td>\n",
              "      <td>0.918477</td>\n",
              "      <td>1.046987</td>\n",
              "    </tr>\n",
              "    <tr>\n",
              "      <th>1</th>\n",
              "      <td>0</td>\n",
              "      <td>3</td>\n",
              "      <td>6</td>\n",
              "      <td>2.248194</td>\n",
              "      <td>0.949817</td>\n",
              "      <td>-0.870183</td>\n",
              "      <td>-0.765977</td>\n",
              "    </tr>\n",
              "    <tr>\n",
              "      <th>2</th>\n",
              "      <td>3</td>\n",
              "      <td>1</td>\n",
              "      <td>2</td>\n",
              "      <td>-0.738668</td>\n",
              "      <td>-0.416562</td>\n",
              "      <td>-0.870183</td>\n",
              "      <td>0.140505</td>\n",
              "    </tr>\n",
              "    <tr>\n",
              "      <th>3</th>\n",
              "      <td>1</td>\n",
              "      <td>3</td>\n",
              "      <td>3</td>\n",
              "      <td>1.750384</td>\n",
              "      <td>1.634247</td>\n",
              "      <td>-0.870183</td>\n",
              "      <td>1.046987</td>\n",
              "    </tr>\n",
              "    <tr>\n",
              "      <th>4</th>\n",
              "      <td>1</td>\n",
              "      <td>2</td>\n",
              "      <td>4</td>\n",
              "      <td>0.256953</td>\n",
              "      <td>0.566664</td>\n",
              "      <td>0.024147</td>\n",
              "      <td>1.046987</td>\n",
              "    </tr>\n",
              "    <tr>\n",
              "      <th>...</th>\n",
              "      <td>...</td>\n",
              "      <td>...</td>\n",
              "      <td>...</td>\n",
              "      <td>...</td>\n",
              "      <td>...</td>\n",
              "      <td>...</td>\n",
              "      <td>...</td>\n",
              "    </tr>\n",
              "    <tr>\n",
              "      <th>995</th>\n",
              "      <td>3</td>\n",
              "      <td>3</td>\n",
              "      <td>3</td>\n",
              "      <td>-0.738668</td>\n",
              "      <td>-0.544162</td>\n",
              "      <td>0.024147</td>\n",
              "      <td>1.046987</td>\n",
              "    </tr>\n",
              "    <tr>\n",
              "      <th>996</th>\n",
              "      <td>1</td>\n",
              "      <td>3</td>\n",
              "      <td>9</td>\n",
              "      <td>0.754763</td>\n",
              "      <td>0.207612</td>\n",
              "      <td>0.918477</td>\n",
              "      <td>1.046987</td>\n",
              "    </tr>\n",
              "    <tr>\n",
              "      <th>997</th>\n",
              "      <td>3</td>\n",
              "      <td>3</td>\n",
              "      <td>6</td>\n",
              "      <td>-0.738668</td>\n",
              "      <td>-0.874503</td>\n",
              "      <td>0.918477</td>\n",
              "      <td>1.046987</td>\n",
              "    </tr>\n",
              "    <tr>\n",
              "      <th>998</th>\n",
              "      <td>1</td>\n",
              "      <td>3</td>\n",
              "      <td>6</td>\n",
              "      <td>1.999289</td>\n",
              "      <td>-0.505528</td>\n",
              "      <td>0.918477</td>\n",
              "      <td>1.046987</td>\n",
              "    </tr>\n",
              "    <tr>\n",
              "      <th>999</th>\n",
              "      <td>0</td>\n",
              "      <td>1</td>\n",
              "      <td>9</td>\n",
              "      <td>1.999289</td>\n",
              "      <td>0.462457</td>\n",
              "      <td>0.024147</td>\n",
              "      <td>1.046987</td>\n",
              "    </tr>\n",
              "  </tbody>\n",
              "</table>\n",
              "<p>1000 rows × 7 columns</p>\n",
              "</div>"
            ],
            "text/plain": [
              "     checking_status  credit_history  ...  installment_commitment  residence_since\n",
              "0                  1               1  ...                0.918477         1.046987\n",
              "1                  0               3  ...               -0.870183        -0.765977\n",
              "2                  3               1  ...               -0.870183         0.140505\n",
              "3                  1               3  ...               -0.870183         1.046987\n",
              "4                  1               2  ...                0.024147         1.046987\n",
              "..               ...             ...  ...                     ...              ...\n",
              "995                3               3  ...                0.024147         1.046987\n",
              "996                1               3  ...                0.918477         1.046987\n",
              "997                3               3  ...                0.918477         1.046987\n",
              "998                1               3  ...                0.918477         1.046987\n",
              "999                0               1  ...                0.024147         1.046987\n",
              "\n",
              "[1000 rows x 7 columns]"
            ]
          },
          "metadata": {
            "tags": []
          },
          "execution_count": 47
        }
      ]
    },
    {
      "cell_type": "code",
      "metadata": {
        "id": "h7Or_iAfiI7n"
      },
      "source": [
        "#TBD Split into Train and Test dataset. random 75% 25%\n",
        "from sklearn.model_selection import train_test_split\n",
        "X_train, X_test, Y_train, Y_test = train_test_split(my_X, Y, train_size=0.75, test_size=0.25, random_state=0)"
      ],
      "execution_count": 48,
      "outputs": []
    },
    {
      "cell_type": "code",
      "metadata": {
        "id": "qgbrMPE9iI7q",
        "outputId": "aac873e4-2e5d-4bcf-80f1-93c0277cd86b",
        "colab": {
          "base_uri": "https://localhost:8080/"
        }
      },
      "source": [
        "#TBD Fit logistic regression model on Training data\n",
        "from sklearn.linear_model import LogisticRegression\n",
        "\n",
        "model = linear_model.LogisticRegression()\n",
        "logreg = model.fit(X_train, Y_train)\n",
        "print(logreg.coef_)"
      ],
      "execution_count": 54,
      "outputs": [
        {
          "output_type": "stream",
          "text": [
            "[[ 0.52423236 -0.15262159  0.15486022 -0.33532788 -0.19500548 -0.28262794\n",
            "  -0.02542713]]\n"
          ],
          "name": "stdout"
        }
      ]
    },
    {
      "cell_type": "code",
      "metadata": {
        "id": "goMpjdC9iI7u",
        "outputId": "1c10719e-3921-463b-93f0-1f45cd2c62c0",
        "colab": {
          "base_uri": "https://localhost:8080/"
        }
      },
      "source": [
        "#TBD Predict for Test data\n",
        "#from sklearn import metrics\n",
        "Y_predict = model.predict(X_test)\n",
        "score = model.score(X_test,Y_test)\n",
        "\n",
        "print(f\"Predicted values: {Y_predict}\")\n",
        "print(f\"Actual values: {Y_test}\")\n",
        "print(\"Sscore=\" + str(score))\n",
        "#print(metrics.mean_absolute_error(Y_test, Y_predict))"
      ],
      "execution_count": 56,
      "outputs": [
        {
          "output_type": "stream",
          "text": [
            "Predicted values: ['bad' 'good' 'good' 'good' 'good' 'good' 'good' 'good' 'good' 'bad' 'bad'\n",
            " 'good' 'good' 'good' 'bad' 'good' 'good' 'good' 'good' 'good' 'good'\n",
            " 'bad' 'bad' 'good' 'good' 'bad' 'good' 'good' 'good' 'bad' 'good' 'good'\n",
            " 'good' 'bad' 'good' 'good' 'good' 'good' 'good' 'good' 'good' 'good'\n",
            " 'good' 'good' 'good' 'good' 'good' 'bad' 'good' 'good' 'good' 'bad'\n",
            " 'good' 'good' 'good' 'good' 'bad' 'good' 'good' 'good' 'bad' 'good'\n",
            " 'good' 'good' 'good' 'good' 'good' 'good' 'bad' 'good' 'good' 'good'\n",
            " 'good' 'good' 'good' 'good' 'good' 'good' 'good' 'good' 'good' 'good'\n",
            " 'good' 'good' 'good' 'good' 'good' 'good' 'good' 'good' 'good' 'good'\n",
            " 'good' 'good' 'good' 'good' 'bad' 'good' 'good' 'good' 'bad' 'good'\n",
            " 'good' 'good' 'good' 'good' 'bad' 'bad' 'good' 'good' 'bad' 'bad' 'good'\n",
            " 'good' 'bad' 'good' 'good' 'good' 'good' 'good' 'good' 'good' 'good'\n",
            " 'good' 'good' 'good' 'good' 'good' 'good' 'good' 'good' 'good' 'good'\n",
            " 'good' 'good' 'good' 'good' 'good' 'good' 'good' 'bad' 'bad' 'good'\n",
            " 'good' 'good' 'good' 'good' 'bad' 'bad' 'good' 'good' 'bad' 'good' 'good'\n",
            " 'good' 'good' 'good' 'good' 'good' 'good' 'good' 'bad' 'good' 'good'\n",
            " 'bad' 'bad' 'bad' 'good' 'good' 'good' 'bad' 'good' 'bad' 'good' 'good'\n",
            " 'good' 'good' 'good' 'bad' 'good' 'good' 'good' 'good' 'good' 'good'\n",
            " 'good' 'good' 'good' 'good' 'good' 'good' 'bad' 'good' 'good' 'good'\n",
            " 'good' 'good' 'good' 'bad' 'good' 'bad' 'good' 'bad' 'good' 'good' 'bad'\n",
            " 'bad' 'good' 'good' 'good' 'good' 'good' 'good' 'good' 'good' 'good'\n",
            " 'good' 'bad' 'good' 'good' 'bad' 'good' 'good' 'good' 'good' 'bad' 'good'\n",
            " 'bad' 'bad' 'good' 'good' 'good' 'bad' 'good' 'bad' 'bad' 'good' 'good'\n",
            " 'good' 'bad' 'good' 'good' 'good' 'good' 'good' 'good' 'good' 'good'\n",
            " 'bad' 'good']\n",
            "Actual values: 993    good\n",
            "859    good\n",
            "298    good\n",
            "553    good\n",
            "672    good\n",
            "       ... \n",
            "462    good\n",
            "356    good\n",
            "2      good\n",
            "478    good\n",
            "695    good\n",
            "Name: class, Length: 250, dtype: category\n",
            "Categories (2, object): ['good', 'bad']\n",
            "Sscore=0.708\n"
          ],
          "name": "stdout"
        }
      ]
    },
    {
      "cell_type": "code",
      "metadata": {
        "id": "-NNFqYuriI7w",
        "outputId": "3dc8998d-2c4f-473f-8611-808909a818c5",
        "colab": {
          "base_uri": "https://localhost:8080/",
          "height": 358
        }
      },
      "source": [
        "#TBD Categorical cross entropy error (log loss) for your predictions\n",
        "from sklearn.metrics import log_loss\n",
        "\n",
        "Logloss = log_loss(Y, Y_predict)\n",
        "print(Logloss)"
      ],
      "execution_count": 59,
      "outputs": [
        {
          "output_type": "error",
          "ename": "ValueError",
          "evalue": "ignored",
          "traceback": [
            "\u001b[0;31m---------------------------------------------------------------------------\u001b[0m",
            "\u001b[0;31mValueError\u001b[0m                                Traceback (most recent call last)",
            "\u001b[0;32m<ipython-input-59-44b09a014191>\u001b[0m in \u001b[0;36m<module>\u001b[0;34m()\u001b[0m\n\u001b[1;32m      2\u001b[0m \u001b[0;32mfrom\u001b[0m \u001b[0msklearn\u001b[0m\u001b[0;34m.\u001b[0m\u001b[0mmetrics\u001b[0m \u001b[0;32mimport\u001b[0m \u001b[0mlog_loss\u001b[0m\u001b[0;34m\u001b[0m\u001b[0;34m\u001b[0m\u001b[0m\n\u001b[1;32m      3\u001b[0m \u001b[0;34m\u001b[0m\u001b[0m\n\u001b[0;32m----> 4\u001b[0;31m \u001b[0mLogloss\u001b[0m \u001b[0;34m=\u001b[0m \u001b[0mlog_loss\u001b[0m\u001b[0;34m(\u001b[0m\u001b[0mY\u001b[0m\u001b[0;34m,\u001b[0m \u001b[0mY_predict\u001b[0m\u001b[0;34m)\u001b[0m\u001b[0;34m\u001b[0m\u001b[0;34m\u001b[0m\u001b[0m\n\u001b[0m\u001b[1;32m      5\u001b[0m \u001b[0mprint\u001b[0m\u001b[0;34m(\u001b[0m\u001b[0mLogloss\u001b[0m\u001b[0;34m)\u001b[0m\u001b[0;34m\u001b[0m\u001b[0;34m\u001b[0m\u001b[0m\n",
            "\u001b[0;32m/usr/local/lib/python3.6/dist-packages/sklearn/metrics/_classification.py\u001b[0m in \u001b[0;36mlog_loss\u001b[0;34m(y_true, y_pred, eps, normalize, sample_weight, labels)\u001b[0m\n\u001b[1;32m   2239\u001b[0m     \u001b[0mThe\u001b[0m \u001b[0mlogarithm\u001b[0m \u001b[0mused\u001b[0m \u001b[0;32mis\u001b[0m \u001b[0mthe\u001b[0m \u001b[0mnatural\u001b[0m \u001b[0mlogarithm\u001b[0m \u001b[0;34m(\u001b[0m\u001b[0mbase\u001b[0m\u001b[0;34m-\u001b[0m\u001b[0me\u001b[0m\u001b[0;34m)\u001b[0m\u001b[0;34m.\u001b[0m\u001b[0;34m\u001b[0m\u001b[0;34m\u001b[0m\u001b[0m\n\u001b[1;32m   2240\u001b[0m     \"\"\"\n\u001b[0;32m-> 2241\u001b[0;31m     \u001b[0my_pred\u001b[0m \u001b[0;34m=\u001b[0m \u001b[0mcheck_array\u001b[0m\u001b[0;34m(\u001b[0m\u001b[0my_pred\u001b[0m\u001b[0;34m,\u001b[0m \u001b[0mensure_2d\u001b[0m\u001b[0;34m=\u001b[0m\u001b[0;32mFalse\u001b[0m\u001b[0;34m)\u001b[0m\u001b[0;34m\u001b[0m\u001b[0;34m\u001b[0m\u001b[0m\n\u001b[0m\u001b[1;32m   2242\u001b[0m     \u001b[0mcheck_consistent_length\u001b[0m\u001b[0;34m(\u001b[0m\u001b[0my_pred\u001b[0m\u001b[0;34m,\u001b[0m \u001b[0my_true\u001b[0m\u001b[0;34m,\u001b[0m \u001b[0msample_weight\u001b[0m\u001b[0;34m)\u001b[0m\u001b[0;34m\u001b[0m\u001b[0;34m\u001b[0m\u001b[0m\n\u001b[1;32m   2243\u001b[0m \u001b[0;34m\u001b[0m\u001b[0m\n",
            "\u001b[0;32m/usr/local/lib/python3.6/dist-packages/sklearn/utils/validation.py\u001b[0m in \u001b[0;36mcheck_array\u001b[0;34m(array, accept_sparse, accept_large_sparse, dtype, order, copy, force_all_finite, ensure_2d, allow_nd, ensure_min_samples, ensure_min_features, warn_on_dtype, estimator)\u001b[0m\n\u001b[1;32m    529\u001b[0m                     \u001b[0marray\u001b[0m \u001b[0;34m=\u001b[0m \u001b[0marray\u001b[0m\u001b[0;34m.\u001b[0m\u001b[0mastype\u001b[0m\u001b[0;34m(\u001b[0m\u001b[0mdtype\u001b[0m\u001b[0;34m,\u001b[0m \u001b[0mcasting\u001b[0m\u001b[0;34m=\u001b[0m\u001b[0;34m\"unsafe\"\u001b[0m\u001b[0;34m,\u001b[0m \u001b[0mcopy\u001b[0m\u001b[0;34m=\u001b[0m\u001b[0;32mFalse\u001b[0m\u001b[0;34m)\u001b[0m\u001b[0;34m\u001b[0m\u001b[0;34m\u001b[0m\u001b[0m\n\u001b[1;32m    530\u001b[0m                 \u001b[0;32melse\u001b[0m\u001b[0;34m:\u001b[0m\u001b[0;34m\u001b[0m\u001b[0;34m\u001b[0m\u001b[0m\n\u001b[0;32m--> 531\u001b[0;31m                     \u001b[0marray\u001b[0m \u001b[0;34m=\u001b[0m \u001b[0mnp\u001b[0m\u001b[0;34m.\u001b[0m\u001b[0masarray\u001b[0m\u001b[0;34m(\u001b[0m\u001b[0marray\u001b[0m\u001b[0;34m,\u001b[0m \u001b[0morder\u001b[0m\u001b[0;34m=\u001b[0m\u001b[0morder\u001b[0m\u001b[0;34m,\u001b[0m \u001b[0mdtype\u001b[0m\u001b[0;34m=\u001b[0m\u001b[0mdtype\u001b[0m\u001b[0;34m)\u001b[0m\u001b[0;34m\u001b[0m\u001b[0;34m\u001b[0m\u001b[0m\n\u001b[0m\u001b[1;32m    532\u001b[0m             \u001b[0;32mexcept\u001b[0m \u001b[0mComplexWarning\u001b[0m\u001b[0;34m:\u001b[0m\u001b[0;34m\u001b[0m\u001b[0;34m\u001b[0m\u001b[0m\n\u001b[1;32m    533\u001b[0m                 raise ValueError(\"Complex data not supported\\n\"\n",
            "\u001b[0;32m/usr/local/lib/python3.6/dist-packages/numpy/core/_asarray.py\u001b[0m in \u001b[0;36masarray\u001b[0;34m(a, dtype, order)\u001b[0m\n\u001b[1;32m     83\u001b[0m \u001b[0;34m\u001b[0m\u001b[0m\n\u001b[1;32m     84\u001b[0m     \"\"\"\n\u001b[0;32m---> 85\u001b[0;31m     \u001b[0;32mreturn\u001b[0m \u001b[0marray\u001b[0m\u001b[0;34m(\u001b[0m\u001b[0ma\u001b[0m\u001b[0;34m,\u001b[0m \u001b[0mdtype\u001b[0m\u001b[0;34m,\u001b[0m \u001b[0mcopy\u001b[0m\u001b[0;34m=\u001b[0m\u001b[0;32mFalse\u001b[0m\u001b[0;34m,\u001b[0m \u001b[0morder\u001b[0m\u001b[0;34m=\u001b[0m\u001b[0morder\u001b[0m\u001b[0;34m)\u001b[0m\u001b[0;34m\u001b[0m\u001b[0;34m\u001b[0m\u001b[0m\n\u001b[0m\u001b[1;32m     86\u001b[0m \u001b[0;34m\u001b[0m\u001b[0m\n\u001b[1;32m     87\u001b[0m \u001b[0;34m\u001b[0m\u001b[0m\n",
            "\u001b[0;31mValueError\u001b[0m: could not convert string to float: 'bad'"
          ]
        }
      ]
    },
    {
      "cell_type": "code",
      "metadata": {
        "id": "m1B2FxD0iI7z"
      },
      "source": [
        "#TBD Predict concrete class (instread of probablity score) for test data"
      ],
      "execution_count": null,
      "outputs": []
    },
    {
      "cell_type": "code",
      "metadata": {
        "id": "5PgZeNi-iI72"
      },
      "source": [
        "#TBD Determine accuracy score for concrete predictions"
      ],
      "execution_count": null,
      "outputs": []
    }
  ]
}