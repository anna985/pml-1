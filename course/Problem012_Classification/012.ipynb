{
  "nbformat": 4,
  "nbformat_minor": 0,
  "metadata": {
    "kernelspec": {
      "name": "Python 3.8.2 64-bit ('pml')",
      "display_name": "Python 3.8.2 64-bit ('pml')",
      "metadata": {
        "interpreter": {
          "hash": "a4c9474aacc61cf72d0f1c29f4a339e5d6b2171c287541cfd684cf058783219b"
        }
      }
    },
    "language_info": {
      "codemirror_mode": {
        "name": "ipython",
        "version": 3
      },
      "file_extension": ".py",
      "mimetype": "text/x-python",
      "name": "python",
      "nbconvert_exporter": "python",
      "pygments_lexer": "ipython3",
      "version": "3.8.2-final"
    },
    "colab": {
      "name": "Copy of 012.ipynb",
      "provenance": [],
      "include_colab_link": true
    }
  },
  "cells": [
    {
      "cell_type": "markdown",
      "metadata": {
        "id": "view-in-github",
        "colab_type": "text"
      },
      "source": [
        "<a href=\"https://colab.research.google.com/github/anna985/pml-1/blob/master/course/Problem012_Classification/012.ipynb\" target=\"_parent\"><img src=\"https://colab.research.google.com/assets/colab-badge.svg\" alt=\"Open In Colab\"/></a>"
      ]
    },
    {
      "cell_type": "markdown",
      "metadata": {
        "scrolled": true,
        "id": "5FmdCDAFiI7i"
      },
      "source": [
        "# Credit Approval Yes/No\n",
        "\n"
      ]
    },
    {
      "cell_type": "code",
      "metadata": {
        "id": "_jmnsMbkiI7j",
        "outputId": "8d5fa89f-a212-4937-912e-7051aa056339",
        "colab": {
          "base_uri": "https://localhost:8080/",
          "height": 137
        }
      },
      "source": [
        " from sklearn.datasets import fetch_openml\n",
        " #Load credit dataset\n",
        " data = fetch_openml(\"credit-g\")\n",
        "\n",
        "X = data.data\n",
        "Y = data.target\n",
        "\n",
        "data.DESCR"
      ],
      "execution_count": 12,
      "outputs": [
        {
          "output_type": "execute_result",
          "data": {
            "application/vnd.google.colaboratory.intrinsic+json": {
              "type": "string"
            },
            "text/plain": [
              "'**Author**: Dr. Hans Hofmann  \\n**Source**: [UCI](https://archive.ics.uci.edu/ml/datasets/statlog+(german+credit+data)) - 1994    \\n**Please cite**: [UCI](https://archive.ics.uci.edu/ml/citation_policy.html)\\n\\n**German Credit data**  \\nThis dataset classifies people described by a set of attributes as good or bad credit risks.\\n\\nThis dataset comes with a cost matrix: \\n``` \\n      Good  Bad (predicted)  \\nGood   0    1   (actual)  \\nBad    5    0  \\n```\\n\\nIt is worse to class a customer as good when they are bad (5), than it is to class a customer as bad when they are good (1).  \\n\\n### Attribute description  \\n\\n1. Status of existing checking account, in Deutsche Mark.  \\n2. Duration in months  \\n3. Credit history (credits taken, paid back duly, delays, critical accounts)  \\n4. Purpose of the credit (car, television,...)  \\n5. Credit amount  \\n6. Status of savings account/bonds, in Deutsche Mark.  \\n7. Present employment, in number of years.  \\n8. Installment rate in percentage of disposable income  \\n9. Personal status (married, single,...) and sex  \\n10. Other debtors / guarantors  \\n11. Present residence since X years  \\n12. Property (e.g. real estate)  \\n13. Age in years  \\n14. Other installment plans (banks, stores)  \\n15. Housing (rent, own,...)  \\n16. Number of existing credits at this bank  \\n17. Job  \\n18. Number of people being liable to provide maintenance for  \\n19. Telephone (yes,no)  \\n20. Foreign worker (yes,no)\\n\\nDownloaded from openml.org.'"
            ]
          },
          "metadata": {
            "tags": []
          },
          "execution_count": 12
        }
      ]
    },
    {
      "cell_type": "code",
      "metadata": {
        "id": "VRCctvTj4LF7",
        "outputId": "96f7ab49-a6a4-4ab1-e981-a0b82dc69f7f",
        "colab": {
          "base_uri": "https://localhost:8080/"
        }
      },
      "source": [
        "print(f'X ==> data[\"data\"]')"
      ],
      "execution_count": 43,
      "outputs": [
        {
          "output_type": "stream",
          "text": [
            "X ==> data[\"data\"]\n"
          ],
          "name": "stdout"
        }
      ]
    },
    {
      "cell_type": "code",
      "metadata": {
        "id": "tCZjfOCOsB9S",
        "outputId": "fe74ea10-e557-45c0-9357-d4c284f962c8",
        "colab": {
          "base_uri": "https://localhost:8080/"
        }
      },
      "source": [
        "#data.feature_names\n",
        "#data[\"feature_names\"]\n",
        "print(f'features ==> {data[\"feature_names\"]}')"
      ],
      "execution_count": 41,
      "outputs": [
        {
          "output_type": "stream",
          "text": [
            "features ==> ['checking_status', 'duration', 'credit_history', 'purpose', 'credit_amount', 'savings_status', 'employment', 'installment_commitment', 'personal_status', 'other_parties', 'residence_since', 'property_magnitude', 'age', 'other_payment_plans', 'housing', 'existing_credits', 'job', 'num_dependents', 'own_telephone', 'foreign_worker']\n"
          ],
          "name": "stdout"
        }
      ]
    },
    {
      "cell_type": "code",
      "metadata": {
        "id": "WOi0laTjsSQf",
        "outputId": "f08db7d3-c260-411e-abcd-3f433cbdeee3",
        "colab": {
          "base_uri": "https://localhost:8080/"
        }
      },
      "source": [
        "data.target"
      ],
      "execution_count": 45,
      "outputs": [
        {
          "output_type": "execute_result",
          "data": {
            "text/plain": [
              "array(['good', 'bad', 'good', 'good', 'bad', 'good', 'good', 'good',\n",
              "       'good', 'bad', 'bad', 'bad', 'good', 'bad', 'good', 'bad', 'good',\n",
              "       'good', 'bad', 'good', 'good', 'good', 'good', 'good', 'good',\n",
              "       'good', 'good', 'good', 'good', 'bad', 'good', 'good', 'good',\n",
              "       'good', 'good', 'bad', 'good', 'bad', 'good', 'good', 'good',\n",
              "       'good', 'good', 'good', 'bad', 'good', 'good', 'good', 'good',\n",
              "       'good', 'good', 'good', 'good', 'good', 'bad', 'good', 'bad',\n",
              "       'good', 'good', 'bad', 'good', 'good', 'bad', 'bad', 'good',\n",
              "       'good', 'good', 'good', 'bad', 'good', 'good', 'good', 'good',\n",
              "       'good', 'bad', 'good', 'bad', 'good', 'good', 'good', 'bad',\n",
              "       'good', 'good', 'good', 'good', 'good', 'good', 'bad', 'good',\n",
              "       'bad', 'good', 'good', 'bad', 'good', 'good', 'bad', 'good',\n",
              "       'good', 'good', 'good', 'good', 'good', 'good', 'good', 'good',\n",
              "       'bad', 'bad', 'good', 'good', 'good', 'good', 'good', 'good',\n",
              "       'bad', 'good', 'good', 'bad', 'good', 'bad', 'good', 'bad', 'good',\n",
              "       'good', 'good', 'bad', 'good', 'good', 'bad', 'good', 'bad',\n",
              "       'good', 'bad', 'good', 'good', 'good', 'good', 'good', 'bad',\n",
              "       'good', 'good', 'good', 'good', 'good', 'bad', 'good', 'good',\n",
              "       'good', 'good', 'good', 'good', 'good', 'good', 'good', 'good',\n",
              "       'good', 'bad', 'good', 'good', 'good', 'good', 'good', 'good',\n",
              "       'good', 'good', 'good', 'good', 'bad', 'good', 'good', 'bad',\n",
              "       'bad', 'good', 'bad', 'good', 'bad', 'bad', 'good', 'good', 'good',\n",
              "       'good', 'bad', 'bad', 'bad', 'good', 'bad', 'good', 'bad', 'good',\n",
              "       'bad', 'good', 'bad', 'bad', 'bad', 'good', 'bad', 'bad', 'good',\n",
              "       'bad', 'good', 'bad', 'good', 'good', 'good', 'bad', 'good',\n",
              "       'good', 'good', 'good', 'good', 'good', 'good', 'good', 'bad',\n",
              "       'bad', 'good', 'good', 'good', 'good', 'good', 'good', 'good',\n",
              "       'good', 'good', 'good', 'good', 'good', 'bad', 'bad', 'bad',\n",
              "       'good', 'bad', 'good', 'good', 'good', 'good', 'bad', 'bad', 'bad',\n",
              "       'good', 'good', 'bad', 'good', 'bad', 'good', 'good', 'good',\n",
              "       'good', 'good', 'good', 'bad', 'good', 'good', 'bad', 'good',\n",
              "       'good', 'good', 'good', 'bad', 'good', 'good', 'good', 'good',\n",
              "       'good', 'good', 'good', 'bad', 'good', 'good', 'bad', 'good',\n",
              "       'good', 'good', 'good', 'bad', 'bad', 'good', 'good', 'good',\n",
              "       'bad', 'good', 'good', 'good', 'good', 'good', 'good', 'good',\n",
              "       'good', 'good', 'good', 'bad', 'good', 'bad', 'good', 'good',\n",
              "       'good', 'bad', 'good', 'good', 'good', 'good', 'good', 'bad',\n",
              "       'bad', 'good', 'bad', 'good', 'good', 'bad', 'bad', 'good', 'good',\n",
              "       'good', 'good', 'bad', 'good', 'bad', 'good', 'good', 'good',\n",
              "       'good', 'bad', 'bad', 'good', 'good', 'good', 'good', 'good',\n",
              "       'good', 'good', 'good', 'good', 'bad', 'bad', 'bad', 'bad', 'bad',\n",
              "       'good', 'bad', 'good', 'good', 'good', 'good', 'good', 'good',\n",
              "       'good', 'good', 'good', 'good', 'good', 'bad', 'good', 'bad',\n",
              "       'good', 'bad', 'good', 'bad', 'good', 'bad', 'good', 'bad', 'good',\n",
              "       'good', 'good', 'good', 'bad', 'good', 'good', 'good', 'bad',\n",
              "       'good', 'good', 'good', 'good', 'good', 'bad', 'bad', 'good',\n",
              "       'good', 'bad', 'good', 'good', 'bad', 'good', 'good', 'good',\n",
              "       'good', 'good', 'good', 'good', 'good', 'good', 'good', 'good',\n",
              "       'good', 'good', 'good', 'good', 'good', 'bad', 'good', 'good',\n",
              "       'good', 'bad', 'good', 'good', 'bad', 'good', 'good', 'good',\n",
              "       'bad', 'good', 'good', 'bad', 'good', 'bad', 'good', 'bad', 'good',\n",
              "       'good', 'bad', 'good', 'good', 'good', 'good', 'bad', 'good',\n",
              "       'good', 'good', 'good', 'bad', 'good', 'bad', 'good', 'good',\n",
              "       'good', 'bad', 'good', 'good', 'good', 'bad', 'good', 'good',\n",
              "       'good', 'bad', 'bad', 'good', 'bad', 'good', 'good', 'bad', 'good',\n",
              "       'good', 'good', 'good', 'bad', 'good', 'good', 'bad', 'good',\n",
              "       'good', 'good', 'good', 'good', 'good', 'good', 'good', 'bad',\n",
              "       'good', 'good', 'good', 'bad', 'bad', 'bad', 'good', 'bad', 'bad',\n",
              "       'good', 'good', 'good', 'good', 'good', 'good', 'good', 'good',\n",
              "       'good', 'bad', 'good', 'good', 'good', 'good', 'good', 'bad',\n",
              "       'good', 'good', 'good', 'bad', 'bad', 'good', 'good', 'good',\n",
              "       'bad', 'good', 'good', 'bad', 'bad', 'bad', 'good', 'bad', 'good',\n",
              "       'good', 'bad', 'good', 'good', 'good', 'good', 'good', 'good',\n",
              "       'bad', 'good', 'good', 'good', 'bad', 'bad', 'good', 'good',\n",
              "       'good', 'good', 'good', 'bad', 'good', 'good', 'bad', 'good',\n",
              "       'good', 'good', 'bad', 'good', 'good', 'bad', 'good', 'bad',\n",
              "       'good', 'bad', 'bad', 'good', 'bad', 'good', 'good', 'bad', 'good',\n",
              "       'good', 'good', 'bad', 'good', 'good', 'bad', 'bad', 'bad', 'bad',\n",
              "       'bad', 'good', 'bad', 'good', 'bad', 'good', 'good', 'bad', 'good',\n",
              "       'good', 'bad', 'bad', 'good', 'good', 'good', 'good', 'good',\n",
              "       'good', 'good', 'bad', 'good', 'bad', 'good', 'good', 'bad',\n",
              "       'good', 'bad', 'good', 'good', 'bad', 'bad', 'good', 'good',\n",
              "       'good', 'bad', 'bad', 'bad', 'bad', 'bad', 'bad', 'good', 'good',\n",
              "       'bad', 'bad', 'bad', 'good', 'good', 'good', 'bad', 'good', 'good',\n",
              "       'bad', 'bad', 'good', 'good', 'bad', 'good', 'good', 'good', 'bad',\n",
              "       'good', 'good', 'bad', 'bad', 'good', 'bad', 'good', 'good', 'bad',\n",
              "       'good', 'good', 'good', 'bad', 'good', 'bad', 'bad', 'good',\n",
              "       'good', 'good', 'good', 'bad', 'bad', 'good', 'bad', 'good',\n",
              "       'good', 'bad', 'good', 'bad', 'bad', 'bad', 'good', 'bad', 'bad',\n",
              "       'bad', 'good', 'good', 'bad', 'good', 'good', 'good', 'good',\n",
              "       'bad', 'good', 'good', 'good', 'good', 'good', 'good', 'bad',\n",
              "       'good', 'good', 'good', 'good', 'good', 'bad', 'good', 'good',\n",
              "       'bad', 'good', 'good', 'good', 'good', 'good', 'good', 'good',\n",
              "       'good', 'good', 'good', 'good', 'good', 'good', 'good', 'good',\n",
              "       'good', 'good', 'good', 'good', 'good', 'good', 'good', 'bad',\n",
              "       'bad', 'good', 'good', 'good', 'good', 'bad', 'bad', 'good',\n",
              "       'good', 'good', 'bad', 'good', 'good', 'bad', 'good', 'good',\n",
              "       'good', 'good', 'good', 'bad', 'bad', 'bad', 'good', 'bad', 'good',\n",
              "       'good', 'bad', 'bad', 'good', 'good', 'bad', 'good', 'good',\n",
              "       'good', 'good', 'bad', 'good', 'good', 'bad', 'good', 'good',\n",
              "       'good', 'good', 'good', 'good', 'good', 'bad', 'good', 'good',\n",
              "       'good', 'bad', 'good', 'good', 'bad', 'bad', 'good', 'bad', 'good',\n",
              "       'bad', 'good', 'bad', 'good', 'bad', 'good', 'good', 'bad', 'good',\n",
              "       'good', 'good', 'good', 'bad', 'good', 'good', 'good', 'bad',\n",
              "       'good', 'good', 'good', 'good', 'bad', 'good', 'good', 'bad',\n",
              "       'good', 'good', 'good', 'good', 'bad', 'bad', 'bad', 'good',\n",
              "       'good', 'good', 'good', 'good', 'bad', 'good', 'good', 'good',\n",
              "       'good', 'good', 'good', 'good', 'good', 'bad', 'good', 'good',\n",
              "       'good', 'bad', 'good', 'good', 'bad', 'bad', 'bad', 'good', 'good',\n",
              "       'good', 'good', 'bad', 'good', 'good', 'bad', 'good', 'good',\n",
              "       'good', 'bad', 'bad', 'bad', 'good', 'good', 'bad', 'bad', 'good',\n",
              "       'bad', 'bad', 'good', 'good', 'good', 'good', 'bad', 'good', 'bad',\n",
              "       'good', 'good', 'good', 'bad', 'good', 'good', 'bad', 'bad',\n",
              "       'good', 'good', 'bad', 'good', 'good', 'good', 'good', 'bad',\n",
              "       'good', 'good', 'bad', 'bad', 'good', 'bad', 'good', 'good',\n",
              "       'good', 'good', 'good', 'good', 'good', 'good', 'good', 'good',\n",
              "       'good', 'good', 'good', 'bad', 'good', 'good', 'good', 'good',\n",
              "       'good', 'bad', 'bad', 'good', 'bad', 'good', 'good', 'good',\n",
              "       'good', 'good', 'good', 'good', 'good', 'good', 'good', 'good',\n",
              "       'bad', 'bad', 'good', 'good', 'good', 'good', 'good', 'good',\n",
              "       'good', 'good', 'good', 'good', 'bad', 'good', 'good', 'bad',\n",
              "       'bad', 'good', 'bad', 'bad', 'bad', 'good', 'good', 'bad', 'good',\n",
              "       'bad', 'bad', 'good', 'bad', 'good', 'good', 'good', 'bad', 'good',\n",
              "       'good', 'good', 'bad', 'bad', 'good', 'bad', 'good', 'good',\n",
              "       'good', 'good', 'good', 'good', 'good', 'bad', 'good', 'bad',\n",
              "       'bad', 'good', 'bad', 'bad', 'bad', 'good', 'good', 'good', 'good',\n",
              "       'bad', 'good', 'good', 'good', 'good', 'bad', 'good', 'good',\n",
              "       'bad', 'good', 'good', 'good', 'good', 'good', 'bad', 'bad',\n",
              "       'good', 'good', 'good', 'good', 'bad', 'bad', 'bad', 'bad', 'good',\n",
              "       'bad', 'good', 'good', 'good', 'good', 'good', 'good', 'good',\n",
              "       'good', 'good', 'good', 'good', 'good', 'good', 'good', 'bad',\n",
              "       'good'], dtype=object)"
            ]
          },
          "metadata": {
            "tags": []
          },
          "execution_count": 45
        }
      ]
    },
    {
      "cell_type": "code",
      "metadata": {
        "id": "h7Or_iAfiI7n"
      },
      "source": [
        "#TBD Split into Train and Test dataset. random 75% 25%\n",
        "from sklearn.model_selection import train_test_split\n",
        "X_train, X_test, Y_train, Y_test = train_test_split(X, Y, test_size=0.75, random_state=0)"
      ],
      "execution_count": 42,
      "outputs": []
    },
    {
      "cell_type": "code",
      "metadata": {
        "id": "qgbrMPE9iI7q",
        "outputId": "76993ef5-a7c3-4fa6-f219-27230dddfb14",
        "colab": {
          "base_uri": "https://localhost:8080/"
        }
      },
      "source": [
        "#TBD Fit logistic regression model on Training data\n",
        "from sklearn.linear_model import LogisticRegression\n",
        "from sklearn import preprocessing\n",
        "import numpy as np\n",
        "\n",
        "\n",
        "model = linear_model.LogisticRegression()\n",
        "logreg = model.fit(X_train, Y_train)\n",
        "print(logreg.coef_)"
      ],
      "execution_count": 37,
      "outputs": [
        {
          "output_type": "stream",
          "text": [
            "[[ 6.08244738e-01 -2.71114928e-02  3.80580647e-01  1.48829368e-02\n",
            "  -5.94213062e-05  2.25005336e-01  1.25926196e-01 -2.85533571e-01\n",
            "   1.02352244e-01  9.72891212e-02 -1.03016065e-01 -2.73443363e-01\n",
            "   1.25955767e-02  1.28154826e-01  1.07307877e-01 -2.71522171e-02\n",
            "  -1.12540850e-03 -5.47965235e-02  8.10717324e-02  3.44702285e-02]]\n"
          ],
          "name": "stdout"
        },
        {
          "output_type": "stream",
          "text": [
            "/usr/local/lib/python3.6/dist-packages/sklearn/linear_model/_logistic.py:940: ConvergenceWarning: lbfgs failed to converge (status=1):\n",
            "STOP: TOTAL NO. of ITERATIONS REACHED LIMIT.\n",
            "\n",
            "Increase the number of iterations (max_iter) or scale the data as shown in:\n",
            "    https://scikit-learn.org/stable/modules/preprocessing.html\n",
            "Please also refer to the documentation for alternative solver options:\n",
            "    https://scikit-learn.org/stable/modules/linear_model.html#logistic-regression\n",
            "  extra_warning_msg=_LOGISTIC_SOLVER_CONVERGENCE_MSG)\n"
          ],
          "name": "stderr"
        }
      ]
    },
    {
      "cell_type": "code",
      "metadata": {
        "id": "goMpjdC9iI7u",
        "outputId": "d90cb0d7-5ef3-41c3-c9e1-4abb8042a2b9",
        "colab": {
          "base_uri": "https://localhost:8080/"
        }
      },
      "source": [
        "#TBD Predict for Test data\n",
        "#from sklearn import metrics\n",
        "Y_predict = model.predict(X_test)\n",
        "\n",
        "print(f\"Predicted values: {Y_predict}\")\n",
        "print(f\"Actual values: {Y_test}\")\n",
        "#print(metrics.mean_absolute_error(Y_test, Y_predict))"
      ],
      "execution_count": 44,
      "outputs": [
        {
          "output_type": "stream",
          "text": [
            "Predicted values: ['bad' 'good' 'good' 'good' 'good' 'good' 'good' 'good' 'good' 'bad' 'bad'\n",
            " 'bad' 'good' 'good' 'bad' 'good' 'good' 'good' 'bad' 'good' 'bad' 'good'\n",
            " 'bad' 'good' 'good' 'bad' 'good' 'good' 'good' 'bad' 'good' 'good' 'good'\n",
            " 'good' 'good' 'bad' 'good' 'good' 'good' 'good' 'bad' 'bad' 'good' 'good'\n",
            " 'good' 'good' 'bad' 'bad' 'good' 'good' 'good' 'bad' 'good' 'bad' 'bad'\n",
            " 'good' 'bad' 'good' 'good' 'good' 'bad' 'good' 'bad' 'good' 'good' 'good'\n",
            " 'good' 'good' 'bad' 'good' 'good' 'good' 'bad' 'good' 'bad' 'good' 'good'\n",
            " 'good' 'good' 'good' 'bad' 'good' 'good' 'good' 'good' 'good' 'good'\n",
            " 'bad' 'good' 'good' 'good' 'good' 'good' 'good' 'good' 'good' 'good'\n",
            " 'good' 'bad' 'good' 'good' 'good' 'good' 'good' 'good' 'good' 'bad' 'bad'\n",
            " 'bad' 'good' 'good' 'bad' 'bad' 'good' 'good' 'good' 'good' 'good' 'good'\n",
            " 'good' 'good' 'good' 'good' 'bad' 'good' 'good' 'good' 'good' 'good'\n",
            " 'good' 'good' 'bad' 'bad' 'good' 'good' 'bad' 'good' 'good' 'good' 'bad'\n",
            " 'bad' 'bad' 'good' 'good' 'good' 'good' 'good' 'bad' 'bad' 'good' 'good'\n",
            " 'good' 'good' 'good' 'good' 'good' 'bad' 'good' 'good' 'good' 'good'\n",
            " 'bad' 'good' 'good' 'bad' 'bad' 'good' 'good' 'good' 'good' 'bad' 'good'\n",
            " 'bad' 'good' 'good' 'bad' 'good' 'good' 'good' 'good' 'good' 'bad' 'good'\n",
            " 'bad' 'good' 'bad' 'good' 'good' 'good' 'good' 'good' 'bad' 'good' 'good'\n",
            " 'good' 'good' 'bad' 'good' 'good' 'good' 'good' 'bad' 'bad' 'good' 'good'\n",
            " 'good' 'bad' 'good' 'good' 'good' 'good' 'bad' 'good' 'good' 'good'\n",
            " 'good' 'good' 'good' 'good' 'good' 'bad' 'good' 'good' 'good' 'good'\n",
            " 'good' 'good' 'bad' 'bad' 'good' 'good' 'good' 'good' 'good' 'bad' 'good'\n",
            " 'good' 'good' 'good' 'good' 'good' 'good' 'good' 'bad' 'good' 'good'\n",
            " 'good' 'good' 'good' 'good' 'good' 'good' 'good' 'good' 'good' 'good'\n",
            " 'bad' 'bad' 'good' 'good' 'bad' 'good' 'good' 'good' 'bad' 'bad' 'good'\n",
            " 'bad' 'good' 'good' 'bad' 'good' 'good' 'good' 'good' 'good' 'good'\n",
            " 'good' 'good' 'good' 'good' 'good' 'good' 'good' 'bad' 'good' 'good'\n",
            " 'good' 'good' 'good' 'good' 'good' 'bad' 'good' 'good' 'good' 'bad'\n",
            " 'good' 'bad' 'good' 'good' 'good' 'good' 'good' 'good' 'good' 'good'\n",
            " 'good' 'good' 'good' 'bad' 'bad' 'good' 'good' 'good' 'good' 'good' 'bad'\n",
            " 'good' 'good' 'good' 'good' 'good' 'bad' 'good' 'bad' 'good' 'good'\n",
            " 'good' 'bad' 'good' 'good' 'good' 'good' 'good' 'good' 'good' 'bad'\n",
            " 'good' 'good' 'bad' 'good' 'good' 'good' 'bad' 'good' 'good' 'good' 'bad'\n",
            " 'bad' 'good' 'good' 'good' 'bad' 'good' 'good' 'good' 'bad' 'good' 'good'\n",
            " 'good' 'bad' 'good' 'good' 'bad' 'good' 'good' 'good' 'good' 'bad' 'good'\n",
            " 'bad' 'good' 'bad' 'good' 'bad' 'bad' 'good' 'good' 'good' 'good' 'good'\n",
            " 'good' 'good' 'bad' 'bad' 'good' 'good' 'good' 'good' 'good' 'good'\n",
            " 'good' 'good' 'bad' 'good' 'good' 'good' 'good' 'good' 'good' 'good'\n",
            " 'good' 'good' 'good' 'good' 'good' 'good' 'good' 'bad' 'good' 'good'\n",
            " 'good' 'good' 'good' 'good' 'good' 'good' 'good' 'good' 'good' 'good'\n",
            " 'good' 'good' 'good' 'bad' 'good' 'bad' 'good' 'good' 'bad' 'good' 'good'\n",
            " 'good' 'good' 'good' 'good' 'good' 'bad' 'bad' 'good' 'good' 'good'\n",
            " 'good' 'good' 'good' 'good' 'bad' 'bad' 'good' 'good' 'bad' 'good' 'bad'\n",
            " 'good' 'good' 'good' 'good' 'good' 'good' 'bad' 'bad' 'good' 'good'\n",
            " 'good' 'good' 'bad' 'good' 'good' 'good' 'bad' 'good' 'good' 'good'\n",
            " 'good' 'good' 'bad' 'good' 'good' 'good' 'good' 'good' 'good' 'good'\n",
            " 'bad' 'good' 'good' 'bad' 'bad' 'good' 'bad' 'good' 'good' 'good' 'bad'\n",
            " 'good' 'good' 'good' 'good' 'bad' 'bad' 'good' 'good' 'good' 'bad' 'good'\n",
            " 'good' 'good' 'good' 'good' 'good' 'good' 'good' 'good' 'good' 'good'\n",
            " 'good' 'good' 'good' 'good' 'good' 'bad' 'bad' 'good' 'good' 'bad' 'good'\n",
            " 'good' 'good' 'good' 'good' 'bad' 'good' 'good' 'good' 'good' 'bad'\n",
            " 'good' 'good' 'good' 'good' 'good' 'good' 'good' 'good' 'bad' 'good'\n",
            " 'good' 'good' 'good' 'good' 'bad' 'good' 'good' 'good' 'good' 'good'\n",
            " 'bad' 'good' 'bad' 'good' 'good' 'good' 'good' 'good' 'good' 'good'\n",
            " 'good' 'bad' 'good' 'good' 'good' 'good' 'bad' 'good' 'good' 'good'\n",
            " 'good' 'good' 'good' 'bad' 'good' 'bad' 'bad' 'good' 'good' 'good' 'bad'\n",
            " 'good' 'good' 'good' 'good' 'bad' 'good' 'good' 'good' 'good' 'good'\n",
            " 'good' 'good' 'good' 'good' 'bad' 'good' 'bad' 'good' 'good' 'good'\n",
            " 'good' 'bad' 'good' 'good' 'bad' 'good' 'good' 'good' 'good' 'good'\n",
            " 'good' 'good' 'good' 'good' 'good' 'good' 'bad' 'good' 'good' 'good'\n",
            " 'good' 'bad' 'good' 'good' 'good' 'good' 'good' 'good' 'bad' 'good'\n",
            " 'good' 'good' 'good' 'good' 'good' 'good' 'good' 'good' 'good' 'bad'\n",
            " 'good' 'good' 'bad' 'good' 'good' 'good' 'good' 'good' 'bad' 'good'\n",
            " 'good' 'good' 'bad' 'good' 'good' 'good' 'good' 'good' 'good' 'good'\n",
            " 'bad' 'good' 'good' 'good' 'good' 'good' 'good' 'good' 'bad' 'good'\n",
            " 'good' 'good' 'good' 'bad' 'good' 'good' 'good' 'good' 'bad' 'bad' 'good'\n",
            " 'good' 'bad' 'bad' 'good' 'good' 'good' 'good' 'good' 'good' 'good'\n",
            " 'good' 'good' 'bad' 'good' 'good' 'good' 'bad' 'good' 'good' 'good'\n",
            " 'good' 'good' 'good' 'good' 'good' 'bad' 'good' 'bad' 'good' 'good'\n",
            " 'good' 'good' 'good' 'bad' 'good' 'good' 'good' 'bad' 'bad' 'bad' 'good'\n",
            " 'bad' 'good' 'good' 'good' 'good' 'good' 'good' 'good' 'good' 'good'\n",
            " 'good' 'good' 'good' 'good' 'bad' 'good' 'good' 'good' 'bad' 'bad']\n",
            "Actual values: ['good' 'good' 'good' 'good' 'good' 'good' 'good' 'good' 'good' 'bad'\n",
            " 'bad' 'bad' 'good' 'good' 'bad' 'good' 'good' 'bad' 'good' 'good' 'good'\n",
            " 'good' 'good' 'good' 'good' 'bad' 'good' 'good' 'good' 'bad' 'good'\n",
            " 'good' 'bad' 'bad' 'good' 'bad' 'good' 'good' 'bad' 'good' 'bad' 'good'\n",
            " 'good' 'good' 'good' 'bad' 'bad' 'good' 'good' 'good' 'bad' 'bad' 'good'\n",
            " 'good' 'bad' 'good' 'good' 'good' 'good' 'good' 'bad' 'good' 'good'\n",
            " 'good' 'good' 'good' 'good' 'bad' 'bad' 'good' 'good' 'good' 'good'\n",
            " 'good' 'good' 'bad' 'good' 'bad' 'bad' 'good' 'good' 'good' 'good' 'good'\n",
            " 'good' 'good' 'bad' 'good' 'good' 'good' 'good' 'good' 'good' 'good'\n",
            " 'good' 'bad' 'good' 'good' 'good' 'good' 'good' 'good' 'good' 'good'\n",
            " 'good' 'good' 'good' 'bad' 'bad' 'good' 'good' 'bad' 'bad' 'good' 'good'\n",
            " 'good' 'bad' 'good' 'good' 'good' 'bad' 'good' 'good' 'bad' 'good' 'good'\n",
            " 'good' 'good' 'good' 'good' 'bad' 'good' 'bad' 'good' 'good' 'bad' 'good'\n",
            " 'good' 'good' 'good' 'good' 'good' 'good' 'bad' 'bad' 'bad' 'good' 'good'\n",
            " 'bad' 'good' 'good' 'good' 'good' 'bad' 'good' 'good' 'bad' 'good' 'good'\n",
            " 'good' 'bad' 'good' 'good' 'bad' 'bad' 'bad' 'bad' 'good' 'bad' 'good'\n",
            " 'good' 'good' 'good' 'bad' 'good' 'bad' 'bad' 'bad' 'good' 'good' 'good'\n",
            " 'good' 'good' 'bad' 'good' 'bad' 'good' 'good' 'good' 'good' 'bad' 'bad'\n",
            " 'bad' 'good' 'good' 'good' 'bad' 'good' 'bad' 'good' 'good' 'bad' 'bad'\n",
            " 'bad' 'good' 'good' 'bad' 'good' 'good' 'good' 'bad' 'good' 'bad' 'good'\n",
            " 'good' 'good' 'good' 'good' 'good' 'bad' 'bad' 'good' 'good' 'good'\n",
            " 'good' 'good' 'good' 'bad' 'bad' 'good' 'good' 'bad' 'bad' 'good' 'bad'\n",
            " 'good' 'good' 'good' 'good' 'bad' 'bad' 'good' 'good' 'bad' 'good' 'good'\n",
            " 'good' 'good' 'good' 'good' 'good' 'good' 'good' 'good' 'good' 'good'\n",
            " 'good' 'good' 'good' 'good' 'good' 'good' 'good' 'good' 'good' 'bad'\n",
            " 'good' 'bad' 'good' 'bad' 'bad' 'bad' 'good' 'good' 'good' 'good' 'good'\n",
            " 'good' 'bad' 'bad' 'good' 'good' 'good' 'good' 'bad' 'good' 'good' 'good'\n",
            " 'good' 'good' 'good' 'good' 'good' 'good' 'bad' 'good' 'bad' 'good' 'bad'\n",
            " 'bad' 'bad' 'bad' 'good' 'good' 'good' 'good' 'bad' 'bad' 'bad' 'good'\n",
            " 'bad' 'bad' 'good' 'good' 'good' 'good' 'good' 'good' 'good' 'good'\n",
            " 'good' 'good' 'good' 'bad' 'good' 'bad' 'good' 'bad' 'good' 'good' 'good'\n",
            " 'good' 'good' 'good' 'good' 'good' 'bad' 'good' 'bad' 'good' 'bad' 'good'\n",
            " 'bad' 'good' 'good' 'bad' 'bad' 'good' 'bad' 'bad' 'good' 'good' 'good'\n",
            " 'good' 'good' 'good' 'good' 'bad' 'bad' 'good' 'good' 'good' 'bad' 'bad'\n",
            " 'good' 'good' 'bad' 'good' 'bad' 'bad' 'good' 'bad' 'good' 'good' 'good'\n",
            " 'bad' 'bad' 'good' 'good' 'good' 'bad' 'good' 'good' 'good' 'bad' 'bad'\n",
            " 'bad' 'good' 'good' 'bad' 'good' 'good' 'good' 'good' 'bad' 'good' 'good'\n",
            " 'bad' 'good' 'bad' 'good' 'good' 'bad' 'good' 'good' 'bad' 'bad' 'good'\n",
            " 'bad' 'bad' 'good' 'good' 'good' 'good' 'good' 'good' 'good' 'good'\n",
            " 'good' 'bad' 'good' 'good' 'good' 'good' 'good' 'good' 'good' 'bad'\n",
            " 'good' 'bad' 'good' 'good' 'good' 'good' 'good' 'good' 'bad' 'good' 'bad'\n",
            " 'bad' 'good' 'good' 'good' 'good' 'good' 'good' 'good' 'good' 'bad' 'bad'\n",
            " 'good' 'bad' 'good' 'bad' 'good' 'good' 'good' 'good' 'good' 'bad' 'bad'\n",
            " 'bad' 'good' 'good' 'good' 'good' 'good' 'good' 'good' 'bad' 'bad' 'good'\n",
            " 'good' 'good' 'good' 'good' 'good' 'bad' 'good' 'good' 'good' 'good'\n",
            " 'good' 'good' 'bad' 'good' 'bad' 'good' 'good' 'bad' 'good' 'good' 'bad'\n",
            " 'good' 'good' 'bad' 'bad' 'good' 'good' 'bad' 'bad' 'good' 'good' 'good'\n",
            " 'bad' 'good' 'good' 'good' 'bad' 'good' 'good' 'good' 'good' 'good'\n",
            " 'good' 'good' 'good' 'good' 'good' 'good' 'good' 'bad' 'bad' 'good'\n",
            " 'good' 'good' 'good' 'good' 'good' 'good' 'good' 'bad' 'good' 'good'\n",
            " 'good' 'good' 'bad' 'bad' 'good' 'good' 'good' 'good' 'good' 'good'\n",
            " 'good' 'bad' 'good' 'bad' 'good' 'good' 'good' 'good' 'good' 'bad' 'good'\n",
            " 'good' 'good' 'bad' 'good' 'good' 'good' 'good' 'good' 'good' 'bad'\n",
            " 'good' 'bad' 'bad' 'bad' 'bad' 'good' 'bad' 'good' 'bad' 'good' 'good'\n",
            " 'good' 'good' 'bad' 'bad' 'good' 'good' 'bad' 'good' 'good' 'good' 'good'\n",
            " 'bad' 'good' 'bad' 'bad' 'good' 'bad' 'good' 'good' 'bad' 'good' 'good'\n",
            " 'good' 'good' 'bad' 'good' 'bad' 'bad' 'bad' 'bad' 'good' 'bad' 'good'\n",
            " 'bad' 'good' 'good' 'bad' 'good' 'good' 'good' 'good' 'bad' 'good' 'good'\n",
            " 'bad' 'bad' 'good' 'good' 'good' 'good' 'good' 'good' 'good' 'bad' 'good'\n",
            " 'good' 'good' 'good' 'good' 'bad' 'good' 'good' 'good' 'good' 'good'\n",
            " 'good' 'good' 'bad' 'good' 'good' 'bad' 'bad' 'bad' 'bad' 'good' 'good'\n",
            " 'good' 'good' 'good' 'good' 'bad' 'good' 'good' 'bad' 'bad' 'good' 'good'\n",
            " 'good' 'good' 'bad' 'good' 'good' 'bad' 'good' 'bad' 'good' 'good' 'good'\n",
            " 'good' 'bad' 'good' 'good' 'good' 'good' 'good' 'bad' 'good' 'bad' 'good'\n",
            " 'bad' 'bad' 'bad' 'bad' 'good' 'good' 'bad' 'bad' 'good' 'good' 'good'\n",
            " 'good' 'good' 'good' 'good' 'bad' 'bad' 'good' 'good' 'good' 'bad' 'good'\n",
            " 'good' 'good' 'good' 'good' 'good' 'good' 'good' 'good' 'good' 'bad'\n",
            " 'good' 'good' 'good' 'good' 'good' 'good' 'good' 'bad' 'good' 'good'\n",
            " 'bad' 'good' 'good' 'bad' 'bad' 'bad' 'bad' 'good' 'good' 'good' 'good'\n",
            " 'good' 'good' 'good' 'good' 'good' 'good' 'bad' 'good' 'good' 'good'\n",
            " 'bad' 'good']\n"
          ],
          "name": "stdout"
        }
      ]
    },
    {
      "cell_type": "code",
      "metadata": {
        "id": "-NNFqYuriI7w",
        "outputId": "487f69a2-38f4-4f9f-e14f-4ee503721672",
        "colab": {
          "base_uri": "https://localhost:8080/",
          "height": 358
        }
      },
      "source": [
        "#TBD Categorical cross entropy error (log loss) for your predictions\n",
        "from sklearn.metrics import log_loss\n",
        "\n",
        "Logloss = log_loss(Y, Y_predict)\n",
        "print(Logloss)"
      ],
      "execution_count": 23,
      "outputs": [
        {
          "output_type": "error",
          "ename": "ValueError",
          "evalue": "ignored",
          "traceback": [
            "\u001b[0;31m---------------------------------------------------------------------------\u001b[0m",
            "\u001b[0;31mValueError\u001b[0m                                Traceback (most recent call last)",
            "\u001b[0;32m<ipython-input-23-44b09a014191>\u001b[0m in \u001b[0;36m<module>\u001b[0;34m()\u001b[0m\n\u001b[1;32m      2\u001b[0m \u001b[0;32mfrom\u001b[0m \u001b[0msklearn\u001b[0m\u001b[0;34m.\u001b[0m\u001b[0mmetrics\u001b[0m \u001b[0;32mimport\u001b[0m \u001b[0mlog_loss\u001b[0m\u001b[0;34m\u001b[0m\u001b[0;34m\u001b[0m\u001b[0m\n\u001b[1;32m      3\u001b[0m \u001b[0;34m\u001b[0m\u001b[0m\n\u001b[0;32m----> 4\u001b[0;31m \u001b[0mLogloss\u001b[0m \u001b[0;34m=\u001b[0m \u001b[0mlog_loss\u001b[0m\u001b[0;34m(\u001b[0m\u001b[0mY\u001b[0m\u001b[0;34m,\u001b[0m \u001b[0mY_predict\u001b[0m\u001b[0;34m)\u001b[0m\u001b[0;34m\u001b[0m\u001b[0;34m\u001b[0m\u001b[0m\n\u001b[0m\u001b[1;32m      5\u001b[0m \u001b[0mprint\u001b[0m\u001b[0;34m(\u001b[0m\u001b[0mLogloss\u001b[0m\u001b[0;34m)\u001b[0m\u001b[0;34m\u001b[0m\u001b[0;34m\u001b[0m\u001b[0m\n",
            "\u001b[0;32m/usr/local/lib/python3.6/dist-packages/sklearn/metrics/_classification.py\u001b[0m in \u001b[0;36mlog_loss\u001b[0;34m(y_true, y_pred, eps, normalize, sample_weight, labels)\u001b[0m\n\u001b[1;32m   2239\u001b[0m     \u001b[0mThe\u001b[0m \u001b[0mlogarithm\u001b[0m \u001b[0mused\u001b[0m \u001b[0;32mis\u001b[0m \u001b[0mthe\u001b[0m \u001b[0mnatural\u001b[0m \u001b[0mlogarithm\u001b[0m \u001b[0;34m(\u001b[0m\u001b[0mbase\u001b[0m\u001b[0;34m-\u001b[0m\u001b[0me\u001b[0m\u001b[0;34m)\u001b[0m\u001b[0;34m.\u001b[0m\u001b[0;34m\u001b[0m\u001b[0;34m\u001b[0m\u001b[0m\n\u001b[1;32m   2240\u001b[0m     \"\"\"\n\u001b[0;32m-> 2241\u001b[0;31m     \u001b[0my_pred\u001b[0m \u001b[0;34m=\u001b[0m \u001b[0mcheck_array\u001b[0m\u001b[0;34m(\u001b[0m\u001b[0my_pred\u001b[0m\u001b[0;34m,\u001b[0m \u001b[0mensure_2d\u001b[0m\u001b[0;34m=\u001b[0m\u001b[0;32mFalse\u001b[0m\u001b[0;34m)\u001b[0m\u001b[0;34m\u001b[0m\u001b[0;34m\u001b[0m\u001b[0m\n\u001b[0m\u001b[1;32m   2242\u001b[0m     \u001b[0mcheck_consistent_length\u001b[0m\u001b[0;34m(\u001b[0m\u001b[0my_pred\u001b[0m\u001b[0;34m,\u001b[0m \u001b[0my_true\u001b[0m\u001b[0;34m,\u001b[0m \u001b[0msample_weight\u001b[0m\u001b[0;34m)\u001b[0m\u001b[0;34m\u001b[0m\u001b[0;34m\u001b[0m\u001b[0m\n\u001b[1;32m   2243\u001b[0m \u001b[0;34m\u001b[0m\u001b[0m\n",
            "\u001b[0;32m/usr/local/lib/python3.6/dist-packages/sklearn/utils/validation.py\u001b[0m in \u001b[0;36mcheck_array\u001b[0;34m(array, accept_sparse, accept_large_sparse, dtype, order, copy, force_all_finite, ensure_2d, allow_nd, ensure_min_samples, ensure_min_features, warn_on_dtype, estimator)\u001b[0m\n\u001b[1;32m    529\u001b[0m                     \u001b[0marray\u001b[0m \u001b[0;34m=\u001b[0m \u001b[0marray\u001b[0m\u001b[0;34m.\u001b[0m\u001b[0mastype\u001b[0m\u001b[0;34m(\u001b[0m\u001b[0mdtype\u001b[0m\u001b[0;34m,\u001b[0m \u001b[0mcasting\u001b[0m\u001b[0;34m=\u001b[0m\u001b[0;34m\"unsafe\"\u001b[0m\u001b[0;34m,\u001b[0m \u001b[0mcopy\u001b[0m\u001b[0;34m=\u001b[0m\u001b[0;32mFalse\u001b[0m\u001b[0;34m)\u001b[0m\u001b[0;34m\u001b[0m\u001b[0;34m\u001b[0m\u001b[0m\n\u001b[1;32m    530\u001b[0m                 \u001b[0;32melse\u001b[0m\u001b[0;34m:\u001b[0m\u001b[0;34m\u001b[0m\u001b[0;34m\u001b[0m\u001b[0m\n\u001b[0;32m--> 531\u001b[0;31m                     \u001b[0marray\u001b[0m \u001b[0;34m=\u001b[0m \u001b[0mnp\u001b[0m\u001b[0;34m.\u001b[0m\u001b[0masarray\u001b[0m\u001b[0;34m(\u001b[0m\u001b[0marray\u001b[0m\u001b[0;34m,\u001b[0m \u001b[0morder\u001b[0m\u001b[0;34m=\u001b[0m\u001b[0morder\u001b[0m\u001b[0;34m,\u001b[0m \u001b[0mdtype\u001b[0m\u001b[0;34m=\u001b[0m\u001b[0mdtype\u001b[0m\u001b[0;34m)\u001b[0m\u001b[0;34m\u001b[0m\u001b[0;34m\u001b[0m\u001b[0m\n\u001b[0m\u001b[1;32m    532\u001b[0m             \u001b[0;32mexcept\u001b[0m \u001b[0mComplexWarning\u001b[0m\u001b[0;34m:\u001b[0m\u001b[0;34m\u001b[0m\u001b[0;34m\u001b[0m\u001b[0m\n\u001b[1;32m    533\u001b[0m                 raise ValueError(\"Complex data not supported\\n\"\n",
            "\u001b[0;32m/usr/local/lib/python3.6/dist-packages/numpy/core/_asarray.py\u001b[0m in \u001b[0;36masarray\u001b[0;34m(a, dtype, order)\u001b[0m\n\u001b[1;32m     83\u001b[0m \u001b[0;34m\u001b[0m\u001b[0m\n\u001b[1;32m     84\u001b[0m     \"\"\"\n\u001b[0;32m---> 85\u001b[0;31m     \u001b[0;32mreturn\u001b[0m \u001b[0marray\u001b[0m\u001b[0;34m(\u001b[0m\u001b[0ma\u001b[0m\u001b[0;34m,\u001b[0m \u001b[0mdtype\u001b[0m\u001b[0;34m,\u001b[0m \u001b[0mcopy\u001b[0m\u001b[0;34m=\u001b[0m\u001b[0;32mFalse\u001b[0m\u001b[0;34m,\u001b[0m \u001b[0morder\u001b[0m\u001b[0;34m=\u001b[0m\u001b[0morder\u001b[0m\u001b[0;34m)\u001b[0m\u001b[0;34m\u001b[0m\u001b[0;34m\u001b[0m\u001b[0m\n\u001b[0m\u001b[1;32m     86\u001b[0m \u001b[0;34m\u001b[0m\u001b[0m\n\u001b[1;32m     87\u001b[0m \u001b[0;34m\u001b[0m\u001b[0m\n",
            "\u001b[0;31mValueError\u001b[0m: could not convert string to float: 'good'"
          ]
        }
      ]
    },
    {
      "cell_type": "code",
      "metadata": {
        "id": "m1B2FxD0iI7z"
      },
      "source": [
        "#TBD Predict concrete class (instread of probablity score) for test data"
      ],
      "execution_count": null,
      "outputs": []
    },
    {
      "cell_type": "code",
      "metadata": {
        "id": "5PgZeNi-iI72"
      },
      "source": [
        "#TBD Determine accuracy score for concrete predictions"
      ],
      "execution_count": null,
      "outputs": []
    }
  ]
}