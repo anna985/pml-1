{
  "nbformat": 4,
  "nbformat_minor": 0,
  "metadata": {
    "kernelspec": {
      "name": "Python 3.8.2 64-bit ('pml')",
      "display_name": "Python 3.8.2 64-bit ('pml')",
      "metadata": {
        "interpreter": {
          "hash": "a4c9474aacc61cf72d0f1c29f4a339e5d6b2171c287541cfd684cf058783219b"
        }
      }
    },
    "language_info": {
      "codemirror_mode": {
        "name": "ipython",
        "version": 3
      },
      "file_extension": ".py",
      "mimetype": "text/x-python",
      "name": "python",
      "nbconvert_exporter": "python",
      "pygments_lexer": "ipython3",
      "version": "3.8.2-final"
    },
    "colab": {
      "name": "Copy of 012.ipynb",
      "provenance": [],
      "include_colab_link": true
    }
  },
  "cells": [
    {
      "cell_type": "markdown",
      "metadata": {
        "id": "view-in-github",
        "colab_type": "text"
      },
      "source": [
        "<a href=\"https://colab.research.google.com/github/anna985/pml-1/blob/master/course/Problem012_Classification/012.ipynb\" target=\"_parent\"><img src=\"https://colab.research.google.com/assets/colab-badge.svg\" alt=\"Open In Colab\"/></a>"
      ]
    },
    {
      "cell_type": "markdown",
      "metadata": {
        "scrolled": true,
        "id": "5FmdCDAFiI7i"
      },
      "source": [
        "# Credit Approval Yes/No\n",
        "\n"
      ]
    },
    {
      "cell_type": "code",
      "metadata": {
        "id": "_jmnsMbkiI7j",
        "outputId": "b22d288c-0b5b-4c84-8e91-fe2ed085b70c",
        "colab": {
          "base_uri": "https://localhost:8080/",
          "height": 137
        }
      },
      "source": [
        " from sklearn.datasets import fetch_openml\n",
        " #Load credit dataset\n",
        " data = fetch_openml(\"credit-g\")\n",
        " #X, Y = fetch_openml('credit-g', version=1, as_frame=True, return_X_y=True)\n",
        " #print(X.dtypes)\n",
        "\n",
        "X = data.data\n",
        "Y = data.target\n",
        "\n",
        "data.DESCR\n"
      ],
      "execution_count": 2,
      "outputs": [
        {
          "output_type": "execute_result",
          "data": {
            "application/vnd.google.colaboratory.intrinsic+json": {
              "type": "string"
            },
            "text/plain": [
              "'**Author**: Dr. Hans Hofmann  \\n**Source**: [UCI](https://archive.ics.uci.edu/ml/datasets/statlog+(german+credit+data)) - 1994    \\n**Please cite**: [UCI](https://archive.ics.uci.edu/ml/citation_policy.html)\\n\\n**German Credit dataset**  \\nThis dataset classifies people described by a set of attributes as good or bad credit risks.\\n\\nThis dataset comes with a cost matrix: \\n``` \\n      Good  Bad (predicted)  \\nGood   0    1   (actual)  \\nBad    5    0  \\n```\\n\\nIt is worse to class a customer as good when they are bad (5), than it is to class a customer as bad when they are good (1).  \\n\\n### Attribute description  \\n\\n1. Status of existing checking account, in Deutsche Mark.  \\n2. Duration in months  \\n3. Credit history (credits taken, paid back duly, delays, critical accounts)  \\n4. Purpose of the credit (car, television,...)  \\n5. Credit amount  \\n6. Status of savings account/bonds, in Deutsche Mark.  \\n7. Present employment, in number of years.  \\n8. Installment rate in percentage of disposable income  \\n9. Personal status (married, single,...) and sex  \\n10. Other debtors / guarantors  \\n11. Present residence since X years  \\n12. Property (e.g. real estate)  \\n13. Age in years  \\n14. Other installment plans (banks, stores)  \\n15. Housing (rent, own,...)  \\n16. Number of existing credits at this bank  \\n17. Job  \\n18. Number of people being liable to provide maintenance for  \\n19. Telephone (yes,no)  \\n20. Foreign worker (yes,no)\\n\\nDownloaded from openml.org.'"
            ]
          },
          "metadata": {
            "tags": []
          },
          "execution_count": 2
        }
      ]
    },
    {
      "cell_type": "code",
      "metadata": {
        "id": "tCZjfOCOsB9S",
        "outputId": "d86d5a95-2449-4f4a-ee41-f2155453141c",
        "colab": {
          "base_uri": "https://localhost:8080/"
        }
      },
      "source": [
        "data.feature_names\n",
        "#data[\"feature_names\"]\n",
        "#print(f'features ==> {data[\"feature_names\"]}')"
      ],
      "execution_count": 9,
      "outputs": [
        {
          "output_type": "execute_result",
          "data": {
            "text/plain": [
              "['checking_status',\n",
              " 'duration',\n",
              " 'credit_history',\n",
              " 'purpose',\n",
              " 'credit_amount',\n",
              " 'savings_status',\n",
              " 'employment',\n",
              " 'installment_commitment',\n",
              " 'personal_status',\n",
              " 'other_parties',\n",
              " 'residence_since',\n",
              " 'property_magnitude',\n",
              " 'age',\n",
              " 'other_payment_plans',\n",
              " 'housing',\n",
              " 'existing_credits',\n",
              " 'job',\n",
              " 'num_dependents',\n",
              " 'own_telephone',\n",
              " 'foreign_worker']"
            ]
          },
          "metadata": {
            "tags": []
          },
          "execution_count": 9
        }
      ]
    },
    {
      "cell_type": "code",
      "metadata": {
        "id": "WOi0laTjsSQf",
        "outputId": "46436ea7-f0d1-42ef-b2f1-66544a21bc34",
        "colab": {
          "base_uri": "https://localhost:8080/"
        }
      },
      "source": [
        "data.categories"
      ],
      "execution_count": 10,
      "outputs": [
        {
          "output_type": "execute_result",
          "data": {
            "text/plain": [
              "{'checking_status': ['<0', '0<=X<200', '>=200', 'no checking'],\n",
              " 'credit_history': ['no credits/all paid',\n",
              "  'all paid',\n",
              "  'existing paid',\n",
              "  'delayed previously',\n",
              "  'critical/other existing credit'],\n",
              " 'employment': ['unemployed', '<1', '1<=X<4', '4<=X<7', '>=7'],\n",
              " 'foreign_worker': ['yes', 'no'],\n",
              " 'housing': ['rent', 'own', 'for free'],\n",
              " 'job': ['unemp/unskilled non res',\n",
              "  'unskilled resident',\n",
              "  'skilled',\n",
              "  'high qualif/self emp/mgmt'],\n",
              " 'other_parties': ['none', 'co applicant', 'guarantor'],\n",
              " 'other_payment_plans': ['bank', 'stores', 'none'],\n",
              " 'own_telephone': ['none', 'yes'],\n",
              " 'personal_status': ['male div/sep',\n",
              "  'female div/dep/mar',\n",
              "  'male single',\n",
              "  'male mar/wid',\n",
              "  'female single'],\n",
              " 'property_magnitude': ['real estate',\n",
              "  'life insurance',\n",
              "  'car',\n",
              "  'no known property'],\n",
              " 'purpose': ['new car',\n",
              "  'used car',\n",
              "  'furniture/equipment',\n",
              "  'radio/tv',\n",
              "  'domestic appliance',\n",
              "  'repairs',\n",
              "  'education',\n",
              "  'vacation',\n",
              "  'retraining',\n",
              "  'business',\n",
              "  'other'],\n",
              " 'savings_status': ['<100',\n",
              "  '100<=X<500',\n",
              "  '500<=X<1000',\n",
              "  '>=1000',\n",
              "  'no known savings']}"
            ]
          },
          "metadata": {
            "tags": []
          },
          "execution_count": 10
        }
      ]
    },
    {
      "cell_type": "code",
      "metadata": {
        "id": "51O9nubTzazj"
      },
      "source": [
        "import pandas as pd\n",
        "credit_dataframe = pd.DataFrame(X, columns=data.feature_names)\n",
        "credit_dataframe['class'] = Y"
      ],
      "execution_count": 16,
      "outputs": []
    },
    {
      "cell_type": "code",
      "metadata": {
        "id": "X_oDNDiyz8Lm",
        "outputId": "367e2f7e-3228-4365-b41c-9cd2f267ab77",
        "colab": {
          "base_uri": "https://localhost:8080/",
          "height": 224
        }
      },
      "source": [
        "credit_dataframe.head()"
      ],
      "execution_count": 17,
      "outputs": [
        {
          "output_type": "execute_result",
          "data": {
            "text/html": [
              "<div>\n",
              "<style scoped>\n",
              "    .dataframe tbody tr th:only-of-type {\n",
              "        vertical-align: middle;\n",
              "    }\n",
              "\n",
              "    .dataframe tbody tr th {\n",
              "        vertical-align: top;\n",
              "    }\n",
              "\n",
              "    .dataframe thead th {\n",
              "        text-align: right;\n",
              "    }\n",
              "</style>\n",
              "<table border=\"1\" class=\"dataframe\">\n",
              "  <thead>\n",
              "    <tr style=\"text-align: right;\">\n",
              "      <th></th>\n",
              "      <th>checking_status</th>\n",
              "      <th>duration</th>\n",
              "      <th>credit_history</th>\n",
              "      <th>purpose</th>\n",
              "      <th>credit_amount</th>\n",
              "      <th>savings_status</th>\n",
              "      <th>employment</th>\n",
              "      <th>installment_commitment</th>\n",
              "      <th>personal_status</th>\n",
              "      <th>other_parties</th>\n",
              "      <th>residence_since</th>\n",
              "      <th>property_magnitude</th>\n",
              "      <th>age</th>\n",
              "      <th>other_payment_plans</th>\n",
              "      <th>housing</th>\n",
              "      <th>existing_credits</th>\n",
              "      <th>job</th>\n",
              "      <th>num_dependents</th>\n",
              "      <th>own_telephone</th>\n",
              "      <th>foreign_worker</th>\n",
              "      <th>class</th>\n",
              "    </tr>\n",
              "  </thead>\n",
              "  <tbody>\n",
              "    <tr>\n",
              "      <th>0</th>\n",
              "      <td>0.0</td>\n",
              "      <td>6.0</td>\n",
              "      <td>4.0</td>\n",
              "      <td>3.0</td>\n",
              "      <td>1169.0</td>\n",
              "      <td>4.0</td>\n",
              "      <td>4.0</td>\n",
              "      <td>4.0</td>\n",
              "      <td>2.0</td>\n",
              "      <td>0.0</td>\n",
              "      <td>4.0</td>\n",
              "      <td>0.0</td>\n",
              "      <td>67.0</td>\n",
              "      <td>2.0</td>\n",
              "      <td>1.0</td>\n",
              "      <td>2.0</td>\n",
              "      <td>2.0</td>\n",
              "      <td>1.0</td>\n",
              "      <td>1.0</td>\n",
              "      <td>0.0</td>\n",
              "      <td>good</td>\n",
              "    </tr>\n",
              "    <tr>\n",
              "      <th>1</th>\n",
              "      <td>1.0</td>\n",
              "      <td>48.0</td>\n",
              "      <td>2.0</td>\n",
              "      <td>3.0</td>\n",
              "      <td>5951.0</td>\n",
              "      <td>0.0</td>\n",
              "      <td>2.0</td>\n",
              "      <td>2.0</td>\n",
              "      <td>1.0</td>\n",
              "      <td>0.0</td>\n",
              "      <td>2.0</td>\n",
              "      <td>0.0</td>\n",
              "      <td>22.0</td>\n",
              "      <td>2.0</td>\n",
              "      <td>1.0</td>\n",
              "      <td>1.0</td>\n",
              "      <td>2.0</td>\n",
              "      <td>1.0</td>\n",
              "      <td>0.0</td>\n",
              "      <td>0.0</td>\n",
              "      <td>bad</td>\n",
              "    </tr>\n",
              "    <tr>\n",
              "      <th>2</th>\n",
              "      <td>3.0</td>\n",
              "      <td>12.0</td>\n",
              "      <td>4.0</td>\n",
              "      <td>6.0</td>\n",
              "      <td>2096.0</td>\n",
              "      <td>0.0</td>\n",
              "      <td>3.0</td>\n",
              "      <td>2.0</td>\n",
              "      <td>2.0</td>\n",
              "      <td>0.0</td>\n",
              "      <td>3.0</td>\n",
              "      <td>0.0</td>\n",
              "      <td>49.0</td>\n",
              "      <td>2.0</td>\n",
              "      <td>1.0</td>\n",
              "      <td>1.0</td>\n",
              "      <td>1.0</td>\n",
              "      <td>2.0</td>\n",
              "      <td>0.0</td>\n",
              "      <td>0.0</td>\n",
              "      <td>good</td>\n",
              "    </tr>\n",
              "    <tr>\n",
              "      <th>3</th>\n",
              "      <td>0.0</td>\n",
              "      <td>42.0</td>\n",
              "      <td>2.0</td>\n",
              "      <td>2.0</td>\n",
              "      <td>7882.0</td>\n",
              "      <td>0.0</td>\n",
              "      <td>3.0</td>\n",
              "      <td>2.0</td>\n",
              "      <td>2.0</td>\n",
              "      <td>2.0</td>\n",
              "      <td>4.0</td>\n",
              "      <td>1.0</td>\n",
              "      <td>45.0</td>\n",
              "      <td>2.0</td>\n",
              "      <td>2.0</td>\n",
              "      <td>1.0</td>\n",
              "      <td>2.0</td>\n",
              "      <td>2.0</td>\n",
              "      <td>0.0</td>\n",
              "      <td>0.0</td>\n",
              "      <td>good</td>\n",
              "    </tr>\n",
              "    <tr>\n",
              "      <th>4</th>\n",
              "      <td>0.0</td>\n",
              "      <td>24.0</td>\n",
              "      <td>3.0</td>\n",
              "      <td>0.0</td>\n",
              "      <td>4870.0</td>\n",
              "      <td>0.0</td>\n",
              "      <td>2.0</td>\n",
              "      <td>3.0</td>\n",
              "      <td>2.0</td>\n",
              "      <td>0.0</td>\n",
              "      <td>4.0</td>\n",
              "      <td>3.0</td>\n",
              "      <td>53.0</td>\n",
              "      <td>2.0</td>\n",
              "      <td>2.0</td>\n",
              "      <td>2.0</td>\n",
              "      <td>2.0</td>\n",
              "      <td>2.0</td>\n",
              "      <td>0.0</td>\n",
              "      <td>0.0</td>\n",
              "      <td>bad</td>\n",
              "    </tr>\n",
              "  </tbody>\n",
              "</table>\n",
              "</div>"
            ],
            "text/plain": [
              "   checking_status  duration  ...  foreign_worker  class\n",
              "0              0.0       6.0  ...             0.0   good\n",
              "1              1.0      48.0  ...             0.0    bad\n",
              "2              3.0      12.0  ...             0.0   good\n",
              "3              0.0      42.0  ...             0.0   good\n",
              "4              0.0      24.0  ...             0.0    bad\n",
              "\n",
              "[5 rows x 21 columns]"
            ]
          },
          "metadata": {
            "tags": []
          },
          "execution_count": 17
        }
      ]
    },
    {
      "cell_type": "code",
      "metadata": {
        "id": "nVoo8U6yx8RY"
      },
      "source": [
        "from sklearn.preprocessing import StandardScaler, RobustScaler, OneHotEncoder, OrdinalEncoder, LabelEncoder\n",
        "le = LabelEncoder()\n",
        "y = le.fit_transform(Y)"
      ],
      "execution_count": 19,
      "outputs": []
    },
    {
      "cell_type": "code",
      "metadata": {
        "id": "h7Or_iAfiI7n"
      },
      "source": [
        "#TBD Split into Train and Test dataset. random 75% 25%\n",
        "from sklearn.model_selection import train_test_split\n",
        "X_train, X_test, Y_train, Y_test = train_test_split(X, y, train_size=0.75, test_size=0.25, random_state=0)"
      ],
      "execution_count": 27,
      "outputs": []
    },
    {
      "cell_type": "code",
      "metadata": {
        "id": "qgbrMPE9iI7q",
        "outputId": "444c70e9-4bfd-466f-f00b-95b395cbbc46",
        "colab": {
          "base_uri": "https://localhost:8080/"
        }
      },
      "source": [
        "#TBD Fit logistic regression model on Training data\n",
        "from sklearn.linear_model import LogisticRegression\n",
        "\n",
        "model = LogisticRegression()\n",
        "logreg = model.fit(X_train, Y_train)\n",
        "print(logreg.coef_)"
      ],
      "execution_count": 28,
      "outputs": [
        {
          "output_type": "stream",
          "text": [
            "[[ 6.08244738e-01 -2.71114928e-02  3.80580647e-01  1.48829368e-02\n",
            "  -5.94213062e-05  2.25005336e-01  1.25926196e-01 -2.85533571e-01\n",
            "   1.02352244e-01  9.72891212e-02 -1.03016065e-01 -2.73443363e-01\n",
            "   1.25955767e-02  1.28154826e-01  1.07307877e-01 -2.71522171e-02\n",
            "  -1.12540850e-03 -5.47965235e-02  8.10717324e-02  3.44702285e-02]]\n"
          ],
          "name": "stdout"
        },
        {
          "output_type": "stream",
          "text": [
            "/usr/local/lib/python3.6/dist-packages/sklearn/linear_model/_logistic.py:940: ConvergenceWarning: lbfgs failed to converge (status=1):\n",
            "STOP: TOTAL NO. of ITERATIONS REACHED LIMIT.\n",
            "\n",
            "Increase the number of iterations (max_iter) or scale the data as shown in:\n",
            "    https://scikit-learn.org/stable/modules/preprocessing.html\n",
            "Please also refer to the documentation for alternative solver options:\n",
            "    https://scikit-learn.org/stable/modules/linear_model.html#logistic-regression\n",
            "  extra_warning_msg=_LOGISTIC_SOLVER_CONVERGENCE_MSG)\n"
          ],
          "name": "stderr"
        }
      ]
    },
    {
      "cell_type": "code",
      "metadata": {
        "id": "goMpjdC9iI7u",
        "outputId": "2482a56a-1132-418f-f5d5-d6b2c61568ca",
        "colab": {
          "base_uri": "https://localhost:8080/"
        }
      },
      "source": [
        "#TBD Predict for Test data\n",
        "#from sklearn import metrics\n",
        "Y_predict = model.predict(X_test)\n",
        "score = model.score(X_test,Y_test)\n",
        "\n",
        "print(f\"Predicted values: {Y_predict}\")\n",
        "print(f\"Actual values: {Y_test}\")\n",
        "print(\"Sscore=\" + str(score))\n",
        "#print(metrics.mean_absolute_error(Y_test, Y_predict))"
      ],
      "execution_count": 29,
      "outputs": [
        {
          "output_type": "stream",
          "text": [
            "Predicted values: [0 1 1 1 1 1 1 1 1 0 0 0 1 1 0 1 1 1 0 1 0 1 0 1 1 0 1 1 1 0 1 1 1 1 1 0 1\n",
            " 1 1 1 0 0 1 1 1 1 0 0 1 1 1 0 1 0 0 1 0 1 1 1 0 1 0 1 1 1 1 1 0 1 1 1 0 1\n",
            " 0 1 1 1 1 1 0 1 1 1 1 1 1 0 1 1 1 1 1 1 1 1 1 1 0 1 1 1 1 1 1 1 0 0 0 1 1\n",
            " 0 0 1 1 1 1 1 1 1 1 1 1 0 1 1 1 1 1 1 1 0 0 1 1 0 1 1 1 0 0 0 1 1 1 1 1 0\n",
            " 0 1 1 1 1 1 1 1 0 1 1 1 1 0 1 1 0 0 1 1 1 1 0 1 0 1 1 0 1 1 1 1 1 0 1 0 1\n",
            " 0 1 1 1 1 1 0 1 1 1 1 0 1 1 1 1 0 0 1 1 1 0 1 1 1 1 0 1 1 1 1 1 1 1 1 0 1\n",
            " 1 1 1 1 1 0 0 1 1 1 1 1 0 1 1 1 1 1 1 1 1 0 1 1 1 1 1 1]\n",
            "Actual values: [1 1 1 1 1 1 1 1 1 0 0 0 1 1 0 1 1 0 1 1 1 1 1 1 1 0 1 1 1 0 1 1 0 0 1 0 1\n",
            " 1 0 1 0 1 1 1 1 0 0 1 1 1 0 0 1 1 0 1 1 1 1 1 0 1 1 1 1 1 1 0 0 1 1 1 1 1\n",
            " 1 0 1 0 0 1 1 1 1 1 1 1 0 1 1 1 1 1 1 1 1 0 1 1 1 1 1 1 1 1 1 1 1 0 0 1 1\n",
            " 0 0 1 1 1 0 1 1 1 0 1 1 0 1 1 1 1 1 1 0 1 0 1 1 0 1 1 1 1 1 1 1 0 0 0 1 1\n",
            " 0 1 1 1 1 0 1 1 0 1 1 1 0 1 1 0 0 0 0 1 0 1 1 1 1 0 1 0 0 0 1 1 1 1 1 0 1\n",
            " 0 1 1 1 1 0 0 0 1 1 1 0 1 0 1 1 0 0 0 1 1 0 1 1 1 0 1 0 1 1 1 1 1 1 0 0 1\n",
            " 1 1 1 1 1 0 0 1 1 0 0 1 0 1 1 1 1 0 0 1 1 0 1 1 1 1 1 1]\n",
            "Sscore=0.752\n"
          ],
          "name": "stdout"
        }
      ]
    },
    {
      "cell_type": "code",
      "metadata": {
        "id": "-NNFqYuriI7w",
        "outputId": "3ac151b9-4fcd-4fee-add9-93024b42a46e",
        "colab": {
          "base_uri": "https://localhost:8080/"
        }
      },
      "source": [
        "#TBD Categorical cross entropy error (log loss) for your predictions\n",
        "from sklearn.metrics import log_loss\n",
        "\n",
        "Logloss = log_loss(Y_test, Y_predict)\n",
        "print(Logloss)\n"
      ],
      "execution_count": 30,
      "outputs": [
        {
          "output_type": "stream",
          "text": [
            "8.56573488635752\n"
          ],
          "name": "stdout"
        }
      ]
    },
    {
      "cell_type": "code",
      "metadata": {
        "id": "CFV-X_cgTwxT",
        "outputId": "0c891ff7-9f1c-457e-baf8-89f1bdc97583",
        "colab": {
          "base_uri": "https://localhost:8080/",
          "height": 265
        }
      },
      "source": [
        "# plot predictions vs loss\n",
        "from sklearn.metrics import log_loss\n",
        "from matplotlib import pyplot\n",
        "\n",
        "Y_loss = [log_loss(Y_test, [y for x in range(len(Y_test))]) for y in Y_predict]\n",
        "pyplot.plot(Y_predict, Y_loss)\n",
        "pyplot.show()"
      ],
      "execution_count": 34,
      "outputs": [
        {
          "output_type": "display_data",
          "data": {
            "image/png": "[encoded data removed]",
            "text/plain": [
              "<Figure size 432x288 with 1 Axes>"
            ]
          },
          "metadata": {
            "tags": [],
            "needs_background": "light"
          }
        }
      ]
    },
    {
      "cell_type": "code",
      "metadata": {
        "id": "m1B2FxD0iI7z",
        "outputId": "80b1fdfd-9a14-44db-91fd-0adae739df61",
        "colab": {
          "base_uri": "https://localhost:8080/"
        }
      },
      "source": [
        "#TBD Predict concrete class (instread of probablity score) for test data\n",
        "from sklearn.metrics import brier_score_loss\n",
        "\n",
        "BrierLoss = brier_score_loss(Y_test, Y_predict)\n",
        "print(BrierLoss)"
      ],
      "execution_count": 31,
      "outputs": [
        {
          "output_type": "stream",
          "text": [
            "0.248\n"
          ],
          "name": "stdout"
        }
      ]
    },
    {
      "cell_type": "code",
      "metadata": {
        "id": "NuFNKSK_UlzZ",
        "outputId": "6d4c0af8-be39-4269-8ba2-6f6a069391d1",
        "colab": {
          "base_uri": "https://localhost:8080/",
          "height": 265
        }
      },
      "source": [
        "from sklearn.metrics import brier_score_loss\n",
        "from matplotlib import pyplot\n",
        "\n",
        "Y_loss = [brier_score_loss(Y_test, [y for x in range(len(Y_test))]) for y in Y_predict]\n",
        "# plot predictions vs loss\n",
        "pyplot.plot(Y_predict, Y_loss)\n",
        "pyplot.show()"
      ],
      "execution_count": 35,
      "outputs": [
        {
          "output_type": "display_data",
          "data": {
            "image/png": "[encoded data removed]",
            "text/plain": [
              "<Figure size 432x288 with 1 Axes>"
            ]
          },
          "metadata": {
            "tags": [],
            "needs_background": "light"
          }
        }
      ]
    },
    {
      "cell_type": "code",
      "metadata": {
        "id": "5PgZeNi-iI72",
        "outputId": "a8d8f085-c4c6-4274-e1ef-78e396dcc506",
        "colab": {
          "base_uri": "https://localhost:8080/"
        }
      },
      "source": [
        "#TBD Determine accuracy score for concrete predictions\n",
        "from sklearn.metrics import f1_score\n",
        "\n",
        "score = f1_score(Y_test, Y_predict, average='binary')\n",
        "print('F-Measure: %.3f' % score)"
      ],
      "execution_count": 32,
      "outputs": [
        {
          "output_type": "stream",
          "text": [
            "F-Measure: 0.830\n"
          ],
          "name": "stdout"
        }
      ]
    }
  ]
}