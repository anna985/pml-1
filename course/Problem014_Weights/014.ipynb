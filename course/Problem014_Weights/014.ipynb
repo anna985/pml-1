{
  "nbformat": 4,
  "nbformat_minor": 0,
  "metadata": {
    "kernelspec": {
      "name": "Python 3.8.2 64-bit ('pml')",
      "display_name": "Python 3.8.2 64-bit ('pml')",
      "metadata": {
        "interpreter": {
          "hash": "a4c9474aacc61cf72d0f1c29f4a339e5d6b2171c287541cfd684cf058783219b"
        }
      }
    },
    "language_info": {
      "codemirror_mode": {
        "name": "ipython",
        "version": 3
      },
      "file_extension": ".py",
      "mimetype": "text/x-python",
      "name": "python",
      "nbconvert_exporter": "python",
      "pygments_lexer": "ipython3",
      "version": "3.8.2-final"
    },
    "colab": {
      "name": "Copy of 014.ipynb",
      "provenance": [],
      "include_colab_link": true
    }
  },
  "cells": [
    {
      "cell_type": "markdown",
      "metadata": {
        "id": "view-in-github",
        "colab_type": "text"
      },
      "source": [
        "<a href=\"https://colab.research.google.com/github/anna985/pml-1/blob/master/course/Problem014_Weights/014.ipynb\" target=\"_parent\"><img src=\"https://colab.research.google.com/assets/colab-badge.svg\" alt=\"Open In Colab\"/></a>"
      ]
    },
    {
      "cell_type": "markdown",
      "metadata": {
        "scrolled": true,
        "id": "CGcMywryiqYm"
      },
      "source": [
        "## Weights or Coeffecients or Strength of Connection etc"
      ]
    },
    {
      "cell_type": "code",
      "metadata": {
        "id": "C6HZ8y3liqYn",
        "outputId": "b006c8a1-5632-480c-f202-a638864d807e",
        "colab": {
          "base_uri": "https://localhost:8080/"
        }
      },
      "source": [
        "#TBD Load boston dataset\n",
        "from sklearn.datasets import load_boston\n",
        "X, Y = load_boston(return_X_y=True)\n",
        "\n",
        "#TBD Split into Train and Test dataset. random 90% 10%\n",
        "from sklearn.model_selection import train_test_split\n",
        "X_train, X_test, Y_train, Y_test = train_test_split(X, Y, train_size=0.9, test_size=0.1, random_state=0)\n",
        "\n",
        "#TBD Fit linear model on Training data\n",
        "from sklearn import linear_model\n",
        "import numpy as np\n",
        "model = linear_model.LinearRegression()\n",
        "reg = model.fit(X_train, Y_train)\n",
        "\n",
        "#TBD From the model get the weights\n",
        "weights = model.coef_\n",
        "print(weights)\n",
        "print('Coefficients: \\n', reg.coef_)\n",
        "\n",
        "weight = model.coef_[0]\n",
        "print('Weight: \\n', weight)"
      ],
      "execution_count": 45,
      "outputs": [
        {
          "output_type": "stream",
          "text": [
            "[-1.14644795e-01  3.62004052e-02  6.53873262e-03  2.19924733e+00\n",
            " -1.59109961e+01  4.26798929e+00 -1.01602089e-02 -1.34698690e+00\n",
            "  2.71154731e-01 -1.16326045e-02 -1.01714981e+00  9.81293722e-03\n",
            " -4.43797298e-01]\n",
            "Coefficients: \n",
            " [-1.14644795e-01  3.62004052e-02  6.53873262e-03  2.19924733e+00\n",
            " -1.59109961e+01  4.26798929e+00 -1.01602089e-02 -1.34698690e+00\n",
            "  2.71154731e-01 -1.16326045e-02 -1.01714981e+00  9.81293722e-03\n",
            " -4.43797298e-01]\n",
            "Weight: \n",
            " -0.11464479452672563\n"
          ],
          "name": "stdout"
        }
      ]
    },
    {
      "cell_type": "markdown",
      "metadata": {
        "id": "vKUZIfGDiqYr"
      },
      "source": [
        "## A special weight:  Bias or Intercept"
      ]
    },
    {
      "cell_type": "code",
      "metadata": {
        "id": "Fviop6qriqYr",
        "outputId": "0c81b65b-419c-431a-fc9d-fdb2f192193e",
        "colab": {
          "base_uri": "https://localhost:8080/"
        }
      },
      "source": [
        "# TBD: From above model get the Bias term\n",
        "bias = model.intercept_\n",
        "print(bias)"
      ],
      "execution_count": 46,
      "outputs": [
        {
          "output_type": "stream",
          "text": [
            "33.17002936336296\n"
          ],
          "name": "stdout"
        }
      ]
    },
    {
      "cell_type": "code",
      "metadata": {
        "id": "ue0jt8Udoc18",
        "outputId": "30bce1a6-6793-4fd0-935e-ae2d508647f5",
        "colab": {
          "base_uri": "https://localhost:8080/"
        }
      },
      "source": [
        "print(f\"Actual values: {Y_test}\")"
      ],
      "execution_count": 54,
      "outputs": [
        {
          "output_type": "stream",
          "text": [
            "Actual values: [22.6 50.  23.   8.3 21.2 19.9 20.6 18.7 16.1 18.6  8.8 17.2 14.9 10.5\n",
            " 50.  29.  23.  33.3 29.4 21.  23.8 19.1 20.4 29.1 19.3 23.1 19.6 19.4\n",
            " 38.7 18.7 14.6 20.  20.5 20.1 23.6 16.8  5.6 50.  14.5 13.3 23.9 20.\n",
            " 19.8 13.8 16.5 21.6 20.3 17.  11.8 27.5 15.6]\n"
          ],
          "name": "stdout"
        }
      ]
    },
    {
      "cell_type": "code",
      "metadata": {
        "id": "zAgKCZRoiqYv",
        "outputId": "4bc4317a-3826-4a95-91ed-5fb8bc5da387",
        "colab": {
          "base_uri": "https://localhost:8080/"
        }
      },
      "source": [
        "# TBD: Using weights and bias to simulate above model predict for training data Y_hat1\n",
        "def predict(x,w,b):\n",
        "  return x * w + b\n",
        "\n",
        "Y_hat = []\n",
        "\n",
        "for i in range((Y_test.size)):\n",
        "  y = np.array(predict(X_test[i,0],weight,bias))\n",
        "  Y_hat.append(y)\n",
        "  Y_hat1 = np.array(Y_hat)\n",
        "\n",
        "#Y_hat1.size\n",
        "print(f\"Predicted values: {Y_hat1}\")"
      ],
      "execution_count": 81,
      "outputs": [
        {
          "output_type": "stream",
          "text": [
            "Predicted values: [33.16232065 32.11159423 33.1569312  30.32664356 33.16355652 33.09810237\n",
            " 32.61564497 33.16297756 32.8678853  33.14380322 24.73972758 31.55918975\n",
            " 32.44913487 30.37340717 32.95979718 33.16365397 32.50233693 33.16543096\n",
            " 33.16238943 33.16084173 33.1508149  32.90475277 33.15499141 33.160883\n",
            " 33.15037695 31.61977952 33.07234741 32.92363706 33.15617683 33.14456446\n",
            " 31.99686918 32.39031063 33.14749364 33.15786326 33.15950726 32.68595433\n",
            " 30.29862438 32.22223219 32.19645086 32.43709143 33.16055397 33.14843487\n",
            " 33.1648199  32.24647497 33.16716554 33.16689841 33.15386101 33.00793882\n",
            " 32.85134664 33.15298627 32.76475887]\n"
          ],
          "name": "stdout"
        }
      ]
    },
    {
      "cell_type": "code",
      "metadata": {
        "id": "kn3E0-06QFK9",
        "outputId": "06ea70bb-92d9-4b3b-c9ab-83e4a564357a",
        "colab": {
          "base_uri": "https://localhost:8080/"
        }
      },
      "source": [
        "# TBD: Using model.predict predict for training data Y_hat2\n",
        "Y_hat2 = model.predict(X_test)\n",
        "#Y_hat2.size\n",
        "print(f\"Predicted values: {Y_hat2}\")"
      ],
      "execution_count": 73,
      "outputs": [
        {
          "output_type": "stream",
          "text": [
            "Predicted values: [25.01207787 23.70673643 29.0945173  12.31397471 21.61347812 19.13354868\n",
            " 20.81580439 21.37329011 18.38618961 19.34579424  5.25912036 16.65767507\n",
            " 17.52569896  5.77456709 39.90010353 32.4334732  22.86945378 36.53576421\n",
            " 30.95591345 23.0906515  24.91430476 24.08929781 20.54441681 30.23258421\n",
            " 22.3642316   8.72252642 17.58062573 17.65060042 36.10230383 20.91252213\n",
            " 18.77553493 18.18471313 19.85999794 23.90528147 28.93272041 19.23050276\n",
            " 12.01526727 24.24058855 17.68050031 16.09113614 26.38479882 21.06267915\n",
            " 22.32605647 15.61632473 22.9796011  25.12377027 20.21458841 22.45911017\n",
            "  9.8519346  24.41614999 20.21336125]\n"
          ],
          "name": "stdout"
        }
      ]
    },
    {
      "cell_type": "code",
      "metadata": {
        "id": "73q79TJkQfiG",
        "outputId": "3e174174-e4b8-4c84-d92d-36f0e0731c92",
        "colab": {
          "base_uri": "https://localhost:8080/"
        }
      },
      "source": [
        "# TBD: Mean squared error for Y_hat1, Y_hat2 (They must be very close, nearly equal)\n",
        "from sklearn.metrics import mean_squared_error\n",
        "\n",
        "print('Mean squared error: %.2f'\n",
        "      % mean_squared_error(Y_hat1, Y_hat2))"
      ],
      "execution_count": 82,
      "outputs": [
        {
          "output_type": "stream",
          "text": [
            "Mean squared error: 162.12\n"
          ],
          "name": "stdout"
        }
      ]
    },
    {
      "cell_type": "code",
      "metadata": {
        "id": "1eaVLOjYS9CS",
        "outputId": "6d8a421e-6c78-425a-c204-cc996f25db7a",
        "colab": {
          "base_uri": "https://localhost:8080/",
          "height": 286
        }
      },
      "source": [
        "# Plot outputs\n",
        "import matplotlib.pyplot as plt\n",
        "\n",
        "print(X_train.size)\n",
        "print(Y_train.size)\n",
        "\n",
        "#plt.scatter(X_train, Y_train,  color='black', s=200)\n",
        "plt.plot(Y_hat1, Y_hat2, color='blue', linewidth=3)\n",
        "\n",
        "plt.xticks(())\n",
        "plt.yticks(())\n",
        "\n",
        "plt.show()"
      ],
      "execution_count": 89,
      "outputs": [
        {
          "output_type": "stream",
          "text": [
            "5915\n",
            "455\n"
          ],
          "name": "stdout"
        },
        {
          "output_type": "display_data",
          "data": {
            "image/png": "[encoded data removed]",
            "text/plain": [
              "<Figure size 432x288 with 1 Axes>"
            ]
          },
          "metadata": {
            "tags": []
          }
        }
      ]
    }
  ]
}