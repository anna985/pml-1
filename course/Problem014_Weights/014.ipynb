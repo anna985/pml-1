{
  "nbformat": 4,
  "nbformat_minor": 0,
  "metadata": {
    "kernelspec": {
      "name": "Python 3.8.2 64-bit ('pml')",
      "display_name": "Python 3.8.2 64-bit ('pml')",
      "metadata": {
        "interpreter": {
          "hash": "a4c9474aacc61cf72d0f1c29f4a339e5d6b2171c287541cfd684cf058783219b"
        }
      }
    },
    "language_info": {
      "codemirror_mode": {
        "name": "ipython",
        "version": 3
      },
      "file_extension": ".py",
      "mimetype": "text/x-python",
      "name": "python",
      "nbconvert_exporter": "python",
      "pygments_lexer": "ipython3",
      "version": "3.8.2-final"
    },
    "colab": {
      "name": "Copy of 014.ipynb",
      "provenance": [],
      "include_colab_link": true
    }
  },
  "cells": [
    {
      "cell_type": "markdown",
      "metadata": {
        "id": "view-in-github",
        "colab_type": "text"
      },
      "source": [
        "<a href=\"https://colab.research.google.com/github/anna985/pml-1/blob/master/course/Problem014_Weights/014.ipynb\" target=\"_parent\"><img src=\"https://colab.research.google.com/assets/colab-badge.svg\" alt=\"Open In Colab\"/></a>"
      ]
    },
    {
      "cell_type": "markdown",
      "metadata": {
        "scrolled": true,
        "id": "CGcMywryiqYm"
      },
      "source": [
        "## Weights or Coeffecients or Strength of Connection etc"
      ]
    },
    {
      "cell_type": "code",
      "metadata": {
        "id": "C6HZ8y3liqYn",
        "outputId": "dfb475f9-eae1-494a-c9b9-f09819793f0b",
        "colab": {
          "base_uri": "https://localhost:8080/"
        }
      },
      "source": [
        "#TBD Load boston dataset\n",
        "from sklearn.datasets import load_boston\n",
        "X, Y = load_boston(return_X_y=True)\n",
        "\n",
        "#TBD Split into Train and Test dataset. random 90% 10%\n",
        "from sklearn.model_selection import train_test_split\n",
        "X_train, X_test, Y_train, Y_test = train_test_split(X, Y, train_size=0.9, test_size=0.1, random_state=0)\n",
        "\n",
        "#TBD Fit linear model on Training data\n",
        "from sklearn import linear_model\n",
        "import numpy as np\n",
        "model = linear_model.LinearRegression()\n",
        "reg = model.fit(X_train, Y_train)\n",
        "\n",
        "#TBD From the model get the weights\n",
        "print(model.coef_)"
      ],
      "execution_count": 3,
      "outputs": [
        {
          "output_type": "stream",
          "text": [
            "[-1.14644795e-01  3.62004052e-02  6.53873262e-03  2.19924733e+00\n",
            " -1.59109961e+01  4.26798929e+00 -1.01602089e-02 -1.34698690e+00\n",
            "  2.71154731e-01 -1.16326045e-02 -1.01714981e+00  9.81293722e-03\n",
            " -4.43797298e-01]\n"
          ],
          "name": "stdout"
        }
      ]
    },
    {
      "cell_type": "markdown",
      "metadata": {
        "id": "vKUZIfGDiqYr"
      },
      "source": [
        "## A special weight:  Bias or Intercept"
      ]
    },
    {
      "cell_type": "code",
      "metadata": {
        "id": "Fviop6qriqYr",
        "outputId": "2cf223cf-574a-4e12-d37a-830ae687a745",
        "colab": {
          "base_uri": "https://localhost:8080/"
        }
      },
      "source": [
        "# TBD: From above model get the Bias term\n",
        "print(model.intercept_)"
      ],
      "execution_count": 4,
      "outputs": [
        {
          "output_type": "stream",
          "text": [
            "33.17002936336296\n"
          ],
          "name": "stdout"
        }
      ]
    },
    {
      "cell_type": "code",
      "metadata": {
        "id": "zAgKCZRoiqYv"
      },
      "source": [
        "# TBD: Using weights and bias to simulate above model predict for training data Y_hat1\n",
        "# TBD: Using model.predict predict for training data Y_hat2\n",
        "# TBD: Mean squared error for Y_hat1, Y_hat2 (They must be very close, nearly equal)\n"
      ],
      "execution_count": null,
      "outputs": []
    }
  ]
}