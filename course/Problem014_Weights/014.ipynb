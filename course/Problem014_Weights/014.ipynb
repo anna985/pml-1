{
  "nbformat": 4,
  "nbformat_minor": 0,
  "metadata": {
    "kernelspec": {
      "name": "Python 3.8.2 64-bit ('pml')",
      "display_name": "Python 3.8.2 64-bit ('pml')",
      "metadata": {
        "interpreter": {
          "hash": "a4c9474aacc61cf72d0f1c29f4a339e5d6b2171c287541cfd684cf058783219b"
        }
      }
    },
    "language_info": {
      "codemirror_mode": {
        "name": "ipython",
        "version": 3
      },
      "file_extension": ".py",
      "mimetype": "text/x-python",
      "name": "python",
      "nbconvert_exporter": "python",
      "pygments_lexer": "ipython3",
      "version": "3.8.2-final"
    },
    "colab": {
      "name": "Copy of 014.ipynb",
      "provenance": [],
      "include_colab_link": true
    }
  },
  "cells": [
    {
      "cell_type": "markdown",
      "metadata": {
        "id": "view-in-github",
        "colab_type": "text"
      },
      "source": [
        "<a href=\"https://colab.research.google.com/github/anna985/pml-1/blob/master/course/Problem014_Weights/014.ipynb\" target=\"_parent\"><img src=\"https://colab.research.google.com/assets/colab-badge.svg\" alt=\"Open In Colab\"/></a>"
      ]
    },
    {
      "cell_type": "markdown",
      "metadata": {
        "scrolled": true,
        "id": "CGcMywryiqYm"
      },
      "source": [
        "## Weights or Coeffecients or Strength of Connection etc"
      ]
    },
    {
      "cell_type": "code",
      "metadata": {
        "id": "C6HZ8y3liqYn",
        "outputId": "5dfe7a58-4dc0-454e-9aa0-6182a5ea9afc",
        "colab": {
          "base_uri": "https://localhost:8080/"
        }
      },
      "source": [
        "#TBD Load boston dataset\n",
        "from sklearn.datasets import load_boston\n",
        "X, Y = load_boston(return_X_y=True)\n",
        "\n",
        "#TBD Split into Train and Test dataset. random 90% 10%\n",
        "from sklearn.model_selection import train_test_split\n",
        "X_train, X_test, Y_train, Y_test = train_test_split(X, Y, train_size=0.9, test_size=0.1, random_state=0)\n",
        "\n",
        "#TBD Fit linear model on Training data\n",
        "from sklearn import linear_model\n",
        "import numpy as np\n",
        "model = linear_model.LinearRegression()\n",
        "reg = model.fit(X_train, Y_train)\n",
        "\n",
        "#TBD From the model get the weights\n",
        "weights = model.coef_\n",
        "print(weights)\n",
        "print('Coefficients: \\n', reg.coef_)"
      ],
      "execution_count": 6,
      "outputs": [
        {
          "output_type": "stream",
          "text": [
            "[-1.14644795e-01  3.62004052e-02  6.53873262e-03  2.19924733e+00\n",
            " -1.59109961e+01  4.26798929e+00 -1.01602089e-02 -1.34698690e+00\n",
            "  2.71154731e-01 -1.16326045e-02 -1.01714981e+00  9.81293722e-03\n",
            " -4.43797298e-01]\n",
            "Coefficients: \n",
            " [-1.14644795e-01  3.62004052e-02  6.53873262e-03  2.19924733e+00\n",
            " -1.59109961e+01  4.26798929e+00 -1.01602089e-02 -1.34698690e+00\n",
            "  2.71154731e-01 -1.16326045e-02 -1.01714981e+00  9.81293722e-03\n",
            " -4.43797298e-01]\n"
          ],
          "name": "stdout"
        }
      ]
    },
    {
      "cell_type": "markdown",
      "metadata": {
        "id": "vKUZIfGDiqYr"
      },
      "source": [
        "## A special weight:  Bias or Intercept"
      ]
    },
    {
      "cell_type": "code",
      "metadata": {
        "id": "Fviop6qriqYr",
        "outputId": "c80134e0-99c1-47fd-fa55-22dabbee6afb",
        "colab": {
          "base_uri": "https://localhost:8080/"
        }
      },
      "source": [
        "# TBD: From above model get the Bias term\n",
        "print(model.intercept_)"
      ],
      "execution_count": 2,
      "outputs": [
        {
          "output_type": "stream",
          "text": [
            "33.17002936336296\n"
          ],
          "name": "stdout"
        }
      ]
    },
    {
      "cell_type": "code",
      "metadata": {
        "id": "zAgKCZRoiqYv",
        "outputId": "18571fd6-b543-4a6c-ba4f-364c343179f7",
        "colab": {
          "base_uri": "https://localhost:8080/"
        }
      },
      "source": [
        "# TBD: Using weights and bias to simulate above model predict for training data Y_hat1\n",
        "Y_hat1 = reg.predict(X_test)\n",
        "Y_hat1.size"
      ],
      "execution_count": 25,
      "outputs": [
        {
          "output_type": "execute_result",
          "data": {
            "text/plain": [
              "51"
            ]
          },
          "metadata": {
            "tags": []
          },
          "execution_count": 25
        }
      ]
    },
    {
      "cell_type": "code",
      "metadata": {
        "id": "kn3E0-06QFK9",
        "outputId": "51394fb4-ba90-4f7f-c64b-23522bca4e7b",
        "colab": {
          "base_uri": "https://localhost:8080/"
        }
      },
      "source": [
        "# TBD: Using model.predict predict for training data Y_hat2\n",
        "Y_hat2 = model.predict(X_test)\n",
        "Y_hat2.size"
      ],
      "execution_count": 24,
      "outputs": [
        {
          "output_type": "execute_result",
          "data": {
            "text/plain": [
              "51"
            ]
          },
          "metadata": {
            "tags": []
          },
          "execution_count": 24
        }
      ]
    },
    {
      "cell_type": "code",
      "metadata": {
        "id": "73q79TJkQfiG",
        "outputId": "fa74ab56-6e0e-4e65-8e78-2776d5f70ddd",
        "colab": {
          "base_uri": "https://localhost:8080/"
        }
      },
      "source": [
        "# TBD: Mean squared error for Y_hat1, Y_hat2 (They must be very close, nearly equal)\n",
        "from sklearn.metrics import mean_squared_error\n",
        "\n",
        "print('Mean squared error: %.2f'\n",
        "      % mean_squared_error(Y_hat1, Y_hat2))"
      ],
      "execution_count": 18,
      "outputs": [
        {
          "output_type": "stream",
          "text": [
            "Mean squared error: 0.00\n"
          ],
          "name": "stdout"
        }
      ]
    },
    {
      "cell_type": "code",
      "metadata": {
        "id": "1eaVLOjYS9CS",
        "outputId": "b70a316d-462d-47f1-b9c2-8de1795c4adb",
        "colab": {
          "base_uri": "https://localhost:8080/",
          "height": 286
        }
      },
      "source": [
        "# Plot outputs\n",
        "import matplotlib.pyplot as plt\n",
        "\n",
        "print(X_test.size)\n",
        "print(Y_test.size)\n",
        "\n",
        "#plt.scatter(X_test, Y_test,  color='black')\n",
        "plt.plot(X_test, Y_hat2, color='blue', linewidth=3)\n",
        "\n",
        "plt.xticks(())\n",
        "plt.yticks(())\n",
        "\n",
        "plt.show()"
      ],
      "execution_count": 31,
      "outputs": [
        {
          "output_type": "stream",
          "text": [
            "663\n",
            "51\n"
          ],
          "name": "stdout"
        },
        {
          "output_type": "display_data",
          "data": {
            "image/png": "[encoded data removed]",
            "text/plain": [
              "<Figure size 432x288 with 1 Axes>"
            ]
          },
          "metadata": {
            "tags": []
          }
        }
      ]
    }
  ]
}