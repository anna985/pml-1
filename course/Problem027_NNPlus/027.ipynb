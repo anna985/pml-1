{
  "nbformat": 4,
  "nbformat_minor": 0,
  "metadata": {
    "kernelspec": {
      "display_name": "Python 3",
      "language": "python",
      "name": "python3"
    },
    "language_info": {
      "codemirror_mode": {
        "name": "ipython",
        "version": 3
      },
      "file_extension": ".py",
      "mimetype": "text/x-python",
      "name": "python",
      "nbconvert_exporter": "python",
      "pygments_lexer": "ipython3",
      "version": "3.8.2-final"
    },
    "colab": {
      "name": "Copy of 027.ipynb",
      "provenance": [],
      "include_colab_link": true
    }
  },
  "cells": [
    {
      "cell_type": "markdown",
      "metadata": {
        "id": "view-in-github",
        "colab_type": "text"
      },
      "source": [
        "<a href=\"https://colab.research.google.com/github/anna985/pml-1/blob/master/course/Problem027_NNPlus/027.ipynb\" target=\"_parent\"><img src=\"https://colab.research.google.com/assets/colab-badge.svg\" alt=\"Open In Colab\"/></a>"
      ]
    },
    {
      "cell_type": "markdown",
      "metadata": {
        "id": "aPo1anqCjtRj"
      },
      "source": [
        "## Convolutional Neural Networks (CNN)"
      ]
    },
    {
      "cell_type": "markdown",
      "metadata": {
        "id": "Ds8CoV7_jtRk"
      },
      "source": [
        "## TBD Doing better on Fashion MNIST dataset using CNN"
      ]
    },
    {
      "cell_type": "code",
      "metadata": {
        "colab": {
          "base_uri": "https://localhost:8080/"
        },
        "id": "IBoB1uqNjtRk",
        "outputId": "4f3388bc-86b1-4e7a-eae8-46f6db93207d"
      },
      "source": [
        "from keras.datasets import fashion_mnist\n",
        "(X_train, y_train), (X_test, y_test) = fashion_mnist.load_data()\n",
        "\n",
        "# TBD: Use following architecture to classify fashion MNIST dataset\n",
        "# activation function is relu for all layers except last where its softmax\n",
        "\n",
        "# 1 Convolutional Layer (filters = 64, kernel_size = 4 )\n",
        "# 2 Convolutional Layer (filters = 64, kernel_size = 4)\n",
        "# 3 Max Pooling Layer (size 2)\n",
        "# 4 Convolutional Layer (filters = 128, kernel_size = 3)\n",
        "# 5 Convolutional Layer (filters = 128, kernel_size = 3)\n",
        "# 6 Max Pooling Layer (size 2)\n",
        "# 7 Dense Layer (64 neurons)\n",
        "# 8 Dense Layer (10 neurons, activation = softmax)\n"
      ],
      "execution_count": null,
      "outputs": [
        {
          "output_type": "stream",
          "text": [
            "Downloading data from https://storage.googleapis.com/tensorflow/tf-keras-datasets/train-labels-idx1-ubyte.gz\n",
            "32768/29515 [=================================] - 0s 0us/step\n",
            "Downloading data from https://storage.googleapis.com/tensorflow/tf-keras-datasets/train-images-idx3-ubyte.gz\n",
            "26427392/26421880 [==============================] - 0s 0us/step\n",
            "Downloading data from https://storage.googleapis.com/tensorflow/tf-keras-datasets/t10k-labels-idx1-ubyte.gz\n",
            "8192/5148 [===============================================] - 0s 0us/step\n",
            "Downloading data from https://storage.googleapis.com/tensorflow/tf-keras-datasets/t10k-images-idx3-ubyte.gz\n",
            "4423680/4422102 [==============================] - 0s 0us/step\n"
          ],
          "name": "stdout"
        }
      ]
    },
    {
      "cell_type": "code",
      "metadata": {
        "id": "fPuJdRfJxXWi"
      },
      "source": [
        "IMG_ROWS = 28\n",
        "IMG_COLS = 28\n",
        "NUM_CLASSES = 10\n",
        "TEST_SIZE = 0.2\n",
        "RANDOM_STATE = 2018\n",
        "#Model\n",
        "NO_EPOCHS = 50\n",
        "BATCH_SIZE = 128"
      ],
      "execution_count": null,
      "outputs": []
    },
    {
      "cell_type": "code",
      "metadata": {
        "id": "aePkUtiQvgo5",
        "colab": {
          "base_uri": "https://localhost:8080/"
        },
        "outputId": "4e27b405-a311-414a-a731-97c9d1be27a3"
      },
      "source": [
        "from tensorflow.python import keras\n",
        "from tensorflow.python.keras.models import Sequential\n",
        "from tensorflow.python.keras.layers import Dense, Flatten, Conv2D, Dropout, MaxPooling2D\n",
        "\n",
        "# Model\n",
        "model = Sequential()\n",
        "\n",
        "# first CONV => RELU => CONV => RELU => POOL layer set\n",
        "model.add(Conv2D(64, kernel_size=(4, 4),\n",
        "                 activation='relu',\n",
        "                 kernel_initializer='he_normal',\n",
        "                 input_shape=(IMG_ROWS, IMG_COLS, 1)))\n",
        "model.add(Conv2D(64, kernel_size=(4, 4),\n",
        "                 activation='relu'))\n",
        "model.add(MaxPooling2D(pool_size=(2, 2)))\n",
        "\n",
        "# second CONV => RELU => CONV => RELU => POOL layer set\n",
        "model.add(Conv2D(128, (3, 3), activation='relu'))\n",
        "model.add(Conv2D(128, (3, 3), activation='relu'))\n",
        "model.add(MaxPooling2D((2, 2)))\n",
        "\n",
        "model.add(Dense(64, activation='relu'))\n",
        "model.add(Dense(NUM_CLASSES, activation='softmax'))\n",
        "\n",
        "model.compile(loss=keras.losses.categorical_crossentropy,\n",
        "              optimizer='adam',\n",
        "              metrics=['accuracy'])\n",
        "\n",
        "model.summary()"
      ],
      "execution_count": null,
      "outputs": [
        {
          "output_type": "stream",
          "text": [
            "Model: \"sequential_13\"\n",
            "_________________________________________________________________\n",
            "Layer (type)                 Output Shape              Param #   \n",
            "=================================================================\n",
            "conv2d_31 (Conv2D)           (None, 25, 25, 64)        1088      \n",
            "_________________________________________________________________\n",
            "conv2d_32 (Conv2D)           (None, 22, 22, 64)        65600     \n",
            "_________________________________________________________________\n",
            "max_pooling2d_12 (MaxPooling (None, 11, 11, 64)        0         \n",
            "_________________________________________________________________\n",
            "conv2d_33 (Conv2D)           (None, 9, 9, 128)         73856     \n",
            "_________________________________________________________________\n",
            "conv2d_34 (Conv2D)           (None, 7, 7, 128)         147584    \n",
            "_________________________________________________________________\n",
            "max_pooling2d_13 (MaxPooling (None, 3, 3, 128)         0         \n",
            "_________________________________________________________________\n",
            "dense_6 (Dense)              (None, 3, 3, 64)          8256      \n",
            "_________________________________________________________________\n",
            "dense_7 (Dense)              (None, 3, 3, 10)          650       \n",
            "=================================================================\n",
            "Total params: 297,034\n",
            "Trainable params: 297,034\n",
            "Non-trainable params: 0\n",
            "_________________________________________________________________\n"
          ],
          "name": "stdout"
        }
      ]
    },
    {
      "cell_type": "code",
      "metadata": {
        "id": "yjtMz5vd3T0G",
        "colab": {
          "base_uri": "https://localhost:8080/",
          "height": 1000
        },
        "outputId": "cc3f1995-578b-4699-c771-544e00f42275"
      },
      "source": [
        "from IPython.display import SVG\n",
        "from keras.utils.vis_utils import model_to_dot\n",
        "from keras.utils import plot_model\n",
        "\n",
        "plot_model(model, to_file='model.png')\n",
        "SVG(model_to_dot(model).create(prog='dot', format='svg'))"
      ],
      "execution_count": null,
      "outputs": [
        {
          "output_type": "execute_result",
          "data": {
            "text/plain": [
              "<IPython.core.display.SVG object>"
            ],
            "image/svg+xml": "<svg height=\"839pt\" viewBox=\"0.00 0.00 237.00 629.00\" width=\"316pt\" xmlns=\"http://www.w3.org/2000/svg\" xmlns:xlink=\"http://www.w3.org/1999/xlink\">\n<g class=\"graph\" id=\"graph0\" transform=\"scale(1.3333 1.3333) rotate(0) translate(4 625)\">\n<title>G</title>\n<polygon fill=\"#ffffff\" points=\"-4,4 -4,-625 233,-625 233,4 -4,4\" stroke=\"transparent\"/>\n<!-- 140420468910064 -->\n<g class=\"node\" id=\"node1\">\n<title>140420468910064</title>\n<polygon fill=\"none\" points=\"19,-584.5 19,-620.5 210,-620.5 210,-584.5 19,-584.5\" stroke=\"#000000\"/>\n<text fill=\"#000000\" font-family=\"Times,serif\" font-size=\"14.00\" text-anchor=\"middle\" x=\"114.5\" y=\"-598.8\">conv2d_31_input: InputLayer</text>\n</g>\n<!-- 140420351527960 -->\n<g class=\"node\" id=\"node2\">\n<title>140420351527960</title>\n<polygon fill=\"none\" points=\"44.5,-511.5 44.5,-547.5 184.5,-547.5 184.5,-511.5 44.5,-511.5\" stroke=\"#000000\"/>\n<text fill=\"#000000\" font-family=\"Times,serif\" font-size=\"14.00\" text-anchor=\"middle\" x=\"114.5\" y=\"-525.8\">conv2d_31: Conv2D</text>\n</g>\n<!-- 140420468910064&#45;&gt;140420351527960 -->\n<g class=\"edge\" id=\"edge1\">\n<title>140420468910064-&gt;140420351527960</title>\n<path d=\"M114.5,-584.4551C114.5,-576.3828 114.5,-566.6764 114.5,-557.6817\" fill=\"none\" stroke=\"#000000\"/>\n<polygon fill=\"#000000\" points=\"118.0001,-557.5903 114.5,-547.5904 111.0001,-557.5904 118.0001,-557.5903\" stroke=\"#000000\"/>\n</g>\n<!-- 140420468909392 -->\n<g class=\"node\" id=\"node3\">\n<title>140420468909392</title>\n<polygon fill=\"none\" points=\"44.5,-438.5 44.5,-474.5 184.5,-474.5 184.5,-438.5 44.5,-438.5\" stroke=\"#000000\"/>\n<text fill=\"#000000\" font-family=\"Times,serif\" font-size=\"14.00\" text-anchor=\"middle\" x=\"114.5\" y=\"-452.8\">conv2d_32: Conv2D</text>\n</g>\n<!-- 140420351527960&#45;&gt;140420468909392 -->\n<g class=\"edge\" id=\"edge2\">\n<title>140420351527960-&gt;140420468909392</title>\n<path d=\"M114.5,-511.4551C114.5,-503.3828 114.5,-493.6764 114.5,-484.6817\" fill=\"none\" stroke=\"#000000\"/>\n<polygon fill=\"#000000\" points=\"118.0001,-484.5903 114.5,-474.5904 111.0001,-484.5904 118.0001,-484.5903\" stroke=\"#000000\"/>\n</g>\n<!-- 140420182111288 -->\n<g class=\"node\" id=\"node4\">\n<title>140420182111288</title>\n<polygon fill=\"none\" points=\"0,-365.5 0,-401.5 229,-401.5 229,-365.5 0,-365.5\" stroke=\"#000000\"/>\n<text fill=\"#000000\" font-family=\"Times,serif\" font-size=\"14.00\" text-anchor=\"middle\" x=\"114.5\" y=\"-379.8\">max_pooling2d_12: MaxPooling2D</text>\n</g>\n<!-- 140420468909392&#45;&gt;140420182111288 -->\n<g class=\"edge\" id=\"edge3\">\n<title>140420468909392-&gt;140420182111288</title>\n<path d=\"M114.5,-438.4551C114.5,-430.3828 114.5,-420.6764 114.5,-411.6817\" fill=\"none\" stroke=\"#000000\"/>\n<polygon fill=\"#000000\" points=\"118.0001,-411.5903 114.5,-401.5904 111.0001,-411.5904 118.0001,-411.5903\" stroke=\"#000000\"/>\n</g>\n<!-- 140420353988424 -->\n<g class=\"node\" id=\"node5\">\n<title>140420353988424</title>\n<polygon fill=\"none\" points=\"44.5,-292.5 44.5,-328.5 184.5,-328.5 184.5,-292.5 44.5,-292.5\" stroke=\"#000000\"/>\n<text fill=\"#000000\" font-family=\"Times,serif\" font-size=\"14.00\" text-anchor=\"middle\" x=\"114.5\" y=\"-306.8\">conv2d_33: Conv2D</text>\n</g>\n<!-- 140420182111288&#45;&gt;140420353988424 -->\n<g class=\"edge\" id=\"edge4\">\n<title>140420182111288-&gt;140420353988424</title>\n<path d=\"M114.5,-365.4551C114.5,-357.3828 114.5,-347.6764 114.5,-338.6817\" fill=\"none\" stroke=\"#000000\"/>\n<polygon fill=\"#000000\" points=\"118.0001,-338.5903 114.5,-328.5904 111.0001,-338.5904 118.0001,-338.5903\" stroke=\"#000000\"/>\n</g>\n<!-- 140420468909504 -->\n<g class=\"node\" id=\"node6\">\n<title>140420468909504</title>\n<polygon fill=\"none\" points=\"44.5,-219.5 44.5,-255.5 184.5,-255.5 184.5,-219.5 44.5,-219.5\" stroke=\"#000000\"/>\n<text fill=\"#000000\" font-family=\"Times,serif\" font-size=\"14.00\" text-anchor=\"middle\" x=\"114.5\" y=\"-233.8\">conv2d_34: Conv2D</text>\n</g>\n<!-- 140420353988424&#45;&gt;140420468909504 -->\n<g class=\"edge\" id=\"edge5\">\n<title>140420353988424-&gt;140420468909504</title>\n<path d=\"M114.5,-292.4551C114.5,-284.3828 114.5,-274.6764 114.5,-265.6817\" fill=\"none\" stroke=\"#000000\"/>\n<polygon fill=\"#000000\" points=\"118.0001,-265.5903 114.5,-255.5904 111.0001,-265.5904 118.0001,-265.5903\" stroke=\"#000000\"/>\n</g>\n<!-- 140420183043320 -->\n<g class=\"node\" id=\"node7\">\n<title>140420183043320</title>\n<polygon fill=\"none\" points=\"0,-146.5 0,-182.5 229,-182.5 229,-146.5 0,-146.5\" stroke=\"#000000\"/>\n<text fill=\"#000000\" font-family=\"Times,serif\" font-size=\"14.00\" text-anchor=\"middle\" x=\"114.5\" y=\"-160.8\">max_pooling2d_13: MaxPooling2D</text>\n</g>\n<!-- 140420468909504&#45;&gt;140420183043320 -->\n<g class=\"edge\" id=\"edge6\">\n<title>140420468909504-&gt;140420183043320</title>\n<path d=\"M114.5,-219.4551C114.5,-211.3828 114.5,-201.6764 114.5,-192.6817\" fill=\"none\" stroke=\"#000000\"/>\n<polygon fill=\"#000000\" points=\"118.0001,-192.5903 114.5,-182.5904 111.0001,-192.5904 118.0001,-192.5903\" stroke=\"#000000\"/>\n</g>\n<!-- 140420183043040 -->\n<g class=\"node\" id=\"node8\">\n<title>140420183043040</title>\n<polygon fill=\"none\" points=\"61,-73.5 61,-109.5 168,-109.5 168,-73.5 61,-73.5\" stroke=\"#000000\"/>\n<text fill=\"#000000\" font-family=\"Times,serif\" font-size=\"14.00\" text-anchor=\"middle\" x=\"114.5\" y=\"-87.8\">dense_6: Dense</text>\n</g>\n<!-- 140420183043320&#45;&gt;140420183043040 -->\n<g class=\"edge\" id=\"edge7\">\n<title>140420183043320-&gt;140420183043040</title>\n<path d=\"M114.5,-146.4551C114.5,-138.3828 114.5,-128.6764 114.5,-119.6817\" fill=\"none\" stroke=\"#000000\"/>\n<polygon fill=\"#000000\" points=\"118.0001,-119.5903 114.5,-109.5904 111.0001,-119.5904 118.0001,-119.5903\" stroke=\"#000000\"/>\n</g>\n<!-- 140420468910008 -->\n<g class=\"node\" id=\"node9\">\n<title>140420468910008</title>\n<polygon fill=\"none\" points=\"61,-.5 61,-36.5 168,-36.5 168,-.5 61,-.5\" stroke=\"#000000\"/>\n<text fill=\"#000000\" font-family=\"Times,serif\" font-size=\"14.00\" text-anchor=\"middle\" x=\"114.5\" y=\"-14.8\">dense_7: Dense</text>\n</g>\n<!-- 140420183043040&#45;&gt;140420468910008 -->\n<g class=\"edge\" id=\"edge8\">\n<title>140420183043040-&gt;140420468910008</title>\n<path d=\"M114.5,-73.4551C114.5,-65.3828 114.5,-55.6764 114.5,-46.6817\" fill=\"none\" stroke=\"#000000\"/>\n<polygon fill=\"#000000\" points=\"118.0001,-46.5903 114.5,-36.5904 111.0001,-46.5904 118.0001,-46.5903\" stroke=\"#000000\"/>\n</g>\n</g>\n</svg>"
          },
          "metadata": {
            "tags": []
          },
          "execution_count": 21
        }
      ]
    },
    {
      "cell_type": "code",
      "metadata": {
        "id": "kJXeuIs77QAx"
      },
      "source": [
        "# data preprocessing\n",
        "def data_preprocessing(raw):\n",
        "    out_y = keras.utils.np_utils.to_categorical(raw.label, NUM_CLASSES)\n",
        "    num_images = raw.shape[0]\n",
        "    x_as_array = raw.values[:,1:]\n",
        "    x_shaped_array = x_as_array.reshape(num_images, IMG_ROWS, IMG_COLS, 1)\n",
        "    out_x = x_shaped_array / 255\n",
        "    return out_x, out_y\n"
      ],
      "execution_count": null,
      "outputs": []
    },
    {
      "cell_type": "code",
      "metadata": {
        "id": "SWEWCnI87Z5t"
      },
      "source": [
        "# prepare the data\n",
        "X, y = data_preprocessing(X_train)\n",
        "X_test, y_test = data_preprocessing(X_test)"
      ],
      "execution_count": null,
      "outputs": []
    },
    {
      "cell_type": "code",
      "metadata": {
        "id": "PNQwvbB44uwJ"
      },
      "source": [
        "from sklearn.model_selection import train_test_split\n",
        "#from sklearn.metrics import classification_report\n",
        "\n",
        "X_train, X_val, y_train, y_val = train_test_split(X, y, test_size=TEST_SIZE, random_state=RANDOM_STATE)\n",
        "\n",
        "train_model = model.fit(X_train, y_train,\n",
        "                  batch_size=BATCH_SIZE,\n",
        "                  epochs=NO_EPOCHS,\n",
        "                  verbose=1,\n",
        "                  validation_data=(X_val, y_val))"
      ],
      "execution_count": null,
      "outputs": []
    },
    {
      "cell_type": "code",
      "metadata": {
        "id": "5a-RjZEkBK5J"
      },
      "source": [
        ""
      ],
      "execution_count": null,
      "outputs": []
    },
    {
      "cell_type": "markdown",
      "metadata": {
        "id": "G5xiQ0_YjtRk"
      },
      "source": [
        "## Recurrent Neural Networks(RNNs) "
      ]
    },
    {
      "cell_type": "markdown",
      "metadata": {
        "id": "NvjPGZK2jtRk"
      },
      "source": [
        "## Sequence Prediction\n",
        "\n",
        "## Simple RNN"
      ]
    },
    {
      "cell_type": "code",
      "metadata": {
        "id": "rNA3xxt8jtRk"
      },
      "source": [
        "import pandas as pd\n",
        "import matplotlib.pylab as plt\n",
        "\n",
        "timeseries = pd.read_csv('https://raw.githubusercontent.com/numenta/NAB/master/data/artificialNoAnomaly/art_daily_no_noise.csv')\n",
        "\n",
        "# TBD: Use a single layer single neuron RNN to make single step prediction for above timeseries \n",
        "\n"
      ],
      "execution_count": null,
      "outputs": []
    },
    {
      "cell_type": "markdown",
      "metadata": {
        "id": "AnpNIN0_jtRk"
      },
      "source": [
        "## Deep RNN"
      ]
    },
    {
      "cell_type": "code",
      "metadata": {
        "id": "kMxE5ICpjtRk"
      },
      "source": [
        "# TBD: Use following RNN architecture to make single step prediction for given timeseries \n",
        "# Layer1 (10 Neurons)\n",
        "# Layer2 (10 Neurons)\n",
        "# Layer3 (1 Neurons) Output Layer"
      ],
      "execution_count": null,
      "outputs": []
    },
    {
      "cell_type": "markdown",
      "metadata": {
        "id": "tlZust9rjtRk"
      },
      "source": [
        "## Deep RNN (Multi step prediction)"
      ]
    },
    {
      "cell_type": "code",
      "metadata": {
        "id": "oOxW_ForjtRk"
      },
      "source": [
        "# TBD: Use following RNN architecture to make multi step prediction (5) for given timeseries \n",
        "# Layer1 (20 Neurons)\n",
        "# Layer2 (20 Neurons)\n",
        "# Layer3 (10 Neurons)\n",
        "# Layer3 (5 Neurons) Output Layer"
      ],
      "execution_count": null,
      "outputs": []
    },
    {
      "cell_type": "markdown",
      "metadata": {
        "id": "MVmvImJnjtRk"
      },
      "source": [
        ""
      ]
    }
  ]
}