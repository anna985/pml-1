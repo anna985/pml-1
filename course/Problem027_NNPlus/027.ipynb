{
  "nbformat": 4,
  "nbformat_minor": 0,
  "metadata": {
    "kernelspec": {
      "display_name": "Python 3",
      "language": "python",
      "name": "python3"
    },
    "language_info": {
      "codemirror_mode": {
        "name": "ipython",
        "version": 3
      },
      "file_extension": ".py",
      "mimetype": "text/x-python",
      "name": "python",
      "nbconvert_exporter": "python",
      "pygments_lexer": "ipython3",
      "version": "3.8.2-final"
    },
    "colab": {
      "name": "Copy of 027.ipynb",
      "provenance": [],
      "include_colab_link": true
    }
  },
  "cells": [
    {
      "cell_type": "markdown",
      "metadata": {
        "id": "view-in-github",
        "colab_type": "text"
      },
      "source": [
        "<a href=\"https://colab.research.google.com/github/anna985/pml-1/blob/master/course/Problem027_NNPlus/027.ipynb\" target=\"_parent\"><img src=\"https://colab.research.google.com/assets/colab-badge.svg\" alt=\"Open In Colab\"/></a>"
      ]
    },
    {
      "cell_type": "markdown",
      "metadata": {
        "id": "aPo1anqCjtRj"
      },
      "source": [
        "## Convolutional Neural Networks (CNN)"
      ]
    },
    {
      "cell_type": "markdown",
      "metadata": {
        "id": "Ds8CoV7_jtRk"
      },
      "source": [
        "## TBD Doing better on Fashion MNIST dataset using CNN"
      ]
    },
    {
      "cell_type": "code",
      "metadata": {
        "colab": {
          "base_uri": "https://localhost:8080/"
        },
        "id": "IBoB1uqNjtRk",
        "outputId": "be664311-3b95-4aac-b175-65bf1ef2396e"
      },
      "source": [
        "from keras.datasets import fashion_mnist\n",
        "\n",
        "#Fashion MNIST is already organized into training/testing splits \n",
        "(X_train, y_train), (X_test, y_test) = fashion_mnist.load_data()\n",
        "\n",
        "\n",
        "# TBD: Use following architecture to classify fashion MNIST dataset\n",
        "# activation function is relu for all layers except last where its softmax\n",
        "\n",
        "# 1 Convolutional Layer (filters = 64, kernel_size = 4 )\n",
        "# 2 Convolutional Layer (filters = 64, kernel_size = 4)\n",
        "# 3 Max Pooling Layer (size 2)\n",
        "# 4 Convolutional Layer (filters = 128, kernel_size = 3)\n",
        "# 5 Convolutional Layer (filters = 128, kernel_size = 3)\n",
        "# 6 Max Pooling Layer (size 2)\n",
        "# 7 Dense Layer (64 neurons)\n",
        "# 8 Dense Layer (10 neurons, activation = softmax)\n"
      ],
      "execution_count": 1,
      "outputs": [
        {
          "output_type": "stream",
          "text": [
            "Downloading data from https://storage.googleapis.com/tensorflow/tf-keras-datasets/train-labels-idx1-ubyte.gz\n",
            "32768/29515 [=================================] - 0s 0us/step\n",
            "Downloading data from https://storage.googleapis.com/tensorflow/tf-keras-datasets/train-images-idx3-ubyte.gz\n",
            "26427392/26421880 [==============================] - 0s 0us/step\n",
            "Downloading data from https://storage.googleapis.com/tensorflow/tf-keras-datasets/t10k-labels-idx1-ubyte.gz\n",
            "8192/5148 [===============================================] - 0s 0us/step\n",
            "Downloading data from https://storage.googleapis.com/tensorflow/tf-keras-datasets/t10k-images-idx3-ubyte.gz\n",
            "4423680/4422102 [==============================] - 0s 0us/step\n"
          ],
          "name": "stdout"
        }
      ]
    },
    {
      "cell_type": "code",
      "metadata": {
        "id": "fPuJdRfJxXWi"
      },
      "source": [
        "IMG_ROWS = 28\n",
        "IMG_COLS = 28\n",
        "NUM_CLASSES = 10\n",
        "TEST_SIZE = 0.2\n",
        "RANDOM_STATE = 2018\n",
        "#Model\n",
        "NO_EPOCHS = 50\n",
        "BATCH_SIZE = 128"
      ],
      "execution_count": 2,
      "outputs": []
    },
    {
      "cell_type": "code",
      "metadata": {
        "id": "aePkUtiQvgo5",
        "colab": {
          "base_uri": "https://localhost:8080/"
        },
        "outputId": "9009232d-5b30-4a55-f22d-56bd5c84a6b5"
      },
      "source": [
        "from tensorflow.python import keras\n",
        "from tensorflow.python.keras.models import Sequential\n",
        "from tensorflow.python.keras.layers import Dense, Flatten, Conv2D, Dropout, MaxPooling2D\n",
        "\n",
        "# Model\n",
        "model = Sequential()\n",
        "\n",
        "# first CONV => RELU => CONV => RELU => POOL layer set\n",
        "model.add(Conv2D(64, kernel_size=(4, 4),\n",
        "                 activation='relu',\n",
        "                 kernel_initializer='he_normal',\n",
        "                 input_shape=(IMG_ROWS, IMG_COLS, 1)))\n",
        "model.add(Conv2D(64, kernel_size=(4, 4),\n",
        "                 activation='relu'))\n",
        "model.add(MaxPooling2D(pool_size=(2, 2)))\n",
        "\n",
        "# second CONV => RELU => CONV => RELU => POOL layer set\n",
        "model.add(Conv2D(128, (3, 3), activation='relu'))\n",
        "model.add(Conv2D(128, (3, 3), activation='relu'))\n",
        "model.add(MaxPooling2D((2, 2)))\n",
        "\n",
        "model.add(Dense(64, activation='relu'))\n",
        "model.add(Dense(NUM_CLASSES, activation='softmax'))\n",
        "\n",
        "model.compile(loss=keras.losses.categorical_crossentropy,\n",
        "              optimizer='adam',\n",
        "              metrics=['accuracy'])\n",
        "\n",
        "model.summary()"
      ],
      "execution_count": 4,
      "outputs": [
        {
          "output_type": "stream",
          "text": [
            "Model: \"sequential_1\"\n",
            "_________________________________________________________________\n",
            "Layer (type)                 Output Shape              Param #   \n",
            "=================================================================\n",
            "conv2d_4 (Conv2D)            (None, 25, 25, 64)        1088      \n",
            "_________________________________________________________________\n",
            "conv2d_5 (Conv2D)            (None, 22, 22, 64)        65600     \n",
            "_________________________________________________________________\n",
            "max_pooling2d_2 (MaxPooling2 (None, 11, 11, 64)        0         \n",
            "_________________________________________________________________\n",
            "conv2d_6 (Conv2D)            (None, 9, 9, 128)         73856     \n",
            "_________________________________________________________________\n",
            "conv2d_7 (Conv2D)            (None, 7, 7, 128)         147584    \n",
            "_________________________________________________________________\n",
            "max_pooling2d_3 (MaxPooling2 (None, 3, 3, 128)         0         \n",
            "_________________________________________________________________\n",
            "dense_2 (Dense)              (None, 3, 3, 64)          8256      \n",
            "_________________________________________________________________\n",
            "dense_3 (Dense)              (None, 3, 3, 10)          650       \n",
            "=================================================================\n",
            "Total params: 297,034\n",
            "Trainable params: 297,034\n",
            "Non-trainable params: 0\n",
            "_________________________________________________________________\n"
          ],
          "name": "stdout"
        }
      ]
    },
    {
      "cell_type": "code",
      "metadata": {
        "id": "yjtMz5vd3T0G",
        "colab": {
          "base_uri": "https://localhost:8080/",
          "height": 1000
        },
        "outputId": "f641bd89-ef20-4cdc-80b5-ef8cacf26d7b"
      },
      "source": [
        "from IPython.display import SVG\n",
        "from keras.utils.vis_utils import model_to_dot\n",
        "from keras.utils import plot_model\n",
        "\n",
        "plot_model(model, to_file='model.png')\n",
        "SVG(model_to_dot(model).create(prog='dot', format='svg'))"
      ],
      "execution_count": 5,
      "outputs": [
        {
          "output_type": "execute_result",
          "data": {
            "text/plain": [
              "<IPython.core.display.SVG object>"
            ],
            "image/svg+xml": "<svg height=\"839pt\" viewBox=\"0.00 0.00 229.00 629.00\" width=\"305pt\" xmlns=\"http://www.w3.org/2000/svg\" xmlns:xlink=\"http://www.w3.org/1999/xlink\">\n<g class=\"graph\" id=\"graph0\" transform=\"scale(1.3333 1.3333) rotate(0) translate(4 625)\">\n<title>G</title>\n<polygon fill=\"#ffffff\" points=\"-4,4 -4,-625 225,-625 225,4 -4,4\" stroke=\"transparent\"/>\n<!-- 140430685134240 -->\n<g class=\"node\" id=\"node1\">\n<title>140430685134240</title>\n<polygon fill=\"none\" points=\"18.5,-584.5 18.5,-620.5 202.5,-620.5 202.5,-584.5 18.5,-584.5\" stroke=\"#000000\"/>\n<text fill=\"#000000\" font-family=\"Times,serif\" font-size=\"14.00\" text-anchor=\"middle\" x=\"110.5\" y=\"-598.8\">conv2d_4_input: InputLayer</text>\n</g>\n<!-- 140430685069832 -->\n<g class=\"node\" id=\"node2\">\n<title>140430685069832</title>\n<polygon fill=\"none\" points=\"44,-511.5 44,-547.5 177,-547.5 177,-511.5 44,-511.5\" stroke=\"#000000\"/>\n<text fill=\"#000000\" font-family=\"Times,serif\" font-size=\"14.00\" text-anchor=\"middle\" x=\"110.5\" y=\"-525.8\">conv2d_4: Conv2D</text>\n</g>\n<!-- 140430685134240&#45;&gt;140430685069832 -->\n<g class=\"edge\" id=\"edge1\">\n<title>140430685134240-&gt;140430685069832</title>\n<path d=\"M110.5,-584.4551C110.5,-576.3828 110.5,-566.6764 110.5,-557.6817\" fill=\"none\" stroke=\"#000000\"/>\n<polygon fill=\"#000000\" points=\"114.0001,-557.5903 110.5,-547.5904 107.0001,-557.5904 114.0001,-557.5903\" stroke=\"#000000\"/>\n</g>\n<!-- 140431705214144 -->\n<g class=\"node\" id=\"node3\">\n<title>140431705214144</title>\n<polygon fill=\"none\" points=\"44,-438.5 44,-474.5 177,-474.5 177,-438.5 44,-438.5\" stroke=\"#000000\"/>\n<text fill=\"#000000\" font-family=\"Times,serif\" font-size=\"14.00\" text-anchor=\"middle\" x=\"110.5\" y=\"-452.8\">conv2d_5: Conv2D</text>\n</g>\n<!-- 140430685069832&#45;&gt;140431705214144 -->\n<g class=\"edge\" id=\"edge2\">\n<title>140430685069832-&gt;140431705214144</title>\n<path d=\"M110.5,-511.4551C110.5,-503.3828 110.5,-493.6764 110.5,-484.6817\" fill=\"none\" stroke=\"#000000\"/>\n<polygon fill=\"#000000\" points=\"114.0001,-484.5903 110.5,-474.5904 107.0001,-484.5904 114.0001,-484.5903\" stroke=\"#000000\"/>\n</g>\n<!-- 140430685166896 -->\n<g class=\"node\" id=\"node4\">\n<title>140430685166896</title>\n<polygon fill=\"none\" points=\"0,-365.5 0,-401.5 221,-401.5 221,-365.5 0,-365.5\" stroke=\"#000000\"/>\n<text fill=\"#000000\" font-family=\"Times,serif\" font-size=\"14.00\" text-anchor=\"middle\" x=\"110.5\" y=\"-379.8\">max_pooling2d_2: MaxPooling2D</text>\n</g>\n<!-- 140431705214144&#45;&gt;140430685166896 -->\n<g class=\"edge\" id=\"edge3\">\n<title>140431705214144-&gt;140430685166896</title>\n<path d=\"M110.5,-438.4551C110.5,-430.3828 110.5,-420.6764 110.5,-411.6817\" fill=\"none\" stroke=\"#000000\"/>\n<polygon fill=\"#000000\" points=\"114.0001,-411.5903 110.5,-401.5904 107.0001,-411.5904 114.0001,-411.5903\" stroke=\"#000000\"/>\n</g>\n<!-- 140430684738840 -->\n<g class=\"node\" id=\"node5\">\n<title>140430684738840</title>\n<polygon fill=\"none\" points=\"44,-292.5 44,-328.5 177,-328.5 177,-292.5 44,-292.5\" stroke=\"#000000\"/>\n<text fill=\"#000000\" font-family=\"Times,serif\" font-size=\"14.00\" text-anchor=\"middle\" x=\"110.5\" y=\"-306.8\">conv2d_6: Conv2D</text>\n</g>\n<!-- 140430685166896&#45;&gt;140430684738840 -->\n<g class=\"edge\" id=\"edge4\">\n<title>140430685166896-&gt;140430684738840</title>\n<path d=\"M110.5,-365.4551C110.5,-357.3828 110.5,-347.6764 110.5,-338.6817\" fill=\"none\" stroke=\"#000000\"/>\n<polygon fill=\"#000000\" points=\"114.0001,-338.5903 110.5,-328.5904 107.0001,-338.5904 114.0001,-338.5903\" stroke=\"#000000\"/>\n</g>\n<!-- 140430685242368 -->\n<g class=\"node\" id=\"node6\">\n<title>140430685242368</title>\n<polygon fill=\"none\" points=\"44,-219.5 44,-255.5 177,-255.5 177,-219.5 44,-219.5\" stroke=\"#000000\"/>\n<text fill=\"#000000\" font-family=\"Times,serif\" font-size=\"14.00\" text-anchor=\"middle\" x=\"110.5\" y=\"-233.8\">conv2d_7: Conv2D</text>\n</g>\n<!-- 140430684738840&#45;&gt;140430685242368 -->\n<g class=\"edge\" id=\"edge5\">\n<title>140430684738840-&gt;140430685242368</title>\n<path d=\"M110.5,-292.4551C110.5,-284.3828 110.5,-274.6764 110.5,-265.6817\" fill=\"none\" stroke=\"#000000\"/>\n<polygon fill=\"#000000\" points=\"114.0001,-265.5903 110.5,-255.5904 107.0001,-265.5904 114.0001,-265.5903\" stroke=\"#000000\"/>\n</g>\n<!-- 140430685242144 -->\n<g class=\"node\" id=\"node7\">\n<title>140430685242144</title>\n<polygon fill=\"none\" points=\"0,-146.5 0,-182.5 221,-182.5 221,-146.5 0,-146.5\" stroke=\"#000000\"/>\n<text fill=\"#000000\" font-family=\"Times,serif\" font-size=\"14.00\" text-anchor=\"middle\" x=\"110.5\" y=\"-160.8\">max_pooling2d_3: MaxPooling2D</text>\n</g>\n<!-- 140430685242368&#45;&gt;140430685242144 -->\n<g class=\"edge\" id=\"edge6\">\n<title>140430685242368-&gt;140430685242144</title>\n<path d=\"M110.5,-219.4551C110.5,-211.3828 110.5,-201.6764 110.5,-192.6817\" fill=\"none\" stroke=\"#000000\"/>\n<polygon fill=\"#000000\" points=\"114.0001,-192.5903 110.5,-182.5904 107.0001,-192.5904 114.0001,-192.5903\" stroke=\"#000000\"/>\n</g>\n<!-- 140430685243376 -->\n<g class=\"node\" id=\"node8\">\n<title>140430685243376</title>\n<polygon fill=\"none\" points=\"57,-73.5 57,-109.5 164,-109.5 164,-73.5 57,-73.5\" stroke=\"#000000\"/>\n<text fill=\"#000000\" font-family=\"Times,serif\" font-size=\"14.00\" text-anchor=\"middle\" x=\"110.5\" y=\"-87.8\">dense_2: Dense</text>\n</g>\n<!-- 140430685242144&#45;&gt;140430685243376 -->\n<g class=\"edge\" id=\"edge7\">\n<title>140430685242144-&gt;140430685243376</title>\n<path d=\"M110.5,-146.4551C110.5,-138.3828 110.5,-128.6764 110.5,-119.6817\" fill=\"none\" stroke=\"#000000\"/>\n<polygon fill=\"#000000\" points=\"114.0001,-119.5903 110.5,-109.5904 107.0001,-119.5904 114.0001,-119.5903\" stroke=\"#000000\"/>\n</g>\n<!-- 140430684811448 -->\n<g class=\"node\" id=\"node9\">\n<title>140430684811448</title>\n<polygon fill=\"none\" points=\"57,-.5 57,-36.5 164,-36.5 164,-.5 57,-.5\" stroke=\"#000000\"/>\n<text fill=\"#000000\" font-family=\"Times,serif\" font-size=\"14.00\" text-anchor=\"middle\" x=\"110.5\" y=\"-14.8\">dense_3: Dense</text>\n</g>\n<!-- 140430685243376&#45;&gt;140430684811448 -->\n<g class=\"edge\" id=\"edge8\">\n<title>140430685243376-&gt;140430684811448</title>\n<path d=\"M110.5,-73.4551C110.5,-65.3828 110.5,-55.6764 110.5,-46.6817\" fill=\"none\" stroke=\"#000000\"/>\n<polygon fill=\"#000000\" points=\"114.0001,-46.5903 110.5,-36.5904 107.0001,-46.5904 114.0001,-46.5903\" stroke=\"#000000\"/>\n</g>\n</g>\n</svg>"
          },
          "metadata": {
            "tags": []
          },
          "execution_count": 5
        }
      ]
    },
    {
      "cell_type": "code",
      "metadata": {
        "id": "RaSJTIMJz_64"
      },
      "source": [
        "# if we are using \"channels first\" ordering, then reshape the design\n",
        "# matrix such that the matrix is:\n",
        "# \tnum_samples x depth x rows x columns\n",
        "from tensorflow.keras import backend as K\n",
        "if K.image_data_format() == \"channels_first\":\n",
        "\tX_train = X_train.reshape((X_train.shape[0], 1, 28, 28))\n",
        "\tX_test = X_test.reshape((X_test.shape[0], 1, 28, 28))\n",
        " \n",
        "# otherwise, we are using \"channels last\" ordering, so the design\n",
        "# matrix shape should be: num_samples x rows x columns x depth\n",
        "else:\n",
        "\tX_train = X_train.reshape((X_train.shape[0], 28, 28, 1))\n",
        "\tX_test = X_test.reshape((X_test.shape[0], 28, 28, 1))"
      ],
      "execution_count": 17,
      "outputs": []
    },
    {
      "cell_type": "code",
      "metadata": {
        "id": "kJXeuIs77QAx"
      },
      "source": [
        "# prepare the data\n",
        "from tensorflow.keras.utils import to_categorical\n",
        "# scale data to the range of [0, 1]\n",
        "X_train = X_train.astype(\"float32\") / 255.0\n",
        "X_test = X_test.astype(\"float32\") / 255.0\n",
        "\n",
        "# one-hot encode the training and testing labels\n",
        "y_train = to_categorical(y_train, 10)\n",
        "y_test = to_categorical(y_test, 10)\n",
        "\n",
        "#“T-shirt/top”: [1, 0, 0, 0, 0, 0, 0, 0, 0, 0]\n",
        "#“bag”: [0, 0, 0, 0, 0, 0, 0, 0, 1, 0]\n",
        "\n",
        "# initialize the label names\n",
        "labelNames = [\"top\", \"trouser\", \"pullover\", \"dress\", \"coat\",\n",
        "\t\"sandal\", \"shirt\", \"sneaker\", \"bag\", \"ankle boot\"]"
      ],
      "execution_count": 18,
      "outputs": []
    },
    {
      "cell_type": "code",
      "metadata": {
        "id": "PNQwvbB44uwJ"
      },
      "source": [
        "# initialize the number of epochs to train for, base learning rate,\n",
        "# and batch size\n",
        "NUM_EPOCHS = 25\n",
        "INIT_LR = 1e-2\n",
        "BS = 32\n",
        "\n",
        "from tensorflow.keras.optimizers import SGD\n",
        "\n",
        "# initialize the optimizer and model\n",
        "# model initialized and compiled with the Stochastic Gradient Descent (SGD ) optimizer and learning rate decay\n",
        "print(\"[INFO] compiling model...\")\n",
        "opt = SGD(lr=INIT_LR, momentum=0.9, decay=INIT_LR / NUM_EPOCHS)\n",
        "#model = MiniVGGNet.build(width=28, height=28, depth=1, classes=10)\n",
        "model.compile(loss=\"categorical_crossentropy\", optimizer=opt,\n",
        "\tmetrics=[\"accuracy\"])\n",
        "\n",
        "# train the network\n",
        "print(\"[INFO] training model...\")\n",
        "H = model.fit(x=X_train, y=y_train,\n",
        "\tvalidation_data=(X_test, y_test),\n",
        "\tbatch_size=BS, epochs=NUM_EPOCHS)"
      ],
      "execution_count": null,
      "outputs": []
    },
    {
      "cell_type": "code",
      "metadata": {
        "id": "5a-RjZEkBK5J"
      },
      "source": [
        ""
      ],
      "execution_count": null,
      "outputs": []
    },
    {
      "cell_type": "markdown",
      "metadata": {
        "id": "G5xiQ0_YjtRk"
      },
      "source": [
        "## Recurrent Neural Networks(RNNs) "
      ]
    },
    {
      "cell_type": "markdown",
      "metadata": {
        "id": "NvjPGZK2jtRk"
      },
      "source": [
        "## Sequence Prediction\n",
        "\n",
        "## Simple RNN"
      ]
    },
    {
      "cell_type": "code",
      "metadata": {
        "id": "rNA3xxt8jtRk"
      },
      "source": [
        "import pandas as pd\n",
        "import matplotlib.pylab as plt\n",
        "\n",
        "timeseries = pd.read_csv('https://raw.githubusercontent.com/numenta/NAB/master/data/artificialNoAnomaly/art_daily_no_noise.csv')\n",
        "\n",
        "# TBD: Use a single layer single neuron RNN to make single step prediction for above timeseries \n",
        "\n"
      ],
      "execution_count": null,
      "outputs": []
    },
    {
      "cell_type": "markdown",
      "metadata": {
        "id": "AnpNIN0_jtRk"
      },
      "source": [
        "## Deep RNN"
      ]
    },
    {
      "cell_type": "code",
      "metadata": {
        "id": "kMxE5ICpjtRk"
      },
      "source": [
        "# TBD: Use following RNN architecture to make single step prediction for given timeseries \n",
        "# Layer1 (10 Neurons)\n",
        "# Layer2 (10 Neurons)\n",
        "# Layer3 (1 Neurons) Output Layer"
      ],
      "execution_count": null,
      "outputs": []
    },
    {
      "cell_type": "markdown",
      "metadata": {
        "id": "tlZust9rjtRk"
      },
      "source": [
        "## Deep RNN (Multi step prediction)"
      ]
    },
    {
      "cell_type": "code",
      "metadata": {
        "id": "oOxW_ForjtRk"
      },
      "source": [
        "# TBD: Use following RNN architecture to make multi step prediction (5) for given timeseries \n",
        "# Layer1 (20 Neurons)\n",
        "# Layer2 (20 Neurons)\n",
        "# Layer3 (10 Neurons)\n",
        "# Layer3 (5 Neurons) Output Layer"
      ],
      "execution_count": null,
      "outputs": []
    },
    {
      "cell_type": "markdown",
      "metadata": {
        "id": "MVmvImJnjtRk"
      },
      "source": [
        ""
      ]
    }
  ]
}