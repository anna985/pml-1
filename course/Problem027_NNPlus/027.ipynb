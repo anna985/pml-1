{
  "nbformat": 4,
  "nbformat_minor": 0,
  "metadata": {
    "kernelspec": {
      "display_name": "Python 3",
      "language": "python",
      "name": "python3"
    },
    "language_info": {
      "codemirror_mode": {
        "name": "ipython",
        "version": 3
      },
      "file_extension": ".py",
      "mimetype": "text/x-python",
      "name": "python",
      "nbconvert_exporter": "python",
      "pygments_lexer": "ipython3",
      "version": "3.8.2-final"
    },
    "colab": {
      "name": "Copy of 027.ipynb",
      "provenance": [],
      "include_colab_link": true
    }
  },
  "cells": [
    {
      "cell_type": "markdown",
      "metadata": {
        "id": "view-in-github",
        "colab_type": "text"
      },
      "source": [
        "<a href=\"https://colab.research.google.com/github/anna985/pml-1/blob/master/course/Problem027_NNPlus/027.ipynb\" target=\"_parent\"><img src=\"https://colab.research.google.com/assets/colab-badge.svg\" alt=\"Open In Colab\"/></a>"
      ]
    },
    {
      "cell_type": "markdown",
      "metadata": {
        "id": "aPo1anqCjtRj"
      },
      "source": [
        "## Convolutional Neural Networks (CNN)"
      ]
    },
    {
      "cell_type": "markdown",
      "metadata": {
        "id": "Ds8CoV7_jtRk"
      },
      "source": [
        "## TBD Doing better on Fashion MNIST dataset using CNN"
      ]
    },
    {
      "cell_type": "code",
      "metadata": {
        "id": "IBoB1uqNjtRk"
      },
      "source": [
        "from keras.datasets import fashion_mnist\n",
        "(X_train, y_train), (X_test, y_test) = fashion_mnist.load_data()\n",
        "\n",
        "# TBD: Use following architecture to classify fashion MNIST dataset\n",
        "# activation function is relu for all layers except last where its softmax\n",
        "\n",
        "# 1 Convolutional Layer (filters = 64, kernel_size = 4 )\n",
        "# 2 Convolutional Layer (filters = 64, kernel_size = 4)\n",
        "# 3 Max Pooling Layer (size 2)\n",
        "# 4 Convolutional Layer (filters = 128, kernel_size = 3)\n",
        "# 5 Convolutional Layer (filters = 128, kernel_size = 3)\n",
        "# 6 Max Pooling Layer (size 2)\n",
        "# 7 Dense Layer (64 neurons)\n",
        "# 8 Dense Layer (10 neurons, activation = softmax)\n"
      ],
      "execution_count": null,
      "outputs": []
    },
    {
      "cell_type": "markdown",
      "metadata": {
        "id": "G5xiQ0_YjtRk"
      },
      "source": [
        "## Recurrent Neural Networks(RNNs) "
      ]
    },
    {
      "cell_type": "markdown",
      "metadata": {
        "id": "NvjPGZK2jtRk"
      },
      "source": [
        "## Sequence Prediction\n",
        "\n",
        "## Simple RNN"
      ]
    },
    {
      "cell_type": "code",
      "metadata": {
        "id": "rNA3xxt8jtRk"
      },
      "source": [
        "import pandas as pd\n",
        "import matplotlib.pylab as plt\n",
        "\n",
        "timeseries = pd.read_csv('https://raw.githubusercontent.com/numenta/NAB/master/data/artificialNoAnomaly/art_daily_no_noise.csv')\n",
        "\n",
        "# TBD: Use a single layer single neuron RNN to make single step prediction for above timeseries \n",
        "\n"
      ],
      "execution_count": null,
      "outputs": []
    },
    {
      "cell_type": "markdown",
      "metadata": {
        "id": "AnpNIN0_jtRk"
      },
      "source": [
        "## Deep RNN"
      ]
    },
    {
      "cell_type": "code",
      "metadata": {
        "id": "kMxE5ICpjtRk"
      },
      "source": [
        "# TBD: Use following RNN architecture to make single step prediction for given timeseries \n",
        "# Layer1 (10 Neurons)\n",
        "# Layer2 (10 Neurons)\n",
        "# Layer3 (1 Neurons) Output Layer"
      ],
      "execution_count": null,
      "outputs": []
    },
    {
      "cell_type": "markdown",
      "metadata": {
        "id": "tlZust9rjtRk"
      },
      "source": [
        "## Deep RNN (Multi step prediction)"
      ]
    },
    {
      "cell_type": "code",
      "metadata": {
        "id": "oOxW_ForjtRk"
      },
      "source": [
        "# TBD: Use following RNN architecture to make multi step prediction (5) for given timeseries \n",
        "# Layer1 (20 Neurons)\n",
        "# Layer2 (20 Neurons)\n",
        "# Layer3 (10 Neurons)\n",
        "# Layer3 (5 Neurons) Output Layer"
      ],
      "execution_count": null,
      "outputs": []
    },
    {
      "cell_type": "markdown",
      "metadata": {
        "id": "MVmvImJnjtRk"
      },
      "source": [
        ""
      ]
    }
  ]
}