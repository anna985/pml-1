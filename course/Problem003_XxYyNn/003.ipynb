{
  "nbformat": 4,
  "nbformat_minor": 0,
  "metadata": {
    "kernelspec": {
      "display_name": "Python 3",
      "language": "python",
      "name": "python3"
    },
    "language_info": {
      "codemirror_mode": {
        "name": "ipython",
        "version": 3
      },
      "file_extension": ".py",
      "mimetype": "text/x-python",
      "name": "python",
      "nbconvert_exporter": "python",
      "pygments_lexer": "ipython3",
      "version": "3.6.5"
    },
    "colab": {
      "name": "003.ipynb",
      "provenance": [],
      "toc_visible": true
    }
  },
  "cells": [
    {
      "cell_type": "markdown",
      "metadata": {
        "id": "pvmbMRh4J1uU"
      },
      "source": [
        "# Load Boston Housing Dataset\n",
        "https://scikit-learn.org/stable/modules/generated/sklearn.datasets.load_boston.html#sklearn.datasets.load_boston"
      ]
    },
    {
      "cell_type": "code",
      "metadata": {
        "scrolled": true,
        "id": "ZvMdD0ziJ1uW",
        "outputId": "f9a05b6f-13da-4381-c3cb-14e9b891d8bd",
        "colab": {
          "base_uri": "https://localhost:8080/",
          "height": 904
        }
      },
      "source": [
        "from sklearn.datasets import load_boston\n",
        "house_data = load_boston()\n",
        "print(house_data['DESCR'])"
      ],
      "execution_count": 2,
      "outputs": [
        {
          "output_type": "stream",
          "text": [
            ".. _boston_dataset:\n",
            "\n",
            "Boston house prices dataset\n",
            "---------------------------\n",
            "\n",
            "**Data Set Characteristics:**  \n",
            "\n",
            "    :Number of Instances: 506 \n",
            "\n",
            "    :Number of Attributes: 13 numeric/categorical predictive. Median Value (attribute 14) is usually the target.\n",
            "\n",
            "    :Attribute Information (in order):\n",
            "        - CRIM     per capita crime rate by town\n",
            "        - ZN       proportion of residential land zoned for lots over 25,000 sq.ft.\n",
            "        - INDUS    proportion of non-retail business acres per town\n",
            "        - CHAS     Charles River dummy variable (= 1 if tract bounds river; 0 otherwise)\n",
            "        - NOX      nitric oxides concentration (parts per 10 million)\n",
            "        - RM       average number of rooms per dwelling\n",
            "        - AGE      proportion of owner-occupied units built prior to 1940\n",
            "        - DIS      weighted distances to five Boston employment centres\n",
            "        - RAD      index of accessibility to radial highways\n",
            "        - TAX      full-value property-tax rate per $10,000\n",
            "        - PTRATIO  pupil-teacher ratio by town\n",
            "        - B        1000(Bk - 0.63)^2 where Bk is the proportion of blacks by town\n",
            "        - LSTAT    % lower status of the population\n",
            "        - MEDV     Median value of owner-occupied homes in $1000's\n",
            "\n",
            "    :Missing Attribute Values: None\n",
            "\n",
            "    :Creator: Harrison, D. and Rubinfeld, D.L.\n",
            "\n",
            "This is a copy of UCI ML housing dataset.\n",
            "https://archive.ics.uci.edu/ml/machine-learning-databases/housing/\n",
            "\n",
            "\n",
            "This dataset was taken from the StatLib library which is maintained at Carnegie Mellon University.\n",
            "\n",
            "The Boston house-price data of Harrison, D. and Rubinfeld, D.L. 'Hedonic\n",
            "prices and the demand for clean air', J. Environ. Economics & Management,\n",
            "vol.5, 81-102, 1978.   Used in Belsley, Kuh & Welsch, 'Regression diagnostics\n",
            "...', Wiley, 1980.   N.B. Various transformations are used in the table on\n",
            "pages 244-261 of the latter.\n",
            "\n",
            "The Boston house-price data has been used in many machine learning papers that address regression\n",
            "problems.   \n",
            "     \n",
            ".. topic:: References\n",
            "\n",
            "   - Belsley, Kuh & Welsch, 'Regression diagnostics: Identifying Influential Data and Sources of Collinearity', Wiley, 1980. 244-261.\n",
            "   - Quinlan,R. (1993). Combining Instance-Based and Model-Based Learning. In Proceedings on the Tenth International Conference of Machine Learning, 236-243, University of Massachusetts, Amherst. Morgan Kaufmann.\n",
            "\n"
          ],
          "name": "stdout"
        }
      ]
    },
    {
      "cell_type": "code",
      "metadata": {
        "id": "k4UcCXOVJ1uZ",
        "outputId": "5fc2d95a-9620-4c46-e93d-ea98c6a29bb3",
        "colab": {
          "base_uri": "https://localhost:8080/",
          "height": 34
        }
      },
      "source": [
        "# \n",
        "dir(house_data)"
      ],
      "execution_count": 3,
      "outputs": [
        {
          "output_type": "execute_result",
          "data": {
            "text/plain": [
              "['DESCR', 'data', 'feature_names', 'filename', 'target']"
            ]
          },
          "metadata": {
            "tags": []
          },
          "execution_count": 3
        }
      ]
    },
    {
      "cell_type": "code",
      "metadata": {
        "id": "uhPdbUPOKpXj",
        "outputId": "2a5ed6f6-9f03-4a24-b4ac-9a3876e3fd51",
        "colab": {
          "base_uri": "https://localhost:8080/",
          "height": 34
        }
      },
      "source": [
        "# How many houses are there (N)\n",
        "N = 0\n",
        "N = len(house_data['data'])\n",
        "\n",
        "print (N)"
      ],
      "execution_count": 14,
      "outputs": [
        {
          "output_type": "stream",
          "text": [
            "506\n"
          ],
          "name": "stdout"
        }
      ]
    },
    {
      "cell_type": "code",
      "metadata": {
        "id": "QdqfUbyNJ1uc",
        "outputId": "4498e49a-40b2-449a-9083-29a00002f055",
        "colab": {
          "base_uri": "https://localhost:8080/",
          "height": 85
        }
      },
      "source": [
        "# A house has how many attributes(or features or signals or dimensions or columns)\n",
        "print(house_data['feature_names'])\n",
        "n = 0\n",
        "n = len(house_data['feature_names'])\n",
        "print(n)\n",
        "\n",
        "# All attributes together make up a row (or input or x)\n",
        "len(house_data['data'][0])\n"
      ],
      "execution_count": 17,
      "outputs": [
        {
          "output_type": "stream",
          "text": [
            "['CRIM' 'ZN' 'INDUS' 'CHAS' 'NOX' 'RM' 'AGE' 'DIS' 'RAD' 'TAX' 'PTRATIO'\n",
            " 'B' 'LSTAT']\n",
            "13\n"
          ],
          "name": "stdout"
        },
        {
          "output_type": "execute_result",
          "data": {
            "text/plain": [
              "13"
            ]
          },
          "metadata": {
            "tags": []
          },
          "execution_count": 17
        }
      ]
    },
    {
      "cell_type": "code",
      "metadata": {
        "id": "1WB0xwotJ1uf",
        "outputId": "f295512f-fabf-40da-9ebf-2438550abf34",
        "colab": {
          "base_uri": "https://localhost:8080/",
          "height": 34
        }
      },
      "source": [
        "# Whats the Median value of the first house (target or label or output y)\n",
        "house_data['target'][0]"
      ],
      "execution_count": 13,
      "outputs": [
        {
          "output_type": "execute_result",
          "data": {
            "text/plain": [
              "24.0"
            ]
          },
          "metadata": {
            "tags": []
          },
          "execution_count": 13
        }
      ]
    },
    {
      "cell_type": "code",
      "metadata": {
        "id": "TlEQY_uoJ1uj",
        "outputId": "87a35350-deb6-43c1-d487-add6396408da",
        "colab": {
          "base_uri": "https://localhost:8080/",
          "height": 34
        }
      },
      "source": [
        "# Whats the value of feature RM (average number of rooms per dwelling) for the last house\n",
        "house_data['data'][-1][5]"
      ],
      "execution_count": 8,
      "outputs": [
        {
          "output_type": "execute_result",
          "data": {
            "text/plain": [
              "6.03"
            ]
          },
          "metadata": {
            "tags": []
          },
          "execution_count": 8
        }
      ]
    },
    {
      "cell_type": "markdown",
      "metadata": {
        "id": "ipYK_3NaJ1ul"
      },
      "source": [
        "#### House 8 all features\n",
        "$\n",
        "\\begin{align}\n",
        "X^{8} \n",
        "\\end{align}\n",
        "$\n"
      ]
    },
    {
      "cell_type": "code",
      "metadata": {
        "id": "bWWDT0xUJ1um",
        "outputId": "9e230199-a6d0-4230-a46a-5310c3eb565e",
        "colab": {
          "base_uri": "https://localhost:8080/",
          "height": 68
        }
      },
      "source": [
        "house_data['data'][8]"
      ],
      "execution_count": 24,
      "outputs": [
        {
          "output_type": "execute_result",
          "data": {
            "text/plain": [
              "array([2.1124e-01, 1.2500e+01, 7.8700e+00, 0.0000e+00, 5.2400e-01,\n",
              "       5.6310e+00, 1.0000e+02, 6.0821e+00, 5.0000e+00, 3.1100e+02,\n",
              "       1.5200e+01, 3.8663e+02, 2.9930e+01])"
            ]
          },
          "metadata": {
            "tags": []
          },
          "execution_count": 24
        }
      ]
    },
    {
      "cell_type": "markdown",
      "metadata": {
        "id": "TyDz9PVgJ1uo"
      },
      "source": [
        "#### House 8,  feature 2\n",
        "(INDUS proportion of non-retail business acres per town)\n",
        "\n",
        "$\n",
        "\\begin{align}\n",
        "X_{2}^{8}\n",
        "\\end{align}\n",
        "$\n"
      ]
    },
    {
      "cell_type": "code",
      "metadata": {
        "id": "Rk-rGl7RJ1up",
        "outputId": "cfdfb944-5bab-4ee2-ae11-1c01fbbbc3c2",
        "colab": {
          "base_uri": "https://localhost:8080/",
          "height": 34
        }
      },
      "source": [
        "house_data['data'][8][2]"
      ],
      "execution_count": 25,
      "outputs": [
        {
          "output_type": "execute_result",
          "data": {
            "text/plain": [
              "7.87"
            ]
          },
          "metadata": {
            "tags": []
          },
          "execution_count": 25
        }
      ]
    },
    {
      "cell_type": "markdown",
      "metadata": {
        "id": "J-WooTFWJ1us"
      },
      "source": [
        "#### All houses feature 4\n",
        "(NOX nitric oxides concentration)\n",
        "\n",
        "$\n",
        "\\begin{align}\n",
        "X_{4}\n",
        "\\end{align}\n",
        "$\n"
      ]
    },
    {
      "cell_type": "code",
      "metadata": {
        "id": "jr6fsyOUJ1us",
        "outputId": "22e0c604-4cc1-45e4-9b39-4aac6f5ec4b0",
        "colab": {
          "base_uri": "https://localhost:8080/",
          "height": 1000
        }
      },
      "source": [
        "for x in range(len(house_data['data'])):\n",
        "  print(house_data['data'][x][4])"
      ],
      "execution_count": 36,
      "outputs": [
        {
          "output_type": "stream",
          "text": [
            "0.538\n",
            "0.469\n",
            "0.469\n",
            "0.458\n",
            "0.458\n",
            "0.458\n",
            "0.524\n",
            "0.524\n",
            "0.524\n",
            "0.524\n",
            "0.524\n",
            "0.524\n",
            "0.524\n",
            "0.538\n",
            "0.538\n",
            "0.538\n",
            "0.538\n",
            "0.538\n",
            "0.538\n",
            "0.538\n",
            "0.538\n",
            "0.538\n",
            "0.538\n",
            "0.538\n",
            "0.538\n",
            "0.538\n",
            "0.538\n",
            "0.538\n",
            "0.538\n",
            "0.538\n",
            "0.538\n",
            "0.538\n",
            "0.538\n",
            "0.538\n",
            "0.538\n",
            "0.499\n",
            "0.499\n",
            "0.499\n",
            "0.499\n",
            "0.428\n",
            "0.428\n",
            "0.448\n",
            "0.448\n",
            "0.448\n",
            "0.448\n",
            "0.448\n",
            "0.448\n",
            "0.448\n",
            "0.448\n",
            "0.448\n",
            "0.439\n",
            "0.439\n",
            "0.439\n",
            "0.439\n",
            "0.41\n",
            "0.403\n",
            "0.41\n",
            "0.411\n",
            "0.453\n",
            "0.453\n",
            "0.453\n",
            "0.453\n",
            "0.453\n",
            "0.453\n",
            "0.4161\n",
            "0.398\n",
            "0.398\n",
            "0.409\n",
            "0.409\n",
            "0.409\n",
            "0.413\n",
            "0.413\n",
            "0.413\n",
            "0.413\n",
            "0.437\n",
            "0.437\n",
            "0.437\n",
            "0.437\n",
            "0.437\n",
            "0.437\n",
            "0.426\n",
            "0.426\n",
            "0.426\n",
            "0.426\n",
            "0.449\n",
            "0.449\n",
            "0.449\n",
            "0.449\n",
            "0.489\n",
            "0.489\n",
            "0.489\n",
            "0.489\n",
            "0.464\n",
            "0.464\n",
            "0.464\n",
            "0.445\n",
            "0.445\n",
            "0.445\n",
            "0.445\n",
            "0.445\n",
            "0.52\n",
            "0.52\n",
            "0.52\n",
            "0.52\n",
            "0.52\n",
            "0.52\n",
            "0.52\n",
            "0.52\n",
            "0.52\n",
            "0.52\n",
            "0.52\n",
            "0.547\n",
            "0.547\n",
            "0.547\n",
            "0.547\n",
            "0.547\n",
            "0.547\n",
            "0.547\n",
            "0.547\n",
            "0.547\n",
            "0.581\n",
            "0.581\n",
            "0.581\n",
            "0.581\n",
            "0.581\n",
            "0.581\n",
            "0.581\n",
            "0.624\n",
            "0.624\n",
            "0.624\n",
            "0.624\n",
            "0.624\n",
            "0.624\n",
            "0.624\n",
            "0.624\n",
            "0.624\n",
            "0.624\n",
            "0.624\n",
            "0.624\n",
            "0.624\n",
            "0.624\n",
            "0.624\n",
            "0.871\n",
            "0.871\n",
            "0.871\n",
            "0.871\n",
            "0.871\n",
            "0.871\n",
            "0.871\n",
            "0.871\n",
            "0.871\n",
            "0.871\n",
            "0.871\n",
            "0.871\n",
            "0.871\n",
            "0.871\n",
            "0.871\n",
            "0.605\n",
            "0.605\n",
            "0.871\n",
            "0.605\n",
            "0.605\n",
            "0.605\n",
            "0.605\n",
            "0.605\n",
            "0.605\n",
            "0.605\n",
            "0.605\n",
            "0.605\n",
            "0.605\n",
            "0.605\n",
            "0.605\n",
            "0.51\n",
            "0.51\n",
            "0.51\n",
            "0.51\n",
            "0.51\n",
            "0.51\n",
            "0.51\n",
            "0.488\n",
            "0.488\n",
            "0.488\n",
            "0.488\n",
            "0.488\n",
            "0.488\n",
            "0.488\n",
            "0.488\n",
            "0.437\n",
            "0.437\n",
            "0.437\n",
            "0.437\n",
            "0.437\n",
            "0.437\n",
            "0.401\n",
            "0.401\n",
            "0.422\n",
            "0.404\n",
            "0.404\n",
            "0.404\n",
            "0.403\n",
            "0.403\n",
            "0.415\n",
            "0.415\n",
            "0.4161\n",
            "0.4161\n",
            "0.489\n",
            "0.489\n",
            "0.489\n",
            "0.489\n",
            "0.489\n",
            "0.489\n",
            "0.489\n",
            "0.489\n",
            "0.489\n",
            "0.489\n",
            "0.489\n",
            "0.55\n",
            "0.55\n",
            "0.55\n",
            "0.55\n",
            "0.507\n",
            "0.507\n",
            "0.507\n",
            "0.507\n",
            "0.504\n",
            "0.504\n",
            "0.504\n",
            "0.504\n",
            "0.504\n",
            "0.504\n",
            "0.504\n",
            "0.504\n",
            "0.507\n",
            "0.507\n",
            "0.507\n",
            "0.507\n",
            "0.507\n",
            "0.507\n",
            "0.428\n",
            "0.428\n",
            "0.428\n",
            "0.428\n",
            "0.428\n",
            "0.428\n",
            "0.431\n",
            "0.431\n",
            "0.431\n",
            "0.431\n",
            "0.431\n",
            "0.431\n",
            "0.431\n",
            "0.431\n",
            "0.431\n",
            "0.431\n",
            "0.392\n",
            "0.392\n",
            "0.394\n",
            "0.647\n",
            "0.647\n",
            "0.647\n",
            "0.647\n",
            "0.647\n",
            "0.647\n",
            "0.647\n",
            "0.647\n",
            "0.647\n",
            "0.647\n",
            "0.575\n",
            "0.575\n",
            "0.464\n",
            "0.464\n",
            "0.464\n",
            "0.464\n",
            "0.464\n",
            "0.447\n",
            "0.447\n",
            "0.447\n",
            "0.447\n",
            "0.447\n",
            "0.4429\n",
            "0.4429\n",
            "0.4429\n",
            "0.4429\n",
            "0.401\n",
            "0.4\n",
            "0.389\n",
            "0.385\n",
            "0.405\n",
            "0.405\n",
            "0.405\n",
            "0.411\n",
            "0.411\n",
            "0.411\n",
            "0.437\n",
            "0.437\n",
            "0.437\n",
            "0.437\n",
            "0.437\n",
            "0.4\n",
            "0.4\n",
            "0.4\n",
            "0.433\n",
            "0.433\n",
            "0.433\n",
            "0.472\n",
            "0.472\n",
            "0.472\n",
            "0.472\n",
            "0.544\n",
            "0.544\n",
            "0.544\n",
            "0.544\n",
            "0.544\n",
            "0.544\n",
            "0.544\n",
            "0.544\n",
            "0.544\n",
            "0.544\n",
            "0.544\n",
            "0.544\n",
            "0.493\n",
            "0.493\n",
            "0.493\n",
            "0.493\n",
            "0.493\n",
            "0.493\n",
            "0.493\n",
            "0.493\n",
            "0.46\n",
            "0.46\n",
            "0.46\n",
            "0.4379\n",
            "0.4379\n",
            "0.515\n",
            "0.515\n",
            "0.515\n",
            "0.515\n",
            "0.515\n",
            "0.515\n",
            "0.515\n",
            "0.515\n",
            "0.442\n",
            "0.518\n",
            "0.484\n",
            "0.484\n",
            "0.442\n",
            "0.442\n",
            "0.429\n",
            "0.435\n",
            "0.429\n",
            "0.429\n",
            "0.411\n",
            "0.411\n",
            "0.41\n",
            "0.413\n",
            "0.413\n",
            "0.77\n",
            "0.77\n",
            "0.77\n",
            "0.77\n",
            "0.77\n",
            "0.77\n",
            "0.77\n",
            "0.77\n",
            "0.718\n",
            "0.718\n",
            "0.718\n",
            "0.631\n",
            "0.631\n",
            "0.631\n",
            "0.631\n",
            "0.631\n",
            "0.668\n",
            "0.668\n",
            "0.668\n",
            "0.671\n",
            "0.671\n",
            "0.671\n",
            "0.671\n",
            "0.671\n",
            "0.671\n",
            "0.671\n",
            "0.7\n",
            "0.7\n",
            "0.7\n",
            "0.7\n",
            "0.7\n",
            "0.7\n",
            "0.7\n",
            "0.7\n",
            "0.7\n",
            "0.7\n",
            "0.7\n",
            "0.693\n",
            "0.693\n",
            "0.693\n",
            "0.693\n",
            "0.693\n",
            "0.693\n",
            "0.693\n",
            "0.693\n",
            "0.693\n",
            "0.693\n",
            "0.693\n",
            "0.693\n",
            "0.693\n",
            "0.659\n",
            "0.659\n",
            "0.597\n",
            "0.597\n",
            "0.597\n",
            "0.597\n",
            "0.597\n",
            "0.597\n",
            "0.693\n",
            "0.679\n",
            "0.679\n",
            "0.679\n",
            "0.679\n",
            "0.718\n",
            "0.718\n",
            "0.718\n",
            "0.614\n",
            "0.614\n",
            "0.584\n",
            "0.679\n",
            "0.584\n",
            "0.679\n",
            "0.679\n",
            "0.679\n",
            "0.584\n",
            "0.584\n",
            "0.584\n",
            "0.713\n",
            "0.713\n",
            "0.74\n",
            "0.74\n",
            "0.74\n",
            "0.74\n",
            "0.74\n",
            "0.74\n",
            "0.74\n",
            "0.74\n",
            "0.74\n",
            "0.74\n",
            "0.74\n",
            "0.74\n",
            "0.74\n",
            "0.713\n",
            "0.713\n",
            "0.713\n",
            "0.713\n",
            "0.713\n",
            "0.713\n",
            "0.713\n",
            "0.713\n",
            "0.713\n",
            "0.713\n",
            "0.713\n",
            "0.713\n",
            "0.713\n",
            "0.713\n",
            "0.713\n",
            "0.713\n",
            "0.655\n",
            "0.655\n",
            "0.655\n",
            "0.584\n",
            "0.58\n",
            "0.58\n",
            "0.58\n",
            "0.532\n",
            "0.58\n",
            "0.614\n",
            "0.584\n",
            "0.584\n",
            "0.614\n",
            "0.614\n",
            "0.614\n",
            "0.614\n",
            "0.532\n",
            "0.532\n",
            "0.532\n",
            "0.532\n",
            "0.583\n",
            "0.583\n",
            "0.583\n",
            "0.583\n",
            "0.609\n",
            "0.609\n",
            "0.609\n",
            "0.609\n",
            "0.609\n",
            "0.585\n",
            "0.585\n",
            "0.585\n",
            "0.585\n",
            "0.585\n",
            "0.585\n",
            "0.585\n",
            "0.585\n",
            "0.573\n",
            "0.573\n",
            "0.573\n",
            "0.573\n",
            "0.573\n"
          ],
          "name": "stdout"
        }
      ]
    },
    {
      "cell_type": "markdown",
      "metadata": {
        "id": "G9y53q56J1uw"
      },
      "source": [
        "#### Target value for house 4\n",
        "$\n",
        "Y^{4}\n",
        "$\n"
      ]
    },
    {
      "cell_type": "code",
      "metadata": {
        "id": "VSMD3WbOJ1uw",
        "outputId": "502b4074-688a-4587-eec9-f0d37c8cd882",
        "colab": {
          "base_uri": "https://localhost:8080/",
          "height": 34
        }
      },
      "source": [
        "house_data['target'][4]"
      ],
      "execution_count": 27,
      "outputs": [
        {
          "output_type": "execute_result",
          "data": {
            "text/plain": [
              "36.2"
            ]
          },
          "metadata": {
            "tags": []
          },
          "execution_count": 27
        }
      ]
    },
    {
      "cell_type": "markdown",
      "metadata": {
        "id": "OtqS8i7fJ1uz"
      },
      "source": [
        "Small *x* and *y* are used to represent a *feature* and *target* of a single house\n",
        "#### Which among the following could be valid representation?\n",
        "$\n",
        "x^{4}\\:, \\: x_{2}\\:,\\:y^{4}\\:,\\:y_{2}\n",
        "$\n",
        "\n"
      ]
    },
    {
      "cell_type": "code",
      "metadata": {
        "id": "MRmV9DovJ1uz"
      },
      "source": [
        "𝑥2"
      ],
      "execution_count": null,
      "outputs": []
    }
  ]
}