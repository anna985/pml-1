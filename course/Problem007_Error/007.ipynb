{
  "nbformat": 4,
  "nbformat_minor": 0,
  "metadata": {
    "kernelspec": {
      "display_name": "Python 3",
      "language": "python",
      "name": "python3"
    },
    "language_info": {
      "codemirror_mode": {
        "name": "ipython",
        "version": 3
      },
      "file_extension": ".py",
      "mimetype": "text/x-python",
      "name": "python",
      "nbconvert_exporter": "python",
      "pygments_lexer": "ipython3",
      "version": "3.8.2-final"
    },
    "colab": {
      "name": "Copy of 007.ipynb",
      "provenance": [],
      "include_colab_link": true
    }
  },
  "cells": [
    {
      "cell_type": "markdown",
      "metadata": {
        "id": "view-in-github",
        "colab_type": "text"
      },
      "source": [
        "<a href=\"https://colab.research.google.com/github/anna985/pml-1/blob/master/course/Problem007_Error/007.ipynb\" target=\"_parent\"><img src=\"https://colab.research.google.com/assets/colab-badge.svg\" alt=\"Open In Colab\"/></a>"
      ]
    },
    {
      "cell_type": "markdown",
      "metadata": {
        "id": "k1BQePcEZ537"
      },
      "source": [
        "##  $\\hat{y}$ (y_hat)"
      ]
    },
    {
      "cell_type": "code",
      "metadata": {
        "scrolled": true,
        "id": "BA0bcNpAZ538",
        "outputId": "3edef069-abce-4173-c38c-92bb7463c03a",
        "colab": {
          "base_uri": "https://localhost:8080/"
        }
      },
      "source": [
        "'''\n",
        "+--------------+\n",
        "| f            |\n",
        "+--------------+\n",
        "| x1 | x2 | y  |\n",
        "+----+----+----+\n",
        "| 2  | 3  | 4  |\n",
        "+----+----+----+\n",
        "| 8  | 5  | 10  |\n",
        "+----+----+----+\n",
        "| 6  | 4  | 6  |\n",
        "+----+----+----+\n",
        "| 10 | 2  | 8  |\n",
        "+----+----+----+\n",
        "| 4  | 2  | 3  |\n",
        "+----+----+----+\n",
        "| 16 | 7  | 1 |\n",
        "+----+----+----+\n",
        "'''\n",
        "\n",
        "X = [\n",
        "    [2, 3],\n",
        "    [8, 5],\n",
        "    [6, 4],\n",
        "    [10, 2],\n",
        "    [4, 2],\n",
        "    [16, 7]\n",
        "]\n",
        "\n",
        "Y = [4, 10, 6, 8, 3, 1]\n",
        "\n",
        "\n",
        "def f_hat(x1, x2):\n",
        "    return int(x1/2 + x2)\n",
        "\n",
        "#TBD Compute Y_hat where y_hat = f_hat(x1, x2)\n",
        "Y_hat = [f_hat(x[0], x[1]) for x in X]\n",
        "Y_hat"
      ],
      "execution_count": null,
      "outputs": [
        {
          "output_type": "execute_result",
          "data": {
            "text/plain": [
              "[4, 9, 7, 7, 4, 15]"
            ]
          },
          "metadata": {
            "tags": []
          },
          "execution_count": 2
        }
      ]
    },
    {
      "cell_type": "markdown",
      "metadata": {
        "id": "AmUcIV_FZ54A"
      },
      "source": [
        "## How far off are we? (Y vs $\\hat{Y}$)"
      ]
    },
    {
      "cell_type": "code",
      "metadata": {
        "id": "8wpwlVxUZ54B",
        "outputId": "be6a1231-ba1f-4527-e55a-c7c28c731738",
        "colab": {
          "base_uri": "https://localhost:8080/"
        }
      },
      "source": [
        "#TBD Compute Total(sum) Error between Y and Y_hat \n",
        "total_error = sum([z[0] - z[1] for z in zip(Y, Y_hat)])\n",
        "print(total_error)\n",
        "\n",
        "#TBD Compute Total absolute Error between Y and Y_hat \n",
        "total_abs_error = sum([abs(z[0] - z[1]) for z in zip(Y, Y_hat)])\n",
        "print(total_abs_error)\n",
        "\n",
        "#TBD Compute Mean absolute Error between Y and Y_hat\n",
        "mean_abs_error = total_abs_error/len(Y)\n",
        "print(mean_abs_error)\n",
        "\n",
        "#TBD Compute Mean Squared Error between Y and Y_hat\n",
        "mean_squared_error = sum([(z[0] - z[1])**2 for z in zip(Y, Y_hat)])/len(Y)\n",
        "print(mean_squared_error)"
      ],
      "execution_count": null,
      "outputs": [
        {
          "output_type": "stream",
          "text": [
            "-14\n",
            "18\n",
            "3.0\n",
            "33.333333333333336\n"
          ],
          "name": "stdout"
        }
      ]
    },
    {
      "cell_type": "code",
      "metadata": {
        "id": "XeDaFa1zZ54E",
        "outputId": "06e2605e-8a02-4bf3-8b72-3ab9810b55c7",
        "colab": {
          "base_uri": "https://localhost:8080/"
        }
      },
      "source": [
        "from sklearn.metrics import mean_absolute_error, mean_squared_error\n",
        "#Use sklearn\n",
        "#TBD Compute Mean absolute Error between Y and Y_hat \n",
        "#mean_absolute_error(Y, Y_hat)\n",
        "\n",
        "\n",
        "#TBD Compute Mean squared Error between Y and Y_hat\n",
        "mean_squared_error(Y, Y_hat)"
      ],
      "execution_count": 8,
      "outputs": [
        {
          "output_type": "execute_result",
          "data": {
            "text/plain": [
              "33.333333333333336"
            ]
          },
          "metadata": {
            "tags": []
          },
          "execution_count": 8
        }
      ]
    },
    {
      "cell_type": "code",
      "metadata": {
        "id": "ShgoVdDGCfTz"
      },
      "source": [
        ""
      ],
      "execution_count": null,
      "outputs": []
    }
  ]
}