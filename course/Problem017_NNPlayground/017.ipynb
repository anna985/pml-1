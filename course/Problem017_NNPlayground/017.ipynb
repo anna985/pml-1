{
  "nbformat": 4,
  "nbformat_minor": 0,
  "metadata": {
    "kernelspec": {
      "display_name": "Python 3",
      "language": "python",
      "name": "python3"
    },
    "language_info": {
      "codemirror_mode": {
        "name": "ipython",
        "version": 3
      },
      "file_extension": ".py",
      "mimetype": "text/x-python",
      "name": "python",
      "nbconvert_exporter": "python",
      "pygments_lexer": "ipython3",
      "version": "3.8.2-final"
    },
    "colab": {
      "name": "Copy of 017.ipynb",
      "provenance": [],
      "include_colab_link": true
    }
  },
  "cells": [
    {
      "cell_type": "markdown",
      "metadata": {
        "id": "view-in-github",
        "colab_type": "text"
      },
      "source": [
        "<a href=\"https://colab.research.google.com/github/anna985/pml-1/blob/master/course/Problem017_NNPlayground/017.ipynb\" target=\"_parent\"><img src=\"https://colab.research.google.com/assets/colab-badge.svg\" alt=\"Open In Colab\"/></a>"
      ]
    },
    {
      "cell_type": "markdown",
      "metadata": {
        "id": "PYiQMmndGOmo"
      },
      "source": [
        ""
      ]
    },
    {
      "cell_type": "markdown",
      "metadata": {
        "id": "nrDbQ86ZGOmt"
      },
      "source": [
        "## Visit [Neural Network Playground](https://playground.tensorflow.org)"
      ]
    },
    {
      "cell_type": "markdown",
      "metadata": {
        "id": "TheRF54HGOmu"
      },
      "source": [
        "## TBD: In the above site, how many of the following terms do you understand? (Arranged in order from simple to complex)\n",
        "\n",
        "### Features, Output, Problem type, Neuron, Ratio of training to test data, Layers, Activation, Data, Colors in various context, Batch size, Epoch, Test Loss, Training Loss, Weights, Test Data, Learning Rate, Regularization, Regularization Rate,"
      ]
    },
    {
      "cell_type": "markdown",
      "metadata": {
        "id": "4f8oIB2NGOmv"
      },
      "source": [
        "## TBD Your lowest Test Loss on Classification Problems\n",
        "\n",
        "a) Circle\n",
        "\n",
        "b) Exclusive or\n",
        "\n",
        "c) Guassian\n",
        "\n",
        "d) Spiral "
      ]
    },
    {
      "cell_type": "markdown",
      "metadata": {
        "id": "wELF1I6EGOmv"
      },
      "source": [
        "## TBD Your lowest Test Loss on Regression Problems\n",
        "\n",
        "a) Plane\n",
        "\n",
        "b) Multi Guassian\n",
        "\n"
      ]
    },
    {
      "cell_type": "markdown",
      "metadata": {
        "id": "FVu5nKHdGOmw"
      },
      "source": [
        "## TBD Feature Engineering\n",
        "\n",
        "a) On classification problem for Circles dataset, beat or match your lowest test score without using any hidden layer\n",
        "\n",
        "\n",
        "\n"
      ]
    },
    {
      "cell_type": "code",
      "metadata": {
        "id": "vhykIQEUGOmx"
      },
      "source": [
        ""
      ],
      "execution_count": null,
      "outputs": []
    }
  ]
}