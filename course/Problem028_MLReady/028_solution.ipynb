{
  "nbformat": 4,
  "nbformat_minor": 0,
  "metadata": {
    "kernelspec": {
      "display_name": "Python 3",
      "language": "python",
      "name": "python3"
    },
    "language_info": {
      "codemirror_mode": {
        "name": "ipython",
        "version": 3
      },
      "file_extension": ".py",
      "mimetype": "text/x-python",
      "name": "python",
      "nbconvert_exporter": "python",
      "pygments_lexer": "ipython3",
      "version": "3.8.2-final"
    },
    "colab": {
      "name": "Copy of 028_solution.ipynb",
      "provenance": [],
      "include_colab_link": true
    }
  },
  "cells": [
    {
      "cell_type": "markdown",
      "metadata": {
        "id": "view-in-github",
        "colab_type": "text"
      },
      "source": [
        "<a href=\"https://colab.research.google.com/github/anna985/pml-1/blob/master/course/Problem028_MLReady/028_solution.ipynb\" target=\"_parent\"><img src=\"https://colab.research.google.com/assets/colab-badge.svg\" alt=\"Open In Colab\"/></a>"
      ]
    },
    {
      "cell_type": "markdown",
      "metadata": {
        "id": "lsV3v-9arSyM"
      },
      "source": [
        "## Titanic Datset\n",
        "## Predict passenger's survival in titanic accident, given the passenger attributes."
      ]
    },
    {
      "cell_type": "code",
      "metadata": {
        "pycharm": {
          "name": "#%%\n"
        },
        "id": "G0_TIqbirSyS"
      },
      "source": [
        "from sklearn.datasets import fetch_openml\n",
        "d  = fetch_openml(name=\"Titanic\", as_frame=True, version=1)\n",
        "df = d[\"frame\"]\n",
        "print(d['DESCR'])\n",
        "# df.head(5)"
      ],
      "execution_count": null,
      "outputs": []
    },
    {
      "cell_type": "markdown",
      "metadata": {
        "id": "5strCAblrSyS"
      },
      "source": [
        "Features description\n",
        "\n",
        "* pclass    Class (1 = First, 2 = Second, 3 = Third)\n",
        "* survived  (0 = died, 1 = survived)\n",
        "* name\n",
        "* sex\n",
        "* age\n",
        "* sibsp (Number of siblings/spouses on board)\n",
        "* parch (Number of parents/children on board)\n",
        "* ticket (Ticket Number)\n",
        "* fare  (Price of the ticket)\n",
        "* cabin (Cabin Number)\n",
        "* embarked (Place where passeneger embarked C = Cherbourg; Q = Queenstown; S = Southampton)\n",
        "* boat (Lifeboat ID if passenger was rescued)\n",
        "* body (Body ID if passenger died and body was recovered)\n",
        "* home.dest (Passenger Hometown)\n",
        "\n",
        "Types of features \n",
        "* Categorical (Number or Text)\n",
        "    * Ordinal\n",
        "    * Nominal\n",
        "* Numerical\n",
        "* Text\n",
        "    \n",
        "TBD: What is the type for following features. (choose from above)\n",
        "* name (Text)\n",
        "* sex  (Nominal)\n",
        "* age  (Numerical)\n",
        "* ticket (Text)\n",
        "* embarked (port of embarkment) (Nominal)\n",
        "* survived (Nominal)\n",
        "* parch (number of parents/children aboard) (Numerical)\n",
        "* pclass (Ordinal)\n",
        "\n"
      ]
    },
    {
      "cell_type": "code",
      "metadata": {
        "pycharm": {
          "name": "#%%\n"
        },
        "id": "gpONoPIirSyT"
      },
      "source": [
        "# Missing Data\n",
        "## TBD Which features in Titanic dataset have missing data\n",
        "\n",
        "df.info()"
      ],
      "execution_count": null,
      "outputs": []
    },
    {
      "cell_type": "markdown",
      "metadata": {
        "id": "mamjqC7vrSyT"
      },
      "source": [
        "## ML Ready: Is data ready to be fed to a classification problem?\n",
        "## TBD: What are 3 main issues that needs to be resolved in data?\n",
        "1. Missing data either needs to be imputed or removed\n",
        "2. Text data either needs to be vectorized or removed if not relevant\n",
        "3. Categorical data needs to be encoded"
      ]
    },
    {
      "cell_type": "code",
      "metadata": {
        "id": "cacQwSQsrSyU"
      },
      "source": [
        "import pandas as pd\n",
        "\n",
        "def cleaner(df):\n",
        "  for col_name in df.columns:    \n",
        "      if df[col_name].dtype.name == 'category': \n",
        "        # Convert categorical types\n",
        "        df[col_name] = df[col_name].cat.codes\n",
        "      if df[col_name].dtype.name == 'object':\n",
        "        df = df.drop(columns=[col_name])\n",
        "  return df\n",
        "\n",
        "def titanic_cleaner(df):\n",
        "    df = df.drop(columns = ['body']) \n",
        "    return df.dropna()\n",
        "\n",
        "#TBD Using above 2 naive cleaner functions clean the titanic dataframe \n",
        "\n",
        "df = titanic_cleaner(cleaner(df))\n",
        "df.info()"
      ],
      "execution_count": null,
      "outputs": []
    },
    {
      "cell_type": "markdown",
      "metadata": {
        "id": "dZCmvf2RrSyU"
      },
      "source": [
        "## TBD Split the data into train test (test_size=0.25, random_state=101)"
      ]
    },
    {
      "cell_type": "code",
      "metadata": {
        "id": "mGr7mLRCrSyU"
      },
      "source": [
        "from sklearn.model_selection import train_test_split\n",
        "from sklearn.model_selection import train_test_split\n",
        "import numpy as np\n",
        "Y = np.array(df['survived'])\n",
        "# dfx = df2.loc[:, df2.columns != 'survived']\n",
        "X = df.drop('survived', axis = 1)\n",
        "\n",
        "X_train, X_test, Y_train, Y_test = train_test_split(X, Y, test_size=0.25, random_state=101)"
      ],
      "execution_count": null,
      "outputs": []
    },
    {
      "cell_type": "markdown",
      "metadata": {
        "id": "agrT7PJKrSyU"
      },
      "source": [
        "## TBD Apply Logistic Regression "
      ]
    },
    {
      "cell_type": "code",
      "metadata": {
        "id": "LmkoqG1frSyV"
      },
      "source": [
        "from sklearn.model_selection import train_test_split\n",
        "from sklearn.linear_model import LogisticRegression\n",
        "from sklearn.metrics import accuracy_score\n",
        "\n",
        "model = LogisticRegression()\n",
        "model.fit(X_train, Y_train)\n",
        "#TBD Accuracy Score on test set\n",
        "Y_hat = model.predict(X_test)\n",
        "# Baseline\n",
        "accuracy_score(Y_test, Y_hat)"
      ],
      "execution_count": null,
      "outputs": []
    },
    {
      "cell_type": "code",
      "metadata": {
        "pycharm": {
          "name": "#%%\n"
        },
        "id": "jTTJ0G_trSyV"
      },
      "source": [
        "## What are the top 3 most important features for predicting survival?\n",
        "import matplotlib.pyplot as plt\n",
        "print(np.round(model.coef_, 2))\n",
        "plt.bar(X.columns, model.coef_.reshape(-1,), tick_label=X.columns)"
      ],
      "execution_count": null,
      "outputs": []
    },
    {
      "cell_type": "code",
      "metadata": {
        "pycharm": {
          "name": "#%%\n"
        },
        "id": "3QOJiQE4rSyW"
      },
      "source": [
        ""
      ],
      "execution_count": null,
      "outputs": []
    }
  ]
}